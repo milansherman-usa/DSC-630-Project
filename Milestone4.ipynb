{
 "cells": [
  {
   "cell_type": "markdown",
   "id": "e1af77f4",
   "metadata": {},
   "source": [
    "## Milestone 4\n",
    "### DSC 630\n",
    "### Phil Sang Han and Milan Sherman"
   ]
  },
  {
   "cell_type": "markdown",
   "id": "3747ae56",
   "metadata": {},
   "source": [
    "## Milestones 2 and 3"
   ]
  },
  {
   "cell_type": "markdown",
   "id": "a4fae2c5",
   "metadata": {},
   "source": [
    "## Milestone 2\n",
    "### What types of model or models do you plan to use and why?\n",
    "- As we are trying to predict a binary outcome, i.e. whether a user will purchase a life insurance policy, we will use a classification model.  We plan to use a logistic regression model as our baseline model, and to also develop a random forest classifier to see if we can improve upon the logistic regression model.  After assessing the accuracy of these models and gaining a better understanding of our data, we will discuss whether or not another model has the potential to improve accuracy over these two models, and which may be most promising.\n",
    "\n",
    "### How do you plan to evaluate your results?\n",
    "- Accuracy will be an important metric for any models we create, but given the current scale of users who are approved for a policy and the number of agents we have contacting them, we have more tolerance for a false positive than a false negative.  Currently, our agents have plenty of capacity for contacting users who have been approved, so we would rather err on the side of misidentifying a user as a good candidate to contact than to not contact a user who has been misclassified as not a good candidate.  Since we would like to minimize false negatives over false positive, i.e., we would like our model to be optimistic, an important metric for us to evaluate results will be recall.  Especially of our classes are imbalanced, this may be a more important metric than accuracy when comparing models.\n",
    "\n",
    "### What do you hope to learn?\n",
    "There are two questions that we hope to answer with this model:\n",
    "1.\tWho should we target with marketing?\n",
    "2.\tHow important is the difference between the quoted and approved premiums in influencing whether a user will buy a policy?\n",
    "- The purpose of this model is very specific: the users identified in this model have applied for a life insurance policy and been approved but have not bought a policy.  Given that only 30-40% of users who apply for a policy are approved, this is an important group of potential customers for the company to focus on as they’ve already cleared an important barrier to becoming a customer by getting approved.  This model will help the company understand who to target with marketing.  Currently the marketing action that the company is taking with these customers is to have an agent contact the user via phone to follow up and answer questions.  This model would allow agents to focus on users with a good chance of purchasing while at the same time not wasting time contacting users with a high probability of purchasing even if they are not contacted.  \n",
    "- The other thing that we hope to learn is related to how our software generates insurance premium quotes.  We have found that more than half of users are shown a higher premium after they are approved than what they saw when they generated an instant quote at the start of the process.  By including the difference between these two premiums as a feature in the model and understanding its importance to the accuracy of the model, the company can begin to quantify how this feature is impacting the business and take appropriate action.  For example, if the model shows that users who see a premium that is more than 50% higher at approval are much less likely to buy a policy, then the software can be configured to try to make those premiums closer in price.\n",
    "\n",
    "### Assess any risks with your proposal\n",
    "- The main risk with this proposal is that the results are inconclusive.  Care will need to be taken to identify the limits of what can be learned from the model, especially regarding the importance of the feature that quantifies the difference between the quoted and approved premiums.  For example, it could be the case that users who see a larger difference between the quoted and approved premiums are also the users who are seeing the highest premiums. Thus, it could be that the reason that they are not purchasing a policy is due to the price of the premium and not necessarily due to the difference between the two premiums.  Thus, we may need to build two models, one with and one without this feature in order to understand its importance.\n",
    "- Another risk we will need to monitor is whether our model tends to be biased toward a particular demographic.  At the core of our company’s mission is to provide affordable life insurance to people in traditionally marginalize demographics.  As life insurance has traditionally been agent driven, and agents work on commission, higher SES demographics have had greater access to life insurance.  We will want to monitor our results to see if our model replicates this bias.\n",
    "\n",
    "### Identify a contingency plan if your original project plan does not work out\n",
    "- We can certainly build a model using the features that we have identified, so in that sense we don’t believe that there is a scenario where it doesn’t work out.  What is in question is whether the model will be accurate enough to answer the questions we are asking.  Given that we are asking two questions with this project, if we end up with a model that is not accurate enough to deploy, we can focus on understanding the importance of the premium difference feature as it relates to users buying a policy or not.  Answering this question will provide insight regardless of what we find.\n",
    "\n",
    "### Data\n",
    "Below are the features in the dataset that Sherman has access to from the Data Science team at his company.  As we build our model, we will evaluate if any other features would be useful and/or if some of the features included can be eliminated in favor of a more parsimonious model.  There are a few features we will need to follow up on with the Data Science team to understand what they represent.\n",
    "- Total_seconds - the amount of time spent by the user on the site\n",
    "- Avg seconds per sessions - if the user had multiple sessions, this is average amount of time spent\n",
    "- Face value: the value of the policy if the insured dies\n",
    "- Income - of the user applying\n",
    "- Lrc_score - I think this is a measure of risk, where a high score means the user is less risky to insure and therefore will likely get a better price\n",
    "- Bmi - body mass index, uses height and weight to give a single number that is used to assess risk, i.e., someone with a high BMI is less healthy, higher risk\n",
    "- Open_to_submit_min: the number of minutes it took the user to complete and submit the application\n",
    "- Submit to approve min: the number of minutes it took for the application to get approved via the automated underwriting process\n",
    "- Pre-approval interactions: not sure about this exactly.  Bind means they bought a policy, so this is tracking what the user did before they were approved for a policy.  We need to check what kinds of interactions are tracked here.\n",
    "- Term length year: how many years the policy is for.  For example, if you buy a 20-year policy, the beneficiary only collects the face value of the policy if you die within 20 years\n",
    "- Age: age of the user\n",
    "- Post-approval pre-bind interactions: not sure, exactly.  Bind means they bought a policy, so this is tracking what the user did after they were approved for a policy but before they bought it. We need to check what kinds of interactions are tracked here.\n",
    "- Anonid_unique: unique identifier of the user\n",
    "- Sessions_uniq: number of unique sessions of the user\n",
    "- Gclid_count: not sure\n",
    "- Event total: total number of events that the user engaged in.  Events are things like visiting the site, getting a quote, completing the application, etc.\n",
    "- Total_seconds: not sure how this differs from the first feature\n",
    "- Gender: gender of user\n",
    "- Channel_combined: channel is what marketing channel the user came to the site from, but I’m not sure what channel_combined represents\n",
    "- Device: the device the session was completed on\n",
    "- Device name: name of device\n",
    "- Current ins; if the user currently has life insurance\n",
    "- Employment status: employed or not\n",
    "- Business line: we have four lines of business that users can purchase a policy through\n",
    "- Rx result: I think this is the result of the medical background check done during the automated underwriting process\n",
    "- Premium delta: difference in the premium that the user sees from the quote they got to the premium they see after they are approved.  \n",
    "\n",
    "\n",
    "\n",
    "\n",
    "## Milestone 3  \n",
    "\n",
    "### Will I be able to answer the questions I want to answer with the data I have?\n",
    "- We will definitely be able to build a classification model with this data to predict which users approved for a policy are likely to bind\n",
    "#### How does the premium change from quote to approved in this dataset?\n",
    "    - About 60% of users saw an increase in premium from quote to approved, which is premium difference (quote minus approved). \n",
    "    - On average, the raw difference was about $30 more at approved, or 56%\n",
    "    - These numbers are close to what Sherman observed in the larger dataset, indicating that this is a representative dataset with regard to the primary variable of interest.\n",
    "- What is the distribution of the raw difference and the percent difference?\n",
    "    - The distribution of the raw difference and the percent difference are both negatively skewed (skewed to the left).\n",
    "- What proportion of users see an increase?\n",
    "    - Based on our analysis, about 60% of users saw an increase in premium from quote to approved, which is premium difference (quote minus approved).\n",
    "\n",
    "- How is this variable related to other variables in the dataset, especially the target variable?\n",
    "    - When users shop for a long-term insurance, users are shown the quote. But after having their application approved for the same product and face value, a previous analysis showed that more than half the time, the premium the users ended up purchasing is higher than the one shown when they got a quote.  Thus, we are interested in finding out if this variable, premium difference (quote minus approved), is shown along with a quote, what impact it would have on the target variable (i.e. users’ purchasing decision).  Specifically, we’d like to learn more if our models show the ‘premium difference’ will lead users to more likely buy a premium or not.     \n",
    "\n",
    "- What visualizations are especially useful for explaining my data?\n",
    "    - We created a heatmap of a correlation matrix for our numerical features (shown below)\n",
    "    - This allowed us to identify:\n",
    "        - A feature with no variation (the white line though the middle of the heatmap). \n",
    "        - Perfectly or highly correlated features that are redundant and thus one of them can be removed\n",
    "        - These are discussed in greater detail in the next section\n",
    "    - Another useful visualization is a barplot of the distribution of the target variable, bind, which indicates whether a given user bound a policy or not.  This is important to understand as an imbalanced target would require that we make some adjustments prior to model building, such upsampling or downsampling.  The plot below show that more users did not bind, but that our target is not so imbalanced as to require some correction before modeling\n",
    "\n",
    " \n",
    "\n",
    "### Do I need to adjust the data and/or driving questions?\n",
    "- Our dataset consists of combining two data sources\n",
    "    - User (127k observations): A dataset of users who were approved for a life insurance product (this represents about 30-40% of users who apply).  Some of these users bought a policy (referred to as ‘binding’) and some did not.  Each observation includes a binary variable for bind, which is our target\n",
    "    - Quote (101k observations): The second dataset was generated by Sherman as part of an analysis he did that examines the premium that users are quoted when they first get to the site based on a few inputs: including gender, age, height, weight, and zip code, and the premium they are shown after being approved for the same product.  This dataset includes the premium at quote, the premium at approved, the raw difference, and the difference as a percent of the quoted premium.  The company is particularly interested in the importance of this difference in the model\n",
    "        - After the joining the dataset based on the unique identifier application id, we have a dataset of about 45k observations\n",
    "        - In analyzing the categorical variables, it was discovered that there are only 41.7k unique application ids in our dataset of 45k.  As application id is the unique identifier for our data, this implies that we have some duplicates, which we removed.  Unfortunately, this further reduces the amount of data we have to train our model on.\n",
    "\n",
    "#### This leads to the following question: will including the premium difference between the quoted and approved premiums improve our model more than including more observations?\n",
    "- A model could be built from the users dataset alone, which does not include that feature but would have three times as many observations.\n",
    "- To answer this question, we return to our driving questions:\n",
    "- Can we accurately predict whether a user who is approved for a policy will bind?  For this question it makes sense to create models using both datasets to see which data provides better predictions.\n",
    "- How does the difference between quoted and approved premiums influence users’ decision to bind or not?  One way to answer that question is to create models with and without this feature, and assess how the inclusion of this feature affects the models accuracy.  For this analysis, it makes sense to use the same dataset but with this feature removed, i.e. hold everything else constant to assess the importance of this feature.\n",
    "\n",
    "### Data Dictionary \n",
    "- After meeting with a member of the Data Science team this is the updated data dictionary\n",
    "#### From the user dataset\n",
    "    - application_id: categorical, unique identifier of the application\n",
    "    - bind_date: date, the date of when the applicant bound a policy (needs to be removed from model to avoid leakage)\n",
    "    - open_to_submit_min: integer, number of minutes to complete and submit the application\n",
    "    - submit_to_approve_min: integer, number of minutes for the application to get approved after it is submitted\n",
    "    - channel_combined: categorical, marketing channel(s) responsible for the application start \n",
    "    - business_line: categorical, direct, protect, core, advisors\n",
    "    - open_date: date, the date the application was started\n",
    "    - bind: binary, indicating if the applicant bound a policy (target variable)\n",
    "    - anonid_uniq: number of anonymous id's from segment\n",
    "    - sessions_uniq: number of unique sessions\n",
    "    - event_total: number of events\n",
    "    - session_pageload_total: number of session page loads\n",
    "    - url_uniq: number of unique url's accessed by the user\n",
    "    - total_seconds: how long on the web site\n",
    "    - device: device type, i.e., phone, tablet, desktop\n",
    "    - device_name: device type + OS\n",
    "    - avg_seconds_per_session: average time per session in second\n",
    "    - avg_events_per_session: average number of events per session\n",
    "    - event_len: average number of seconds per event\n",
    "    - gender: gender of applicant\n",
    "    - tb: binary, tobacco user or not\n",
    "    - current_ins: binary, does the applicant currently have life insurance\n",
    "    - rx_result: (remove)\n",
    "    - replacement_ins: binary, does the applicant currently have replacement insurance (what is replacement insurance?)\n",
    "    - legal_resident: resident or visa\n",
    "    - employment_status: 'fulltime', 'parttime', 'fulltime_student', 'retired','stay_at_home', 'parttime_student', 'unemployed'\n",
    "    - postal_code_address: zip code of home address\n",
    "     income_payment_period: how frequently the applicant gets paid\n",
    "     - designate_secondary_contact: no non-null values, so this can be removed\n",
    "     - alcohol_weekly: number of drinks per week as reported by the applicant\n",
    "     - disability_pmts: binary, does (or has?) the applicant receive(d) diability payments (history)\n",
    "     - term_length_years: length of term (this will likely be removed, but compare to term length from quote)\n",
    "     - household_income: reported household income (verify)\n",
    "     - lrc_score: brought in from vendor risk score from lexus nexes, mortality risk score. This generally highly correlated with being approved\n",
    "     - face_value: face value of the policy (this will likely be removed, but compare to face value from quote)\n",
    "     - previous_declined: binary, has the applicant been previously declined for life insurance\n",
    "     - travel_countries_count: number of countries the applicant has visited\n",
    "     - med_conditions_count: number of medical conditions the applicant has history\n",
    "     - bmi: body mass index of applicant\n",
    "     - age: age of applicant\n",
    "     - income: income of applicant\n",
    "     - annual_premium_estimated: the annual premium shown to the applicant after approval (this will likely be removed, but compare to premium from quote)\n",
    "     - income_comb: annual income\n",
    "     - income_prem_ratio: rato of income to premium (annual)\n",
    "\n",
    "#### From the quote dataset\n",
    "- created_at: when the application was started\n",
    "- business_line_y: business line, join on this\n",
    "- quote_id: quote id associated with the approved app\n",
    "- face_amount: face amount of the approved policy\n",
    "- product: procuct code, including term length\n",
    "- quoted_risk_class: the risk class that the applicant was put it at quote\n",
    "- approved_risk_class: the risk class the applicant was put it after approval\n",
    "- quoted_premium: the monthly premium shown at quote\n",
    "- approved_premium: the monthly premium shown after approval\n",
    "- premium_difference: the difference between the two premiums (quote - approved)\n",
    "- premium_pct_diff: the percent difference between the two premiums (quote - approved)/quote\n",
    "    \n",
    "#### After discussing with the data science team, the following fields can be removed\n",
    "- The following two field should be removed to avoid leakage, as these would only be known after the user binds\n",
    "    - post_bind_interactions\n",
    "    - total_interactions: sum of the previous three fields (including post bind interactions)\n",
    "- utm_source_len: not sure how the length of the various parts of the utm is relevant to predicting bind\n",
    "- utm_medium_len\n",
    "- utm_campaign_len\n",
    "- utm_term_len\n",
    "- referrer_host_len\n",
    "- record_created_at: when the data was pulled\n",
    "- mvr_points\n",
    "- mvr_order_status\n",
    "- zip_d1\n",
    "- income_grp_v1: binned income group: under 50k, 50k-100k, 100k+\n",
    "- income_grp_v2: binned income group; under 50k, 50k+\n",
    "\n",
    "### Data cleaning\n",
    "- We had significant work to do in understanding our dataset and cleaning it up\n",
    "- We started with over 70 features, so it was important that we understood each one, including missing values, distribution, correlation, etc. in order to get to a set of features that provides the most accurate model by selecting those features and combination of features that are most informative regarding whether or not an approved user will purchase a policy\n",
    "\n",
    "#### Data cleaning steps:\n",
    "- Verified how income to premium ratio is defined in the data, and used the approved premium from the quote dataset to compute it as the same variable in the user dataset had a many missing values\n",
    "- Removed estimated_premium\n",
    "- Compared other variables in both datasets: term length and face value.  Term length is how long the life insurance policy is good for, and the face value is the amount the policy pays if the insured dies.  After comparing these values in both datasets, we are retaining those from the quote dataset as the data science team believes that they are more accurate, and those variables had multiple missing values in the user dataset.\n",
    "- Removed term length and face value from the user dataset\n",
    "- Business line existed in both datasets and appeared to have 93% agreement\n",
    "    - Removed business line field from the user dataset\n",
    "- Removed fields gclid_count, customer_portal_loads until we can verify what they represent (Data Science did not know)\n",
    "- There were three fields that had user income data, two were removed after exploration\n",
    "- One income field from user had a large number of missing values and didn’t align with the other two\n",
    "- The other two income fields seemed to agree, but one of them had more missing values so it was removed\n",
    "- Three other variables (replacement_ins, travel_countries_count, legal_resident) had missing values for at least 80% of observations\n",
    "- None of these variables seemed to be very correlated with the target (based on distribution with respect to bind), and including variables with so many missing values could negatively impact the ability of the model to make accurate predictions on new data, so we removed them for now.\n",
    "- As a Random Forest model can deal better with missing values, we may include these features for that model\n",
    "- After creating a heatmap of correlations in the numerical features, a few features were found to be perfectly or highly correlated\n",
    "- Anonid_uniq was removed as there was no variation in this feature\n",
    "- event_total and event_len are perfectly correlated, so we removed event_len\n",
    "- total_seconds and avg_seconds_per_session are also highly correlated (0.86).  As the correlations of avg_seconds_per_session is closer to 0 for the variables in this group, we retained that variable\n",
    "- Approved_premium (monthly) and annual_approved_premium were also perfectly correlated.  We retained the annual version since other features in the set are annual\n",
    "- We created face amount to premium ratio, which represents the ‘value’ of a policy in the sense that it captures the value of the policy relative to what the insured pays for it\n",
    "\n",
    "### Do I need to adjust my model/evaluation choices?\n",
    "- I think a logistic regression model with regularization and a random forest model are still good choices to start with\n",
    "- Logistics regression with regularization will help us to further reduce the number of features by applying a penalty to those features that are redundant or noisy\n",
    "- Random Forest will allow for us to assess feature importance, which has important implications for both questions that we are asking:\n",
    "    - To accurately predict which users will bind, and therefore better target new users, we need to be able to identify the optimal feature set to optimize accuracy.  Knowing which features are most important will help with that process\n",
    "    - The other question we are asking is regarding the importance of the difference between the quoted and approved premiums in influencing whether a user binds.  Using Random Forest will allow us to assess the importance of this feature.\n",
    "\n"
   ]
  },
  {
   "cell_type": "markdown",
   "id": "841a4b1a",
   "metadata": {},
   "source": [
    "## Milestone 4"
   ]
  },
  {
   "cell_type": "markdown",
   "id": "7cffbd7c",
   "metadata": {},
   "source": [
    "We built multiple models with varying degrees of accuracy, and then combined them into an ensemble model.  Below we create and evaluate the four models that we used in the ensemble model, and then create and evaluate the ensemble model.\n",
    "- Note that we have separate files for each of the models that includes feature exploration and selection, hyperparameter tuning, and model evaluation.  Here we only include the final models that we are using in the ensemble model."
   ]
  },
  {
   "cell_type": "code",
   "execution_count": 1,
   "id": "51104ece",
   "metadata": {},
   "outputs": [],
   "source": [
    "import warnings\n",
    "warnings.filterwarnings(\"ignore\")"
   ]
  },
  {
   "cell_type": "code",
   "execution_count": 6,
   "id": "4ec1b308",
   "metadata": {},
   "outputs": [
    {
     "data": {
      "text/html": [
       "<div>\n",
       "<style scoped>\n",
       "    .dataframe tbody tr th:only-of-type {\n",
       "        vertical-align: middle;\n",
       "    }\n",
       "\n",
       "    .dataframe tbody tr th {\n",
       "        vertical-align: top;\n",
       "    }\n",
       "\n",
       "    .dataframe thead th {\n",
       "        text-align: right;\n",
       "    }\n",
       "</style>\n",
       "<table border=\"1\" class=\"dataframe\">\n",
       "  <thead>\n",
       "    <tr style=\"text-align: right;\">\n",
       "      <th></th>\n",
       "      <th>open_to_submit_min</th>\n",
       "      <th>submit_to_approve_min</th>\n",
       "      <th>open_date</th>\n",
       "      <th>bind</th>\n",
       "      <th>pre_approval_interactions</th>\n",
       "      <th>post_approval_pre_bind_interactions</th>\n",
       "      <th>sessions_uniq</th>\n",
       "      <th>event_total</th>\n",
       "      <th>session_pageload_total</th>\n",
       "      <th>url_uniq</th>\n",
       "      <th>...</th>\n",
       "      <th>select_nt</th>\n",
       "      <th>select_tb</th>\n",
       "      <th>essential_nt.1</th>\n",
       "      <th>essential_plus_nt</th>\n",
       "      <th>essential_plus_tb</th>\n",
       "      <th>essential_tb.1</th>\n",
       "      <th>preferred_nt.1</th>\n",
       "      <th>select_nt.1</th>\n",
       "      <th>select_tb.1</th>\n",
       "      <th>super_elite_nt</th>\n",
       "    </tr>\n",
       "  </thead>\n",
       "  <tbody>\n",
       "    <tr>\n",
       "      <th>0</th>\n",
       "      <td>6</td>\n",
       "      <td>1</td>\n",
       "      <td>20211231</td>\n",
       "      <td>0</td>\n",
       "      <td>0</td>\n",
       "      <td>0</td>\n",
       "      <td>1.82859</td>\n",
       "      <td>16.986182</td>\n",
       "      <td>15.882392</td>\n",
       "      <td>10.236375</td>\n",
       "      <td>...</td>\n",
       "      <td>1</td>\n",
       "      <td>0</td>\n",
       "      <td>1</td>\n",
       "      <td>0</td>\n",
       "      <td>0</td>\n",
       "      <td>0</td>\n",
       "      <td>0</td>\n",
       "      <td>0</td>\n",
       "      <td>0</td>\n",
       "      <td>0</td>\n",
       "    </tr>\n",
       "    <tr>\n",
       "      <th>1</th>\n",
       "      <td>5</td>\n",
       "      <td>1</td>\n",
       "      <td>20210316</td>\n",
       "      <td>1</td>\n",
       "      <td>0</td>\n",
       "      <td>0</td>\n",
       "      <td>1.82859</td>\n",
       "      <td>16.986182</td>\n",
       "      <td>15.882392</td>\n",
       "      <td>10.236375</td>\n",
       "      <td>...</td>\n",
       "      <td>0</td>\n",
       "      <td>0</td>\n",
       "      <td>0</td>\n",
       "      <td>0</td>\n",
       "      <td>0</td>\n",
       "      <td>0</td>\n",
       "      <td>1</td>\n",
       "      <td>0</td>\n",
       "      <td>0</td>\n",
       "      <td>0</td>\n",
       "    </tr>\n",
       "    <tr>\n",
       "      <th>2</th>\n",
       "      <td>8</td>\n",
       "      <td>1</td>\n",
       "      <td>20210406</td>\n",
       "      <td>1</td>\n",
       "      <td>0</td>\n",
       "      <td>0</td>\n",
       "      <td>1.82859</td>\n",
       "      <td>16.986182</td>\n",
       "      <td>15.882392</td>\n",
       "      <td>10.236375</td>\n",
       "      <td>...</td>\n",
       "      <td>0</td>\n",
       "      <td>0</td>\n",
       "      <td>0</td>\n",
       "      <td>0</td>\n",
       "      <td>0</td>\n",
       "      <td>0</td>\n",
       "      <td>1</td>\n",
       "      <td>0</td>\n",
       "      <td>0</td>\n",
       "      <td>0</td>\n",
       "    </tr>\n",
       "    <tr>\n",
       "      <th>3</th>\n",
       "      <td>4</td>\n",
       "      <td>1</td>\n",
       "      <td>20210607</td>\n",
       "      <td>0</td>\n",
       "      <td>1</td>\n",
       "      <td>0</td>\n",
       "      <td>1.82859</td>\n",
       "      <td>16.986182</td>\n",
       "      <td>15.882392</td>\n",
       "      <td>10.236375</td>\n",
       "      <td>...</td>\n",
       "      <td>1</td>\n",
       "      <td>0</td>\n",
       "      <td>0</td>\n",
       "      <td>0</td>\n",
       "      <td>0</td>\n",
       "      <td>0</td>\n",
       "      <td>0</td>\n",
       "      <td>1</td>\n",
       "      <td>0</td>\n",
       "      <td>0</td>\n",
       "    </tr>\n",
       "    <tr>\n",
       "      <th>4</th>\n",
       "      <td>2</td>\n",
       "      <td>1</td>\n",
       "      <td>20210927</td>\n",
       "      <td>0</td>\n",
       "      <td>3</td>\n",
       "      <td>0</td>\n",
       "      <td>1.82859</td>\n",
       "      <td>16.986182</td>\n",
       "      <td>15.882392</td>\n",
       "      <td>10.236375</td>\n",
       "      <td>...</td>\n",
       "      <td>0</td>\n",
       "      <td>0</td>\n",
       "      <td>0</td>\n",
       "      <td>0</td>\n",
       "      <td>0</td>\n",
       "      <td>0</td>\n",
       "      <td>0</td>\n",
       "      <td>1</td>\n",
       "      <td>0</td>\n",
       "      <td>0</td>\n",
       "    </tr>\n",
       "  </tbody>\n",
       "</table>\n",
       "<p>5 rows × 1250 columns</p>\n",
       "</div>"
      ],
      "text/plain": [
       "   open_to_submit_min  submit_to_approve_min  open_date  bind  \\\n",
       "0                   6                      1   20211231     0   \n",
       "1                   5                      1   20210316     1   \n",
       "2                   8                      1   20210406     1   \n",
       "3                   4                      1   20210607     0   \n",
       "4                   2                      1   20210927     0   \n",
       "\n",
       "   pre_approval_interactions  post_approval_pre_bind_interactions  \\\n",
       "0                          0                                    0   \n",
       "1                          0                                    0   \n",
       "2                          0                                    0   \n",
       "3                          1                                    0   \n",
       "4                          3                                    0   \n",
       "\n",
       "   sessions_uniq  event_total  session_pageload_total   url_uniq  ...  \\\n",
       "0        1.82859    16.986182               15.882392  10.236375  ...   \n",
       "1        1.82859    16.986182               15.882392  10.236375  ...   \n",
       "2        1.82859    16.986182               15.882392  10.236375  ...   \n",
       "3        1.82859    16.986182               15.882392  10.236375  ...   \n",
       "4        1.82859    16.986182               15.882392  10.236375  ...   \n",
       "\n",
       "   select_nt  select_tb  essential_nt.1  essential_plus_nt  essential_plus_tb  \\\n",
       "0          1          0               1                  0                  0   \n",
       "1          0          0               0                  0                  0   \n",
       "2          0          0               0                  0                  0   \n",
       "3          1          0               0                  0                  0   \n",
       "4          0          0               0                  0                  0   \n",
       "\n",
       "   essential_tb.1  preferred_nt.1  select_nt.1  select_tb.1  super_elite_nt  \n",
       "0               0               0            0            0               0  \n",
       "1               0               1            0            0               0  \n",
       "2               0               1            0            0               0  \n",
       "3               0               0            1            0               0  \n",
       "4               0               0            1            0               0  \n",
       "\n",
       "[5 rows x 1250 columns]"
      ]
     },
     "execution_count": 6,
     "metadata": {},
     "output_type": "execute_result"
    }
   ],
   "source": [
    "import pandas as pd\n",
    "\n",
    "# note: dummy variables were already created and saved to this dataset\n",
    "df = pd.read_csv(r'C:\\Users\\milan\\Documents\\GitHub\\DSC-630-Project\\clean_df.csv')\n",
    "df.drop(df.columns[[0]],axis=1,inplace=True)\n",
    "df.head()"
   ]
  },
  {
   "cell_type": "code",
   "execution_count": 8,
   "id": "eaf91a93",
   "metadata": {},
   "outputs": [
    {
     "data": {
      "text/html": [
       "<div>\n",
       "<style scoped>\n",
       "    .dataframe tbody tr th:only-of-type {\n",
       "        vertical-align: middle;\n",
       "    }\n",
       "\n",
       "    .dataframe tbody tr th {\n",
       "        vertical-align: top;\n",
       "    }\n",
       "\n",
       "    .dataframe thead th {\n",
       "        text-align: right;\n",
       "    }\n",
       "</style>\n",
       "<table border=\"1\" class=\"dataframe\">\n",
       "  <thead>\n",
       "    <tr style=\"text-align: right;\">\n",
       "      <th></th>\n",
       "      <th>open_to_submit_min</th>\n",
       "      <th>submit_to_approve_min</th>\n",
       "      <th>open_date</th>\n",
       "      <th>bind</th>\n",
       "      <th>pre_approval_interactions</th>\n",
       "      <th>post_approval_pre_bind_interactions</th>\n",
       "      <th>sessions_uniq</th>\n",
       "      <th>event_total</th>\n",
       "      <th>session_pageload_total</th>\n",
       "      <th>url_uniq</th>\n",
       "      <th>...</th>\n",
       "      <th>select_nt</th>\n",
       "      <th>select_tb</th>\n",
       "      <th>essential_nt.1</th>\n",
       "      <th>essential_plus_nt</th>\n",
       "      <th>essential_plus_tb</th>\n",
       "      <th>essential_tb.1</th>\n",
       "      <th>preferred_nt.1</th>\n",
       "      <th>select_nt.1</th>\n",
       "      <th>select_tb.1</th>\n",
       "      <th>super_elite_nt</th>\n",
       "    </tr>\n",
       "  </thead>\n",
       "  <tbody>\n",
       "    <tr>\n",
       "      <th>19799</th>\n",
       "      <td>4</td>\n",
       "      <td>1</td>\n",
       "      <td>20211024</td>\n",
       "      <td>1</td>\n",
       "      <td>0</td>\n",
       "      <td>0</td>\n",
       "      <td>3.0</td>\n",
       "      <td>22.0</td>\n",
       "      <td>21.0</td>\n",
       "      <td>13.0</td>\n",
       "      <td>...</td>\n",
       "      <td>0</td>\n",
       "      <td>0</td>\n",
       "      <td>1</td>\n",
       "      <td>0</td>\n",
       "      <td>0</td>\n",
       "      <td>0</td>\n",
       "      <td>0</td>\n",
       "      <td>0</td>\n",
       "      <td>0</td>\n",
       "      <td>0</td>\n",
       "    </tr>\n",
       "    <tr>\n",
       "      <th>34800</th>\n",
       "      <td>2</td>\n",
       "      <td>2</td>\n",
       "      <td>20210823</td>\n",
       "      <td>1</td>\n",
       "      <td>0</td>\n",
       "      <td>0</td>\n",
       "      <td>1.0</td>\n",
       "      <td>22.0</td>\n",
       "      <td>26.0</td>\n",
       "      <td>14.0</td>\n",
       "      <td>...</td>\n",
       "      <td>0</td>\n",
       "      <td>0</td>\n",
       "      <td>0</td>\n",
       "      <td>0</td>\n",
       "      <td>0</td>\n",
       "      <td>0</td>\n",
       "      <td>1</td>\n",
       "      <td>0</td>\n",
       "      <td>0</td>\n",
       "      <td>0</td>\n",
       "    </tr>\n",
       "    <tr>\n",
       "      <th>4017</th>\n",
       "      <td>4</td>\n",
       "      <td>1</td>\n",
       "      <td>20220104</td>\n",
       "      <td>0</td>\n",
       "      <td>0</td>\n",
       "      <td>0</td>\n",
       "      <td>3.0</td>\n",
       "      <td>21.0</td>\n",
       "      <td>19.0</td>\n",
       "      <td>9.0</td>\n",
       "      <td>...</td>\n",
       "      <td>0</td>\n",
       "      <td>0</td>\n",
       "      <td>1</td>\n",
       "      <td>0</td>\n",
       "      <td>0</td>\n",
       "      <td>0</td>\n",
       "      <td>0</td>\n",
       "      <td>0</td>\n",
       "      <td>0</td>\n",
       "      <td>0</td>\n",
       "    </tr>\n",
       "    <tr>\n",
       "      <th>20436</th>\n",
       "      <td>4</td>\n",
       "      <td>1</td>\n",
       "      <td>20210519</td>\n",
       "      <td>0</td>\n",
       "      <td>0</td>\n",
       "      <td>2</td>\n",
       "      <td>3.0</td>\n",
       "      <td>14.0</td>\n",
       "      <td>11.0</td>\n",
       "      <td>8.0</td>\n",
       "      <td>...</td>\n",
       "      <td>0</td>\n",
       "      <td>0</td>\n",
       "      <td>0</td>\n",
       "      <td>0</td>\n",
       "      <td>0</td>\n",
       "      <td>0</td>\n",
       "      <td>1</td>\n",
       "      <td>0</td>\n",
       "      <td>0</td>\n",
       "      <td>0</td>\n",
       "    </tr>\n",
       "    <tr>\n",
       "      <th>39216</th>\n",
       "      <td>5</td>\n",
       "      <td>1</td>\n",
       "      <td>20211021</td>\n",
       "      <td>1</td>\n",
       "      <td>0</td>\n",
       "      <td>0</td>\n",
       "      <td>1.0</td>\n",
       "      <td>4.0</td>\n",
       "      <td>6.0</td>\n",
       "      <td>4.0</td>\n",
       "      <td>...</td>\n",
       "      <td>0</td>\n",
       "      <td>0</td>\n",
       "      <td>1</td>\n",
       "      <td>0</td>\n",
       "      <td>0</td>\n",
       "      <td>0</td>\n",
       "      <td>0</td>\n",
       "      <td>0</td>\n",
       "      <td>0</td>\n",
       "      <td>0</td>\n",
       "    </tr>\n",
       "  </tbody>\n",
       "</table>\n",
       "<p>5 rows × 1250 columns</p>\n",
       "</div>"
      ],
      "text/plain": [
       "       open_to_submit_min  submit_to_approve_min  open_date  bind  \\\n",
       "19799                   4                      1   20211024     1   \n",
       "34800                   2                      2   20210823     1   \n",
       "4017                    4                      1   20220104     0   \n",
       "20436                   4                      1   20210519     0   \n",
       "39216                   5                      1   20211021     1   \n",
       "\n",
       "       pre_approval_interactions  post_approval_pre_bind_interactions  \\\n",
       "19799                          0                                    0   \n",
       "34800                          0                                    0   \n",
       "4017                           0                                    0   \n",
       "20436                          0                                    2   \n",
       "39216                          0                                    0   \n",
       "\n",
       "       sessions_uniq  event_total  session_pageload_total  url_uniq  ...  \\\n",
       "19799            3.0         22.0                    21.0      13.0  ...   \n",
       "34800            1.0         22.0                    26.0      14.0  ...   \n",
       "4017             3.0         21.0                    19.0       9.0  ...   \n",
       "20436            3.0         14.0                    11.0       8.0  ...   \n",
       "39216            1.0          4.0                     6.0       4.0  ...   \n",
       "\n",
       "       select_nt  select_tb  essential_nt.1  essential_plus_nt  \\\n",
       "19799          0          0               1                  0   \n",
       "34800          0          0               0                  0   \n",
       "4017           0          0               1                  0   \n",
       "20436          0          0               0                  0   \n",
       "39216          0          0               1                  0   \n",
       "\n",
       "       essential_plus_tb  essential_tb.1  preferred_nt.1  select_nt.1  \\\n",
       "19799                  0               0               0            0   \n",
       "34800                  0               0               1            0   \n",
       "4017                   0               0               0            0   \n",
       "20436                  0               0               1            0   \n",
       "39216                  0               0               0            0   \n",
       "\n",
       "       select_tb.1  super_elite_nt  \n",
       "19799            0               0  \n",
       "34800            0               0  \n",
       "4017             0               0  \n",
       "20436            0               0  \n",
       "39216            0               0  \n",
       "\n",
       "[5 rows x 1250 columns]"
      ]
     },
     "execution_count": 8,
     "metadata": {},
     "output_type": "execute_result"
    }
   ],
   "source": [
    "from sklearn.model_selection import train_test_split\n",
    "import numpy as np\n",
    "\n",
    "np.random.seed(0)\n",
    "\n",
    "train, test = train_test_split(df, test_size = 0.2)\n",
    "train.head()"
   ]
  },
  {
   "cell_type": "code",
   "execution_count": 9,
   "id": "2a248cc5",
   "metadata": {},
   "outputs": [],
   "source": [
    "features = train.drop('bind', axis=1)\n",
    "target = train['bind']\n",
    "test_features = test.drop('bind', axis=1)\n",
    "test_target = test['bind']"
   ]
  },
  {
   "cell_type": "markdown",
   "id": "f2cdb3f1",
   "metadata": {},
   "source": [
    "### Logistic Regression Model"
   ]
  },
  {
   "cell_type": "code",
   "execution_count": 10,
   "id": "ed04b84a",
   "metadata": {},
   "outputs": [
    {
     "data": {
      "text/plain": [
       "0.8211880711880711"
      ]
     },
     "execution_count": 10,
     "metadata": {},
     "output_type": "execute_result"
    }
   ],
   "source": [
    "from sklearn.preprocessing import MinMaxScaler\n",
    "from sklearn.linear_model import LogisticRegression\n",
    "from sklearn.metrics import accuracy_score\n",
    "from sklearn.pipeline import Pipeline, FeatureUnion\n",
    "\n",
    "pipe = Pipeline([(\"standardizer\", MinMaxScaler()), (\"classifier\", LogisticRegression(solver = 'liblinear'))])\n",
    "pipe.fit(features, target)\n",
    "logit_preds = pipe.predict(test_features)\n",
    "accuracy_score(logit_preds, test_target)"
   ]
  },
  {
   "cell_type": "code",
   "execution_count": 11,
   "id": "5c6f679a",
   "metadata": {},
   "outputs": [
    {
     "name": "stdout",
     "output_type": "stream",
     "text": [
      "              precision    recall  f1-score   support\n",
      "\n",
      "           0       0.82      0.88      0.85      4890\n",
      "           1       0.82      0.73      0.77      3426\n",
      "\n",
      "    accuracy                           0.82      8316\n",
      "   macro avg       0.82      0.81      0.81      8316\n",
      "weighted avg       0.82      0.82      0.82      8316\n",
      "\n"
     ]
    }
   ],
   "source": [
    "from sklearn.metrics import classification_report\n",
    "print(classification_report(test_target, preds))"
   ]
  },
  {
   "cell_type": "markdown",
   "id": "597927a6",
   "metadata": {},
   "source": [
    "### K-Nearest Neighbors"
   ]
  },
  {
   "cell_type": "code",
   "execution_count": 12,
   "id": "00248ade",
   "metadata": {},
   "outputs": [
    {
     "data": {
      "text/plain": [
       "0.6667869167869168"
      ]
     },
     "execution_count": 12,
     "metadata": {},
     "output_type": "execute_result"
    }
   ],
   "source": [
    "from sklearn.neighbors import KNeighborsClassifier\n",
    "\n",
    "pipe = Pipeline([(\"standardizer\", MinMaxScaler()), (\"classifier\", KNeighborsClassifier(n_neighbors=11))])\n",
    "pipe.fit(features, target)\n",
    "knn_preds = pipe.predict(test_features)\n",
    "accuracy_score(knn_preds, test_target)"
   ]
  },
  {
   "cell_type": "code",
   "execution_count": 14,
   "id": "561aea6d",
   "metadata": {},
   "outputs": [
    {
     "name": "stdout",
     "output_type": "stream",
     "text": [
      "              precision    recall  f1-score   support\n",
      "\n",
      "           0       0.69      0.77      0.73      4890\n",
      "           1       0.61      0.51      0.56      3426\n",
      "\n",
      "    accuracy                           0.67      8316\n",
      "   macro avg       0.65      0.64      0.65      8316\n",
      "weighted avg       0.66      0.67      0.66      8316\n",
      "\n"
     ]
    }
   ],
   "source": [
    "from sklearn.metrics import classification_report\n",
    "print(classification_report(test_target, knn_preds))"
   ]
  },
  {
   "cell_type": "markdown",
   "id": "1be2b3cf",
   "metadata": {},
   "source": [
    "### Neural Network Model"
   ]
  },
  {
   "cell_type": "code",
   "execution_count": 15,
   "id": "5025d785",
   "metadata": {},
   "outputs": [],
   "source": [
    "from sklearn.preprocessing import StandardScaler\n",
    "\n",
    "scaler = StandardScaler()\n",
    "scaled_features = scaler.fit_transform(features)\n",
    "test_features_scaled = scaler.transform(test_features)"
   ]
  },
  {
   "cell_type": "code",
   "execution_count": 16,
   "id": "ae47fa3d",
   "metadata": {},
   "outputs": [],
   "source": [
    "from keras import models\n",
    "from keras import layers\n",
    "\n",
    "np.random.seed(0)\n",
    "\n",
    "network = models.Sequential()\n",
    "network.add(layers.Dense(units=32, \n",
    "                         activation='relu', \n",
    "                         input_shape=(scaled_features.shape[1],)))\n",
    "network.add(layers.Dense(units=32, activation='relu'))\n",
    "network.add(layers.Dense(units=1))"
   ]
  },
  {
   "cell_type": "code",
   "execution_count": 17,
   "id": "fa6de466",
   "metadata": {},
   "outputs": [],
   "source": [
    "network.compile(loss='binary_crossentropy',\n",
    "               optimizer='RMSprop',\n",
    "               metrics=[\"accuracy\"])"
   ]
  },
  {
   "cell_type": "code",
   "execution_count": 18,
   "id": "d4892888",
   "metadata": {},
   "outputs": [],
   "source": [
    "history = network.fit(scaled_features,\n",
    "                     target, \n",
    "                     epochs=10,\n",
    "                     verbose=0, \n",
    "                     batch_size=100,\n",
    "                     validation_data=(test_features_scaled, test_target))"
   ]
  },
  {
   "cell_type": "code",
   "execution_count": 19,
   "id": "f85f9d82",
   "metadata": {},
   "outputs": [
    {
     "data": {
      "text/plain": [
       "[0.6985321640968323, 0.8190235495567322]"
      ]
     },
     "execution_count": 19,
     "metadata": {},
     "output_type": "execute_result"
    }
   ],
   "source": [
    "acc = network.evaluate(test_features_scaled, test_target, verbose=0)\n",
    "acc"
   ]
  },
  {
   "cell_type": "code",
   "execution_count": 21,
   "id": "037e7aaa",
   "metadata": {},
   "outputs": [],
   "source": [
    "import numpy as np\n",
    "import matplotlib.pyplot as plt"
   ]
  },
  {
   "cell_type": "code",
   "execution_count": 22,
   "id": "b88b3906",
   "metadata": {},
   "outputs": [],
   "source": [
    "training_accuracy = history.history['accuracy']\n",
    "test_accuracy = history.history['val_accuracy']\n",
    "\n",
    "epoch_count = range(1, len(training_accuracy) + 1)"
   ]
  },
  {
   "cell_type": "code",
   "execution_count": 23,
   "id": "af609306",
   "metadata": {},
   "outputs": [
    {
     "data": {
      "image/png": "[encoded data removed]",
      "text/plain": [
       "<Figure size 432x288 with 1 Axes>"
      ]
     },
     "metadata": {
      "needs_background": "light"
     },
     "output_type": "display_data"
    }
   ],
   "source": [
    "plt.plot(epoch_count, training_accuracy, \"r--\")\n",
    "plt.plot(epoch_count, test_accuracy, \"b--\")\n",
    "plt.legend([\"Training Accuracy\", \"Test Accuracy\"])\n",
    "plt.xlabel(\"Epoch\")\n",
    "plt.ylabel(\"Accuracy\")\n",
    "plt.show()"
   ]
  },
  {
   "cell_type": "markdown",
   "id": "abcf1a91",
   "metadata": {},
   "source": [
    "### Random Forest"
   ]
  },
  {
   "cell_type": "code",
   "execution_count": 47,
   "id": "d9c314d9",
   "metadata": {},
   "outputs": [],
   "source": [
    "from sklearn.ensemble import RandomForestClassifier\n",
    "from sklearn import metrics\n",
    "from sklearn.metrics import accuracy_score, confusion_matrix, classification_report\n",
    "from sklearn.inspection import permutation_importance"
   ]
  },
  {
   "cell_type": "markdown",
   "id": "e2ddcfe0",
   "metadata": {},
   "source": [
    "#### Not sure what I'm doing wrong here.  Below I re-ran the grid search for RF, and used the parameters for the best estimator to run the model below.  But my accuracy comes out to be 65% vs. the 89% shown for the RF_gs model.  I wonder if they're the same model, and if not, how we can extract the model that is used by RF_gs?"
   ]
  },
  {
   "cell_type": "code",
   "execution_count": 53,
   "id": "de289d44",
   "metadata": {},
   "outputs": [
    {
     "data": {
      "text/plain": [
       "0.6474266474266475"
      ]
     },
     "execution_count": 53,
     "metadata": {},
     "output_type": "execute_result"
    }
   ],
   "source": [
    "pipe = Pipeline([(\"standardizer\", StandardScaler()), (\"classifier\", RandomForestClassifier(class_weight={0: 1, 1: 5}, max_depth=50,\n",
    "                                        min_samples_leaf=3,\n",
    "                                        n_estimators=140))])\n",
    "pipe.fit(features, target)\n",
    "rf_preds = pipe.predict(test_features)\n",
    "accuracy_score(rf_preds, test_target)"
   ]
  },
  {
   "cell_type": "code",
   "execution_count": 37,
   "id": "3dceab9c",
   "metadata": {},
   "outputs": [],
   "source": [
    "# Instantiate a random forest model with 1000 decision trees\n",
    "rf = RandomForestClassifier(RandomForestClassifier(class_weight={0: 1, 1: 5}, max_depth=50,\n",
    "                                        min_samples_leaf=3,\n",
    "                                        n_estimators=140))\n",
    "\n",
    "# Train the model on training data\n",
    "rf.fit(features, target);"
   ]
  },
  {
   "cell_type": "code",
   "execution_count": 38,
   "id": "b069ccbf",
   "metadata": {},
   "outputs": [],
   "source": [
    "# Use the forest's predict method on the test data\n",
    "y_pred_rf = rf.predict(test_features)"
   ]
  },
  {
   "cell_type": "code",
   "execution_count": 39,
   "id": "fdabfec5",
   "metadata": {},
   "outputs": [
    {
     "name": "stdout",
     "output_type": "stream",
     "text": [
      "              precision    recall  f1-score   support\n",
      "\n",
      "           0       0.96      0.42      0.59      4890\n",
      "           1       0.54      0.97      0.70      3426\n",
      "\n",
      "    accuracy                           0.65      8316\n",
      "   macro avg       0.75      0.70      0.64      8316\n",
      "weighted avg       0.79      0.65      0.63      8316\n",
      "\n"
     ]
    }
   ],
   "source": [
    "print(classification_report(test_target, y_pred_rf))"
   ]
  },
  {
   "cell_type": "code",
   "execution_count": 40,
   "id": "eebcf243",
   "metadata": {},
   "outputs": [],
   "source": [
    "# Create pipeline\n",
    "pipe = Pipeline([\n",
    "    ('scaler', StandardScaler()),\n",
    "    ('rf', RandomForestClassifier())\n",
    "])"
   ]
  },
  {
   "cell_type": "code",
   "execution_count": 41,
   "id": "0ff200a3",
   "metadata": {},
   "outputs": [],
   "source": [
    "# Set Parameters\n",
    "params = {\n",
    "    'rf__n_estimators': [120, 140],\n",
    "    'rf__max_depth': [30, 50],\n",
    "    'rf__min_samples_split': [2,3],\n",
    "    'rf__min_samples_leaf': [3,5],\n",
    "    'rf__class_weight': [{0: 1, 1: 1}, {0: 1, 1:5},{0:1,1:3}, 'balanced']\n",
    "    \n",
    "}"
   ]
  },
  {
   "cell_type": "code",
   "execution_count": 43,
   "id": "bed475b7",
   "metadata": {},
   "outputs": [
    {
     "data": {
      "text/plain": [
       "GridSearchCV(cv=3,\n",
       "             estimator=Pipeline(steps=[('scaler', StandardScaler()),\n",
       "                                       ('rf', RandomForestClassifier())]),\n",
       "             param_grid={'rf__class_weight': [{0: 1, 1: 1}, {0: 1, 1: 5},\n",
       "                                              {0: 1, 1: 3}, 'balanced'],\n",
       "                         'rf__max_depth': [30, 50],\n",
       "                         'rf__min_samples_leaf': [3, 5],\n",
       "                         'rf__min_samples_split': [2, 3],\n",
       "                         'rf__n_estimators': [120, 140]},\n",
       "             scoring='roc_auc')"
      ]
     },
     "execution_count": 43,
     "metadata": {},
     "output_type": "execute_result"
    }
   ],
   "source": [
    "# GridSearch, Fit, Score\n",
    "from sklearn.model_selection import GridSearchCV, TimeSeriesSplit, train_test_split\n",
    "RF_gs = GridSearchCV(pipe, param_grid=params ,scoring = 'roc_auc', cv = 3)\n",
    "RF_gs.fit(features, target)"
   ]
  },
  {
   "cell_type": "code",
   "execution_count": 51,
   "id": "c3ff528a",
   "metadata": {},
   "outputs": [
    {
     "data": {
      "text/plain": [
       "Pipeline(steps=[('scaler', StandardScaler()),\n",
       "                ('rf',\n",
       "                 RandomForestClassifier(class_weight={0: 1, 1: 5}, max_depth=50,\n",
       "                                        min_samples_leaf=3,\n",
       "                                        n_estimators=140))])"
      ]
     },
     "execution_count": 51,
     "metadata": {},
     "output_type": "execute_result"
    }
   ],
   "source": [
    "RF_gs.best_estimator_"
   ]
  },
  {
   "cell_type": "code",
   "execution_count": 44,
   "id": "59e73070",
   "metadata": {},
   "outputs": [
    {
     "data": {
      "text/plain": [
       "0.9458804966586953"
      ]
     },
     "execution_count": 44,
     "metadata": {},
     "output_type": "execute_result"
    }
   ],
   "source": [
    "# Train Accuracy Score\n",
    "RF_gs.score(features, target)"
   ]
  },
  {
   "cell_type": "code",
   "execution_count": 46,
   "id": "58f1076f",
   "metadata": {},
   "outputs": [
    {
     "data": {
      "text/plain": [
       "0.8939594010436254"
      ]
     },
     "execution_count": 46,
     "metadata": {},
     "output_type": "execute_result"
    }
   ],
   "source": [
    "# Test Accuracy Score\n",
    "RF_gs.score(test_features, test_target)"
   ]
  },
  {
   "cell_type": "code",
   "execution_count": null,
   "id": "4e2404a0",
   "metadata": {},
   "outputs": [],
   "source": []
  },
  {
   "cell_type": "markdown",
   "id": "18e32b1c",
   "metadata": {},
   "source": [
    "### Decision Tree Classifier"
   ]
  },
  {
   "cell_type": "code",
   "execution_count": 56,
   "id": "cc2d141e",
   "metadata": {},
   "outputs": [],
   "source": [
    "# Import the Decision Tree classifier\n",
    "from sklearn.tree import DecisionTreeClassifier\n",
    "\n",
    "# Create Decision Tree classifier object\n",
    "clf = DecisionTreeClassifier(criterion=\"entropy\", max_depth=3) \n",
    "\n",
    "# Train Decision Tree Classifier\n",
    "clf = clf.fit(features, target)\n",
    "\n",
    "# Predict the response for test dataset\n",
    "y_pred = clf.predict(test_features)"
   ]
  },
  {
   "cell_type": "code",
   "execution_count": 57,
   "id": "0d518618",
   "metadata": {},
   "outputs": [
    {
     "name": "stdout",
     "output_type": "stream",
     "text": [
      "Accuracy 0.7825877825877826\n"
     ]
    }
   ],
   "source": [
    "# Model Accuracy, how often is the classifier correct?\n",
    "print(\"Accuracy\", accuracy_score(test_target, y_pred))"
   ]
  },
  {
   "cell_type": "code",
   "execution_count": 58,
   "id": "8649faf8",
   "metadata": {},
   "outputs": [
    {
     "name": "stdout",
     "output_type": "stream",
     "text": [
      "              precision    recall  f1-score   support\n",
      "\n",
      "           0       0.75      0.93      0.83      4890\n",
      "           1       0.86      0.57      0.68      3426\n",
      "\n",
      "    accuracy                           0.78      8316\n",
      "   macro avg       0.81      0.75      0.76      8316\n",
      "weighted avg       0.80      0.78      0.77      8316\n",
      "\n"
     ]
    }
   ],
   "source": [
    "print(classification_report(test_target, y_pred))"
   ]
  },
  {
   "cell_type": "code",
   "execution_count": null,
   "id": "09972ce0",
   "metadata": {},
   "outputs": [],
   "source": []
  },
  {
   "cell_type": "markdown",
   "id": "dc70fba3",
   "metadata": {},
   "source": [
    "### Understanding the importance of Premium Difference\n",
    "A primary goal of this analysis was to understand how the difference in premiums affects users in terms of whether or not they purchase a policy.  Below we examine the importance of this feature from a number of perspectives."
   ]
  },
  {
   "cell_type": "code",
   "execution_count": 59,
   "id": "cbaa2029",
   "metadata": {},
   "outputs": [
    {
     "data": {
      "image/png": "[encoded data removed]",
      "text/plain": [
       "<IPython.core.display.Image object>"
      ]
     },
     "execution_count": 59,
     "metadata": {},
     "output_type": "execute_result"
    }
   ],
   "source": [
    "from sklearn import tree\n",
    "import pydotplus\n",
    "from IPython.display import Image\n",
    "\n",
    "dot_data = tree.export_graphviz(clf,\n",
    "                               out_file=None,\n",
    "                               feature_names=features.columns,\n",
    "                               class_names=train.columns[3])\n",
    "\n",
    "graph = pydotplus.graph_from_dot_data(dot_data)\n",
    "Image(graph.create_png())"
   ]
  },
  {
   "cell_type": "code",
   "execution_count": null,
   "id": "6737d04b",
   "metadata": {},
   "outputs": [],
   "source": []
  }
 ],
 "metadata": {
  "kernelspec": {
   "display_name": "Python 3 (ipykernel)",
   "language": "python",
   "name": "python3"
  },
  "language_info": {
   "codemirror_mode": {
    "name": "ipython",
    "version": 3
   },
   "file_extension": ".py",
   "mimetype": "text/x-python",
   "name": "python",
   "nbconvert_exporter": "python",
   "pygments_lexer": "ipython3",
   "version": "3.9.7"
  }
 },
 "nbformat": 4,
 "nbformat_minor": 5
}
