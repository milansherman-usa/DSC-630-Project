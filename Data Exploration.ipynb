{
 "cells": [
  {
   "cell_type": "code",
   "execution_count": 2,
   "id": "e3aba857",
   "metadata": {},
   "outputs": [
    {
     "name": "stderr",
     "output_type": "stream",
     "text": [
      "C:\\Users\\milan\\anaconda3\\lib\\site-packages\\IPython\\core\\interactiveshell.py:3444: DtypeWarning: Columns (20,21,30) have mixed types.Specify dtype option on import or set low_memory=False.\n",
      "  exec(code_obj, self.user_global_ns, self.user_ns)\n"
     ]
    },
    {
     "data": {
      "text/html": [
       "<div>\n",
       "<style scoped>\n",
       "    .dataframe tbody tr th:only-of-type {\n",
       "        vertical-align: middle;\n",
       "    }\n",
       "\n",
       "    .dataframe tbody tr th {\n",
       "        vertical-align: top;\n",
       "    }\n",
       "\n",
       "    .dataframe thead th {\n",
       "        text-align: right;\n",
       "    }\n",
       "</style>\n",
       "<table border=\"1\" class=\"dataframe\">\n",
       "  <thead>\n",
       "    <tr style=\"text-align: right;\">\n",
       "      <th></th>\n",
       "      <th>application_id</th>\n",
       "      <th>bind_date</th>\n",
       "      <th>open_to_submit_min</th>\n",
       "      <th>submit_to_approve_min</th>\n",
       "      <th>channel_combined</th>\n",
       "      <th>business_line</th>\n",
       "      <th>open_date</th>\n",
       "      <th>bind</th>\n",
       "      <th>pre_approval_interactions</th>\n",
       "      <th>post_approval_pre_bind_interactions</th>\n",
       "      <th>...</th>\n",
       "      <th>travel_countries_count</th>\n",
       "      <th>med_conditions_count</th>\n",
       "      <th>bmi</th>\n",
       "      <th>age</th>\n",
       "      <th>income</th>\n",
       "      <th>annual_premium_estimated</th>\n",
       "      <th>income_comb</th>\n",
       "      <th>income_grp_v1</th>\n",
       "      <th>income_grp_v2</th>\n",
       "      <th>income_prem_ratio</th>\n",
       "    </tr>\n",
       "  </thead>\n",
       "  <tbody>\n",
       "    <tr>\n",
       "      <th>0</th>\n",
       "      <td>cc3090db-2ed8-4fc5-8f66-f3ef8bfef12b</td>\n",
       "      <td>2021-08-01</td>\n",
       "      <td>5</td>\n",
       "      <td>2</td>\n",
       "      <td>Lemonade</td>\n",
       "      <td>protect</td>\n",
       "      <td>2021-07-24</td>\n",
       "      <td>1</td>\n",
       "      <td>0</td>\n",
       "      <td>0</td>\n",
       "      <td>...</td>\n",
       "      <td>NaN</td>\n",
       "      <td>1.0</td>\n",
       "      <td>26.58</td>\n",
       "      <td>57.53</td>\n",
       "      <td>360000.0</td>\n",
       "      <td>1112.04</td>\n",
       "      <td>360000.0</td>\n",
       "      <td>$100k+</td>\n",
       "      <td>over $50k</td>\n",
       "      <td>323.729362</td>\n",
       "    </tr>\n",
       "    <tr>\n",
       "      <th>1</th>\n",
       "      <td>9bffeb0e-bf7d-4544-a175-df737563b530</td>\n",
       "      <td>NaN</td>\n",
       "      <td>4</td>\n",
       "      <td>2</td>\n",
       "      <td>Lemonade</td>\n",
       "      <td>protect</td>\n",
       "      <td>2021-08-12</td>\n",
       "      <td>0</td>\n",
       "      <td>0</td>\n",
       "      <td>0</td>\n",
       "      <td>...</td>\n",
       "      <td>NaN</td>\n",
       "      <td>1.0</td>\n",
       "      <td>33.90</td>\n",
       "      <td>41.32</td>\n",
       "      <td>57000.0</td>\n",
       "      <td>NaN</td>\n",
       "      <td>57000.0</td>\n",
       "      <td>$50k-$100k</td>\n",
       "      <td>over $50k</td>\n",
       "      <td>NaN</td>\n",
       "    </tr>\n",
       "    <tr>\n",
       "      <th>2</th>\n",
       "      <td>38c5539f-aa55-406f-8356-91859e67502a</td>\n",
       "      <td>NaN</td>\n",
       "      <td>0</td>\n",
       "      <td>2</td>\n",
       "      <td>Lemonade</td>\n",
       "      <td>protect</td>\n",
       "      <td>2021-08-22</td>\n",
       "      <td>0</td>\n",
       "      <td>0</td>\n",
       "      <td>0</td>\n",
       "      <td>...</td>\n",
       "      <td>NaN</td>\n",
       "      <td>1.0</td>\n",
       "      <td>22.96</td>\n",
       "      <td>39.60</td>\n",
       "      <td>84000.0</td>\n",
       "      <td>NaN</td>\n",
       "      <td>84000.0</td>\n",
       "      <td>$50k-$100k</td>\n",
       "      <td>over $50k</td>\n",
       "      <td>NaN</td>\n",
       "    </tr>\n",
       "    <tr>\n",
       "      <th>3</th>\n",
       "      <td>ea0c0f26-b08a-4121-92b4-04b36ac16442</td>\n",
       "      <td>2021-08-10</td>\n",
       "      <td>4</td>\n",
       "      <td>2</td>\n",
       "      <td>Lemonade</td>\n",
       "      <td>protect</td>\n",
       "      <td>2021-08-10</td>\n",
       "      <td>1</td>\n",
       "      <td>0</td>\n",
       "      <td>0</td>\n",
       "      <td>...</td>\n",
       "      <td>NaN</td>\n",
       "      <td>1.0</td>\n",
       "      <td>34.17</td>\n",
       "      <td>41.93</td>\n",
       "      <td>245000.0</td>\n",
       "      <td>2541.96</td>\n",
       "      <td>245000.0</td>\n",
       "      <td>$100k+</td>\n",
       "      <td>over $50k</td>\n",
       "      <td>96.382319</td>\n",
       "    </tr>\n",
       "    <tr>\n",
       "      <th>4</th>\n",
       "      <td>0a40356d-aaa0-4aaa-9bbd-5f0f0534608c</td>\n",
       "      <td>NaN</td>\n",
       "      <td>9</td>\n",
       "      <td>1</td>\n",
       "      <td>Lemonade</td>\n",
       "      <td>protect</td>\n",
       "      <td>2021-12-04</td>\n",
       "      <td>0</td>\n",
       "      <td>0</td>\n",
       "      <td>0</td>\n",
       "      <td>...</td>\n",
       "      <td>NaN</td>\n",
       "      <td>1.0</td>\n",
       "      <td>37.12</td>\n",
       "      <td>42.82</td>\n",
       "      <td>78500.0</td>\n",
       "      <td>NaN</td>\n",
       "      <td>78500.0</td>\n",
       "      <td>$50k-$100k</td>\n",
       "      <td>over $50k</td>\n",
       "      <td>NaN</td>\n",
       "    </tr>\n",
       "  </tbody>\n",
       "</table>\n",
       "<p>5 rows × 61 columns</p>\n",
       "</div>"
      ],
      "text/plain": [
       "                         application_id   bind_date  open_to_submit_min  \\\n",
       "0  cc3090db-2ed8-4fc5-8f66-f3ef8bfef12b  2021-08-01                   5   \n",
       "1  9bffeb0e-bf7d-4544-a175-df737563b530         NaN                   4   \n",
       "2  38c5539f-aa55-406f-8356-91859e67502a         NaN                   0   \n",
       "3  ea0c0f26-b08a-4121-92b4-04b36ac16442  2021-08-10                   4   \n",
       "4  0a40356d-aaa0-4aaa-9bbd-5f0f0534608c         NaN                   9   \n",
       "\n",
       "   submit_to_approve_min channel_combined business_line   open_date  bind  \\\n",
       "0                      2         Lemonade       protect  2021-07-24     1   \n",
       "1                      2         Lemonade       protect  2021-08-12     0   \n",
       "2                      2         Lemonade       protect  2021-08-22     0   \n",
       "3                      2         Lemonade       protect  2021-08-10     1   \n",
       "4                      1         Lemonade       protect  2021-12-04     0   \n",
       "\n",
       "   pre_approval_interactions  post_approval_pre_bind_interactions  ...  \\\n",
       "0                          0                                    0  ...   \n",
       "1                          0                                    0  ...   \n",
       "2                          0                                    0  ...   \n",
       "3                          0                                    0  ...   \n",
       "4                          0                                    0  ...   \n",
       "\n",
       "   travel_countries_count  med_conditions_count    bmi    age    income  \\\n",
       "0                     NaN                   1.0  26.58  57.53  360000.0   \n",
       "1                     NaN                   1.0  33.90  41.32   57000.0   \n",
       "2                     NaN                   1.0  22.96  39.60   84000.0   \n",
       "3                     NaN                   1.0  34.17  41.93  245000.0   \n",
       "4                     NaN                   1.0  37.12  42.82   78500.0   \n",
       "\n",
       "   annual_premium_estimated  income_comb  income_grp_v1  income_grp_v2  \\\n",
       "0                   1112.04     360000.0         $100k+      over $50k   \n",
       "1                       NaN      57000.0     $50k-$100k      over $50k   \n",
       "2                       NaN      84000.0     $50k-$100k      over $50k   \n",
       "3                   2541.96     245000.0         $100k+      over $50k   \n",
       "4                       NaN      78500.0     $50k-$100k      over $50k   \n",
       "\n",
       "   income_prem_ratio  \n",
       "0         323.729362  \n",
       "1                NaN  \n",
       "2                NaN  \n",
       "3          96.382319  \n",
       "4                NaN  \n",
       "\n",
       "[5 rows x 61 columns]"
      ]
     },
     "execution_count": 2,
     "metadata": {},
     "output_type": "execute_result"
    }
   ],
   "source": [
    "# import the user dataset, for which each observation is a user who was approved for a life insurance product\n",
    "# some of the users purchased and some did not - this is the target variable\n",
    "\n",
    "import pandas as pd\n",
    "user = pd.read_csv(r'C:\\Users\\milan\\Documents\\GitHub\\DSC-630-Project\\Propensity.csv')\n",
    "user.head()"
   ]
  },
  {
   "cell_type": "code",
   "execution_count": 3,
   "id": "b1b250ef",
   "metadata": {},
   "outputs": [
    {
     "data": {
      "text/plain": [
       "(127691, 61)"
      ]
     },
     "execution_count": 3,
     "metadata": {},
     "output_type": "execute_result"
    }
   ],
   "source": [
    "user.shape"
   ]
  },
  {
   "cell_type": "code",
   "execution_count": 4,
   "id": "ef541a25",
   "metadata": {},
   "outputs": [
    {
     "data": {
      "text/html": [
       "<div>\n",
       "<style scoped>\n",
       "    .dataframe tbody tr th:only-of-type {\n",
       "        vertical-align: middle;\n",
       "    }\n",
       "\n",
       "    .dataframe tbody tr th {\n",
       "        vertical-align: top;\n",
       "    }\n",
       "\n",
       "    .dataframe thead th {\n",
       "        text-align: right;\n",
       "    }\n",
       "</style>\n",
       "<table border=\"1\" class=\"dataframe\">\n",
       "  <thead>\n",
       "    <tr style=\"text-align: right;\">\n",
       "      <th></th>\n",
       "      <th>created_at</th>\n",
       "      <th>business_line</th>\n",
       "      <th>quote_id</th>\n",
       "      <th>application_id</th>\n",
       "      <th>face_amount</th>\n",
       "      <th>product</th>\n",
       "      <th>quoted_risk_class</th>\n",
       "      <th>approved_risk_class</th>\n",
       "      <th>quoted_premium</th>\n",
       "      <th>approved_premium</th>\n",
       "      <th>premium_difference</th>\n",
       "      <th>premium_pct_diff</th>\n",
       "    </tr>\n",
       "  </thead>\n",
       "  <tbody>\n",
       "    <tr>\n",
       "      <th>0</th>\n",
       "      <td>2019-10-27</td>\n",
       "      <td>direct</td>\n",
       "      <td>47386ebc-4405-40ca-b2c1-79b24a537e97</td>\n",
       "      <td>844a2118-1c9e-4f50-86ed-970937f8ecfc</td>\n",
       "      <td>200000</td>\n",
       "      <td>BT2002</td>\n",
       "      <td>select_tb</td>\n",
       "      <td>select_nt</td>\n",
       "      <td>5.0</td>\n",
       "      <td>33.33</td>\n",
       "      <td>-28.33</td>\n",
       "      <td>-5.666</td>\n",
       "    </tr>\n",
       "    <tr>\n",
       "      <th>1</th>\n",
       "      <td>2022-04-11</td>\n",
       "      <td>direct</td>\n",
       "      <td>ee741da6-788e-41cb-8b23-ab23bf07fecc</td>\n",
       "      <td>e3f51c27-eba2-4f36-86d2-f204baf66455</td>\n",
       "      <td>50000</td>\n",
       "      <td>BT1004</td>\n",
       "      <td>elite_nt</td>\n",
       "      <td>elite_nt</td>\n",
       "      <td>7.5</td>\n",
       "      <td>7.50</td>\n",
       "      <td>0.00</td>\n",
       "      <td>0.000</td>\n",
       "    </tr>\n",
       "    <tr>\n",
       "      <th>2</th>\n",
       "      <td>2021-10-26</td>\n",
       "      <td>direct</td>\n",
       "      <td>f05908fa-25df-4219-89fb-b30f2bb517a3</td>\n",
       "      <td>8cf1757c-f644-4082-a0bb-8b3ecb50d79b</td>\n",
       "      <td>50000</td>\n",
       "      <td>BT1004</td>\n",
       "      <td>elite_nt</td>\n",
       "      <td>elite_nt</td>\n",
       "      <td>7.5</td>\n",
       "      <td>7.50</td>\n",
       "      <td>0.00</td>\n",
       "      <td>0.000</td>\n",
       "    </tr>\n",
       "    <tr>\n",
       "      <th>3</th>\n",
       "      <td>2021-04-28</td>\n",
       "      <td>direct</td>\n",
       "      <td>4e8cf39c-5334-451f-8770-d3de35d1b4ea</td>\n",
       "      <td>42c460b7-3d17-4c27-8f11-535b5da44d2f</td>\n",
       "      <td>50000</td>\n",
       "      <td>BT1004</td>\n",
       "      <td>elite_nt</td>\n",
       "      <td>super_elite_nt</td>\n",
       "      <td>7.5</td>\n",
       "      <td>7.50</td>\n",
       "      <td>0.00</td>\n",
       "      <td>0.000</td>\n",
       "    </tr>\n",
       "    <tr>\n",
       "      <th>4</th>\n",
       "      <td>2021-04-19</td>\n",
       "      <td>advisor</td>\n",
       "      <td>e573f1be-9ed2-4ff9-8597-20859417cad0</td>\n",
       "      <td>7145a861-c133-4330-918b-80d4199078ca</td>\n",
       "      <td>50000</td>\n",
       "      <td>BT1004</td>\n",
       "      <td>elite_nt</td>\n",
       "      <td>super_elite_nt</td>\n",
       "      <td>7.5</td>\n",
       "      <td>7.50</td>\n",
       "      <td>0.00</td>\n",
       "      <td>0.000</td>\n",
       "    </tr>\n",
       "  </tbody>\n",
       "</table>\n",
       "</div>"
      ],
      "text/plain": [
       "   created_at business_line                              quote_id  \\\n",
       "0  2019-10-27        direct  47386ebc-4405-40ca-b2c1-79b24a537e97   \n",
       "1  2022-04-11        direct  ee741da6-788e-41cb-8b23-ab23bf07fecc   \n",
       "2  2021-10-26        direct  f05908fa-25df-4219-89fb-b30f2bb517a3   \n",
       "3  2021-04-28        direct  4e8cf39c-5334-451f-8770-d3de35d1b4ea   \n",
       "4  2021-04-19       advisor  e573f1be-9ed2-4ff9-8597-20859417cad0   \n",
       "\n",
       "                         application_id  face_amount product  \\\n",
       "0  844a2118-1c9e-4f50-86ed-970937f8ecfc       200000  BT2002   \n",
       "1  e3f51c27-eba2-4f36-86d2-f204baf66455        50000  BT1004   \n",
       "2  8cf1757c-f644-4082-a0bb-8b3ecb50d79b        50000  BT1004   \n",
       "3  42c460b7-3d17-4c27-8f11-535b5da44d2f        50000  BT1004   \n",
       "4  7145a861-c133-4330-918b-80d4199078ca        50000  BT1004   \n",
       "\n",
       "  quoted_risk_class approved_risk_class  quoted_premium  approved_premium  \\\n",
       "0         select_tb           select_nt             5.0             33.33   \n",
       "1          elite_nt            elite_nt             7.5              7.50   \n",
       "2          elite_nt            elite_nt             7.5              7.50   \n",
       "3          elite_nt      super_elite_nt             7.5              7.50   \n",
       "4          elite_nt      super_elite_nt             7.5              7.50   \n",
       "\n",
       "   premium_difference  premium_pct_diff  \n",
       "0              -28.33            -5.666  \n",
       "1                0.00             0.000  \n",
       "2                0.00             0.000  \n",
       "3                0.00             0.000  \n",
       "4                0.00             0.000  "
      ]
     },
     "execution_count": 4,
     "metadata": {},
     "output_type": "execute_result"
    }
   ],
   "source": [
    "# import the quote dataset, where each observation is an application id that includes the premiums that a user was shown \n",
    "# at quote and after being approved for the same product and face value, which is not always the same\n",
    "# in fact, a previous analysis showed that more than half the time the premium the user is shown after \n",
    "# having their application approved is higher than the one they they were shown when they got a quote\n",
    "\n",
    "# a key question to be answered in this model is the importance of this feature\n",
    "\n",
    "quote = pd.read_csv(r'C:\\Users\\milan\\Documents\\GitHub\\DSC-630-Project\\quote_to_approved.csv')\n",
    "quote.head()"
   ]
  },
  {
   "cell_type": "code",
   "execution_count": 5,
   "id": "5b1e6b5f",
   "metadata": {},
   "outputs": [
    {
     "data": {
      "text/plain": [
       "(101416, 12)"
      ]
     },
     "execution_count": 5,
     "metadata": {},
     "output_type": "execute_result"
    }
   ],
   "source": [
    "quote.shape"
   ]
  },
  {
   "cell_type": "code",
   "execution_count": 6,
   "id": "0491b9d1",
   "metadata": {},
   "outputs": [
    {
     "data": {
      "text/plain": [
       "(44844, 72)"
      ]
     },
     "execution_count": 6,
     "metadata": {},
     "output_type": "execute_result"
    }
   ],
   "source": [
    "# the user dataframe has ~127k observations\n",
    "# the quote dataframe has ~101k observations\n",
    "# about 45k observationa are in both dataframes\n",
    "\n",
    "df = pd.merge(user, quote, on = ['application_id'])\n",
    "df.shape"
   ]
  },
  {
   "cell_type": "code",
   "execution_count": 7,
   "id": "c71e1921",
   "metadata": {},
   "outputs": [
    {
     "data": {
      "text/plain": [
       "array([0, 1], dtype=int64)"
      ]
     },
     "execution_count": 7,
     "metadata": {},
     "output_type": "execute_result"
    }
   ],
   "source": [
    "# check the bind field as it is our target\n",
    "df['bind'].unique()"
   ]
  },
  {
   "cell_type": "code",
   "execution_count": 8,
   "id": "4b26b2bf",
   "metadata": {},
   "outputs": [
    {
     "data": {
      "text/plain": [
       "0"
      ]
     },
     "execution_count": 8,
     "metadata": {},
     "output_type": "execute_result"
    }
   ],
   "source": [
    "df['bind'].isnull().sum()"
   ]
  },
  {
   "cell_type": "code",
   "execution_count": 28,
   "id": "73b19a83",
   "metadata": {},
   "outputs": [
    {
     "data": {
      "text/html": [
       "<div>\n",
       "<style scoped>\n",
       "    .dataframe tbody tr th:only-of-type {\n",
       "        vertical-align: middle;\n",
       "    }\n",
       "\n",
       "    .dataframe tbody tr th {\n",
       "        vertical-align: top;\n",
       "    }\n",
       "\n",
       "    .dataframe thead th {\n",
       "        text-align: right;\n",
       "    }\n",
       "</style>\n",
       "<table border=\"1\" class=\"dataframe\">\n",
       "  <thead>\n",
       "    <tr style=\"text-align: right;\">\n",
       "      <th></th>\n",
       "      <th>bind</th>\n",
       "      <th>application_id</th>\n",
       "    </tr>\n",
       "  </thead>\n",
       "  <tbody>\n",
       "    <tr>\n",
       "      <th>0</th>\n",
       "      <td>0</td>\n",
       "      <td>25607</td>\n",
       "    </tr>\n",
       "    <tr>\n",
       "      <th>1</th>\n",
       "      <td>1</td>\n",
       "      <td>19237</td>\n",
       "    </tr>\n",
       "  </tbody>\n",
       "</table>\n",
       "</div>"
      ],
      "text/plain": [
       "   bind  application_id\n",
       "0     0           25607\n",
       "1     1           19237"
      ]
     },
     "execution_count": 28,
     "metadata": {},
     "output_type": "execute_result"
    }
   ],
   "source": [
    "df.groupby('bind')['application_id'].count().reset_index()"
   ]
  },
  {
   "cell_type": "markdown",
   "id": "a13f8e54",
   "metadata": {},
   "source": [
    "Possible values for bind (which means that the user purchased a policy) are 0 and 1, where 0 means that they did not bind.  There are no null values, and the dataset, while not perfectly balanced, is not unbalanced, with about 56% of users not binding and 44% binding."
   ]
  },
  {
   "cell_type": "code",
   "execution_count": 10,
   "id": "60185a5b",
   "metadata": {},
   "outputs": [
    {
     "data": {
      "text/plain": [
       "Index(['application_id', 'bind_date', 'open_to_submit_min',\n",
       "       'submit_to_approve_min', 'channel_combined', 'business_line_x',\n",
       "       'open_date', 'bind', 'pre_approval_interactions',\n",
       "       'post_approval_pre_bind_interactions', 'post_bind_interactions',\n",
       "       'total_interactions', 'anonid_uniq', 'sessions_uniq', 'event_total',\n",
       "       'session_pageload_total', 'url_uniq', 'total_seconds', 'gclid_count',\n",
       "       'customer_portal_loads', 'device', 'device_name',\n",
       "       'avg_seconds_per_session', 'avg_events_per_session', 'event_len',\n",
       "       'utm_source_len', 'utm_medium_len', 'utm_campaign_len', 'utm_term_len',\n",
       "       'referrer_host_len', 'record_created_at', 'gender', 'tb',\n",
       "       'mvr_order_status', 'current_ins', 'rx_result', 'replacement_ins',\n",
       "       'legal_resident', 'employment_status', 'postal_code_address',\n",
       "       'income_payment_period', 'designate_secondary_contact',\n",
       "       'alcohol_weekly', 'disability_pmts', 'term_length_years',\n",
       "       'household_income', 'lrc_score', 'face_value', 'mvr_points',\n",
       "       'previous_declined', 'zip_d1', 'travel_countries_count',\n",
       "       'med_conditions_count', 'bmi', 'age', 'income',\n",
       "       'annual_premium_estimated', 'income_comb', 'income_grp_v1',\n",
       "       'income_grp_v2', 'income_prem_ratio', 'created_at', 'business_line_y',\n",
       "       'quote_id', 'face_amount', 'product', 'quoted_risk_class',\n",
       "       'approved_risk_class', 'quoted_premium', 'approved_premium',\n",
       "       'premium_difference', 'premium_pct_diff'],\n",
       "      dtype='object')"
      ]
     },
     "execution_count": 10,
     "metadata": {},
     "output_type": "execute_result"
    }
   ],
   "source": [
    "# list the columns and create a data dictionary\n",
    "df.columns"
   ]
  },
  {
   "cell_type": "markdown",
   "id": "730cfaf7",
   "metadata": {},
   "source": [
    "### Data Dictionary\n",
    "\n",
    "#### From user\n",
    "- application_id: categorical, unique identifier of the application\n",
    "- bind_date: date, the date of when the applicant bound a policy (needs to be removed from model to avoid leakage)\n",
    "- open_to_submit_min: integer, number of minutes to complete and submit the application\n",
    "- submit_to_approve_min: integer, number of minutes for the application to get approved after it is submitted\n",
    "- channel_combined: categorical, marketing channel(s) responsible for the application start ?  or the quote?  or something else?\n",
    "- business_line: categorical, direct, protect, core, advisors\n",
    "- open_date: date, the date the application was started\n",
    "- bind: binary, indicating if the applicant bound a policy (target variable)\n",
    "- anonid_uniq: number of anonymous id's from segment\n",
    "- sessions_uniq: number of unique sessions\n",
    "- event_total: number of events\n",
    "- session_pageload_total: number of session page loads\n",
    "- url_uniq: number of unique url's accessed by the user\n",
    "- total_seconds:  how long on the web site\n",
    "- gclid_count: ?\n",
    "- customer_portal_loads: ?\n",
    "- device: device type, i.e., phone, tablet, desktop\n",
    "- device_name: device type + OS\n",
    "- avg_seconds_per_session: average time per session in second\n",
    "- avg_events_per_session: average number of events per session\n",
    "- event_len: average number of seconds per event\n",
    "- gender: gender of applicant\n",
    "- tb: binary, tobacco user or not\n",
    "- current_ins: binary, does the applicant currently have life insurance\n",
    "- rx_result: (remove)\n",
    "- replacement_ins: binary, does the applicant currently have replacement insurance (what is replacement insurance?)\n",
    "- legal_resident: resident or visa\n",
    "- employment_status:  'fulltime', 'parttime', 'fulltime_student', 'retired','stay_at_home', 'parttime_student', 'unemployed'\n",
    "- postal_code_address: zip code of home address\n",
    "- income_payment_period: how frequently the applicant gets paid\n",
    "- designate_secondary_contact:  no non-null values, so this can be removed\n",
    "- alcohol_weekly: number of drinks per week as reported by the applicant\n",
    "- disability_pmts: binary, does (or has?) the applicant receive(d) diability payments (history)\n",
    "- term_length_years: length of term (this will likely be removed, but compare to term length from quote)\n",
    "- household_income: reported household income (verify)\n",
    "- lrc_score: brought in from vendor risk score from lexus nexes, mortality risk score.  This generally highly correlated with being approved\n",
    "- face_value: face value of the policy (this will likely be removed, but compare to face value from quote)\n",
    "- previous_declined: binary, has the applicant been previously declined for life insurance\n",
    "- travel_countries_count: number of countries the applicant has visited\n",
    "- med_conditions_count: number of medical conditions the applicant has history\n",
    "- bmi: body mass index of applicant\n",
    "- age: age of applicant\n",
    "- income: income of applicant\n",
    "- annual_premium_estimated: the annual premium shown to the applicant after approval (this will likely be removed, but compare to premium from quote)\n",
    "- income_comb: annual income\n",
    "- income_prem_ratio: rato of income to premium (annual)\n",
    "    - Note: add income to face amount ratio as another feature\n",
    "    \n",
    "#### From quote\n",
    "- created_at: when the application was started\n",
    "- business_line_y: business line, join on this \n",
    "- quote_id: quote id associated with the approved app\n",
    "- face_amount: face amount of the approved policy\n",
    "- product: procuct code, including term length\n",
    "- quoted_risk_class: the risk class that the applicant was put it at quote\n",
    "- approved_risk_class: the risk class the applicant was put it after approval\n",
    "- quoted_premium: the monthly premium shown at quote\n",
    "- approved_premium: the monthly premium shown after approval\n",
    "- premium_difference: the difference between the two premiums (quote - approved)\n",
    "- premium_pct_diff: the percent difference between the two premiums (quote - approved)/quote\n",
    "\n",
    "#### After discussing with the data science team, the following fields can be removed\n",
    "- the following two field should be removed to avoid leakage\n",
    "    - post_bind_interactions:\n",
    "    - total_interactions: sum of the previous three fields (inlcuding post bind interactions)\n",
    "- utm_source_len: not sure how the length of the various parts of the utm is relevant to predicting bind\n",
    "- utm_medium_len\n",
    "- utm_campaign_len\n",
    "- utm_term_len\n",
    "- referrer_host_len\n",
    "- record_created_at: when the data was pulled\n",
    "- mvr_points\n",
    "- mvr_order_status\n",
    "- zip_d1\n",
    "- income_grp_v1: binned income group: under 50k, 50k-100k, 100k+ \n",
    "- income_grp_v2: binned income group; under 50k, 50k+"
   ]
  },
  {
   "cell_type": "code",
   "execution_count": 11,
   "id": "fc044328",
   "metadata": {},
   "outputs": [],
   "source": [
    "df = df[['application_id', 'open_to_submit_min',\n",
    "       'submit_to_approve_min', 'channel_combined', 'business_line_x',\n",
    "       'open_date', 'bind', 'pre_approval_interactions',\n",
    "       'post_approval_pre_bind_interactions', 'anonid_uniq', 'sessions_uniq', 'event_total',\n",
    "       'session_pageload_total', 'url_uniq', 'total_seconds', 'gclid_count',\n",
    "       'customer_portal_loads', 'device', 'device_name',\n",
    "       'avg_seconds_per_session', 'avg_events_per_session', 'event_len', 'gender', 'tb', 'current_ins', 'rx_result', 'replacement_ins',\n",
    "       'legal_resident', 'employment_status', 'postal_code_address',\n",
    "       'income_payment_period',\n",
    "       'alcohol_weekly', 'disability_pmts', 'term_length_years',\n",
    "       'household_income', 'lrc_score', 'face_value',\n",
    "       'previous_declined', 'travel_countries_count',\n",
    "       'med_conditions_count', 'bmi', 'age', 'income',\n",
    "       'annual_premium_estimated', 'income_comb', 'income_prem_ratio', 'created_at', 'business_line_y',\n",
    "       'quote_id', 'face_amount', 'product', 'quoted_risk_class',\n",
    "       'approved_risk_class', 'quoted_premium', 'approved_premium',\n",
    "       'premium_difference', 'premium_pct_diff']]"
   ]
  },
  {
   "cell_type": "code",
   "execution_count": 12,
   "id": "439aae5f",
   "metadata": {},
   "outputs": [
    {
     "data": {
      "text/plain": [
       "6369"
      ]
     },
     "execution_count": 12,
     "metadata": {},
     "output_type": "execute_result"
    }
   ],
   "source": [
    "df['income_comb'].isnull().sum()"
   ]
  },
  {
   "cell_type": "code",
   "execution_count": 13,
   "id": "1305c20d",
   "metadata": {},
   "outputs": [
    {
     "name": "stderr",
     "output_type": "stream",
     "text": [
      "C:\\Users\\milan\\AppData\\Local\\Temp/ipykernel_20092/3119235808.py:5: SettingWithCopyWarning: \n",
      "A value is trying to be set on a copy of a slice from a DataFrame.\n",
      "Try using .loc[row_indexer,col_indexer] = value instead\n",
      "\n",
      "See the caveats in the documentation: https://pandas.pydata.org/pandas-docs/stable/user_guide/indexing.html#returning-a-view-versus-a-copy\n",
      "  test['income_ratio'] = test.apply(lambda x: x.income_comb/x.annual_premium_estimated, axis=1)\n"
     ]
    }
   ],
   "source": [
    "# check how income_prem_ratio is created (hypothesis: annual income divided by annual premium)\n",
    "# to check this hypothesis, I will create a column for annual income divided by annual premium and compare it to\n",
    "# the values in the income_prem_ratio field\n",
    "test = df[[ 'income_comb', 'annual_premium_estimated', 'income_prem_ratio']]\n",
    "test['income_ratio'] = test.apply(lambda x: x.income_comb/x.annual_premium_estimated, axis=1)"
   ]
  },
  {
   "cell_type": "code",
   "execution_count": 14,
   "id": "ea1dffc1",
   "metadata": {},
   "outputs": [
    {
     "data": {
      "text/html": [
       "<div>\n",
       "<style scoped>\n",
       "    .dataframe tbody tr th:only-of-type {\n",
       "        vertical-align: middle;\n",
       "    }\n",
       "\n",
       "    .dataframe tbody tr th {\n",
       "        vertical-align: top;\n",
       "    }\n",
       "\n",
       "    .dataframe thead th {\n",
       "        text-align: right;\n",
       "    }\n",
       "</style>\n",
       "<table border=\"1\" class=\"dataframe\">\n",
       "  <thead>\n",
       "    <tr style=\"text-align: right;\">\n",
       "      <th></th>\n",
       "      <th>income_comb</th>\n",
       "      <th>annual_premium_estimated</th>\n",
       "      <th>income_prem_ratio</th>\n",
       "      <th>income_ratio</th>\n",
       "    </tr>\n",
       "  </thead>\n",
       "  <tbody>\n",
       "    <tr>\n",
       "      <th>0</th>\n",
       "      <td>182000.0</td>\n",
       "      <td>NaN</td>\n",
       "      <td>NaN</td>\n",
       "      <td>NaN</td>\n",
       "    </tr>\n",
       "    <tr>\n",
       "      <th>1</th>\n",
       "      <td>52650.0</td>\n",
       "      <td>362.04</td>\n",
       "      <td>145.425920</td>\n",
       "      <td>145.425920</td>\n",
       "    </tr>\n",
       "    <tr>\n",
       "      <th>2</th>\n",
       "      <td>38584.0</td>\n",
       "      <td>302.04</td>\n",
       "      <td>127.744670</td>\n",
       "      <td>127.744670</td>\n",
       "    </tr>\n",
       "    <tr>\n",
       "      <th>3</th>\n",
       "      <td>55200.0</td>\n",
       "      <td>NaN</td>\n",
       "      <td>NaN</td>\n",
       "      <td>NaN</td>\n",
       "    </tr>\n",
       "    <tr>\n",
       "      <th>4</th>\n",
       "      <td>78864.0</td>\n",
       "      <td>NaN</td>\n",
       "      <td>NaN</td>\n",
       "      <td>NaN</td>\n",
       "    </tr>\n",
       "    <tr>\n",
       "      <th>...</th>\n",
       "      <td>...</td>\n",
       "      <td>...</td>\n",
       "      <td>...</td>\n",
       "      <td>...</td>\n",
       "    </tr>\n",
       "    <tr>\n",
       "      <th>44839</th>\n",
       "      <td>85000.0</td>\n",
       "      <td>NaN</td>\n",
       "      <td>NaN</td>\n",
       "      <td>NaN</td>\n",
       "    </tr>\n",
       "    <tr>\n",
       "      <th>44840</th>\n",
       "      <td>85000.0</td>\n",
       "      <td>1412.04</td>\n",
       "      <td>60.196595</td>\n",
       "      <td>60.196595</td>\n",
       "    </tr>\n",
       "    <tr>\n",
       "      <th>44841</th>\n",
       "      <td>85000.0</td>\n",
       "      <td>649.56</td>\n",
       "      <td>130.857811</td>\n",
       "      <td>130.857811</td>\n",
       "    </tr>\n",
       "    <tr>\n",
       "      <th>44842</th>\n",
       "      <td>85000.0</td>\n",
       "      <td>1368.00</td>\n",
       "      <td>62.134503</td>\n",
       "      <td>62.134503</td>\n",
       "    </tr>\n",
       "    <tr>\n",
       "      <th>44843</th>\n",
       "      <td>85000.0</td>\n",
       "      <td>NaN</td>\n",
       "      <td>NaN</td>\n",
       "      <td>NaN</td>\n",
       "    </tr>\n",
       "  </tbody>\n",
       "</table>\n",
       "<p>44844 rows × 4 columns</p>\n",
       "</div>"
      ],
      "text/plain": [
       "       income_comb  annual_premium_estimated  income_prem_ratio  income_ratio\n",
       "0         182000.0                       NaN                NaN           NaN\n",
       "1          52650.0                    362.04         145.425920    145.425920\n",
       "2          38584.0                    302.04         127.744670    127.744670\n",
       "3          55200.0                       NaN                NaN           NaN\n",
       "4          78864.0                       NaN                NaN           NaN\n",
       "...            ...                       ...                ...           ...\n",
       "44839      85000.0                       NaN                NaN           NaN\n",
       "44840      85000.0                   1412.04          60.196595     60.196595\n",
       "44841      85000.0                    649.56         130.857811    130.857811\n",
       "44842      85000.0                   1368.00          62.134503     62.134503\n",
       "44843      85000.0                       NaN                NaN           NaN\n",
       "\n",
       "[44844 rows x 4 columns]"
      ]
     },
     "execution_count": 14,
     "metadata": {},
     "output_type": "execute_result"
    }
   ],
   "source": [
    "test"
   ]
  },
  {
   "cell_type": "code",
   "execution_count": 15,
   "id": "311aa278",
   "metadata": {},
   "outputs": [
    {
     "data": {
      "text/plain": [
       "(19237, 5)"
      ]
     },
     "execution_count": 15,
     "metadata": {},
     "output_type": "execute_result"
    }
   ],
   "source": [
    "#  drop NaN and check the remaining values\n",
    "test = test.dropna(subset = ['annual_premium_estimated']).reset_index()\n",
    "test.shape"
   ]
  },
  {
   "cell_type": "code",
   "execution_count": 16,
   "id": "7ba37044",
   "metadata": {},
   "outputs": [
    {
     "data": {
      "text/html": [
       "<div>\n",
       "<style scoped>\n",
       "    .dataframe tbody tr th:only-of-type {\n",
       "        vertical-align: middle;\n",
       "    }\n",
       "\n",
       "    .dataframe tbody tr th {\n",
       "        vertical-align: top;\n",
       "    }\n",
       "\n",
       "    .dataframe thead th {\n",
       "        text-align: right;\n",
       "    }\n",
       "</style>\n",
       "<table border=\"1\" class=\"dataframe\">\n",
       "  <thead>\n",
       "    <tr style=\"text-align: right;\">\n",
       "      <th></th>\n",
       "      <th>index</th>\n",
       "      <th>income_comb</th>\n",
       "      <th>annual_premium_estimated</th>\n",
       "      <th>income_prem_ratio</th>\n",
       "      <th>income_ratio</th>\n",
       "    </tr>\n",
       "  </thead>\n",
       "  <tbody>\n",
       "    <tr>\n",
       "      <th>5</th>\n",
       "      <td>12</td>\n",
       "      <td>160000.0</td>\n",
       "      <td>1362.00</td>\n",
       "      <td>117.474302</td>\n",
       "      <td>117.474302</td>\n",
       "    </tr>\n",
       "    <tr>\n",
       "      <th>18</th>\n",
       "      <td>38</td>\n",
       "      <td>37960.0</td>\n",
       "      <td>402.00</td>\n",
       "      <td>94.427861</td>\n",
       "      <td>94.427861</td>\n",
       "    </tr>\n",
       "    <tr>\n",
       "      <th>21</th>\n",
       "      <td>44</td>\n",
       "      <td>50400.0</td>\n",
       "      <td>942.00</td>\n",
       "      <td>53.503185</td>\n",
       "      <td>53.503185</td>\n",
       "    </tr>\n",
       "    <tr>\n",
       "      <th>29</th>\n",
       "      <td>65</td>\n",
       "      <td>1768000.0</td>\n",
       "      <td>2613.00</td>\n",
       "      <td>676.616915</td>\n",
       "      <td>676.616915</td>\n",
       "    </tr>\n",
       "    <tr>\n",
       "      <th>33</th>\n",
       "      <td>76</td>\n",
       "      <td>50388.0</td>\n",
       "      <td>435.00</td>\n",
       "      <td>115.834483</td>\n",
       "      <td>115.834483</td>\n",
       "    </tr>\n",
       "    <tr>\n",
       "      <th>...</th>\n",
       "      <td>...</td>\n",
       "      <td>...</td>\n",
       "      <td>...</td>\n",
       "      <td>...</td>\n",
       "      <td>...</td>\n",
       "    </tr>\n",
       "    <tr>\n",
       "      <th>19220</th>\n",
       "      <td>44818</td>\n",
       "      <td>85000.0</td>\n",
       "      <td>852.00</td>\n",
       "      <td>99.765258</td>\n",
       "      <td>99.765258</td>\n",
       "    </tr>\n",
       "    <tr>\n",
       "      <th>19223</th>\n",
       "      <td>44822</td>\n",
       "      <td>85000.0</td>\n",
       "      <td>932.04</td>\n",
       "      <td>91.197803</td>\n",
       "      <td>91.197803</td>\n",
       "    </tr>\n",
       "    <tr>\n",
       "      <th>19228</th>\n",
       "      <td>44827</td>\n",
       "      <td>85000.0</td>\n",
       "      <td>279.48</td>\n",
       "      <td>304.136253</td>\n",
       "      <td>304.136253</td>\n",
       "    </tr>\n",
       "    <tr>\n",
       "      <th>19232</th>\n",
       "      <td>44833</td>\n",
       "      <td>85000.0</td>\n",
       "      <td>423.96</td>\n",
       "      <td>200.490612</td>\n",
       "      <td>200.490612</td>\n",
       "    </tr>\n",
       "    <tr>\n",
       "      <th>19233</th>\n",
       "      <td>44837</td>\n",
       "      <td>85000.0</td>\n",
       "      <td>834.96</td>\n",
       "      <td>101.801284</td>\n",
       "      <td>101.801284</td>\n",
       "    </tr>\n",
       "  </tbody>\n",
       "</table>\n",
       "<p>6521 rows × 5 columns</p>\n",
       "</div>"
      ],
      "text/plain": [
       "       index  income_comb  annual_premium_estimated  income_prem_ratio  \\\n",
       "5         12     160000.0                   1362.00         117.474302   \n",
       "18        38      37960.0                    402.00          94.427861   \n",
       "21        44      50400.0                    942.00          53.503185   \n",
       "29        65    1768000.0                   2613.00         676.616915   \n",
       "33        76      50388.0                    435.00         115.834483   \n",
       "...      ...          ...                       ...                ...   \n",
       "19220  44818      85000.0                    852.00          99.765258   \n",
       "19223  44822      85000.0                    932.04          91.197803   \n",
       "19228  44827      85000.0                    279.48         304.136253   \n",
       "19232  44833      85000.0                    423.96         200.490612   \n",
       "19233  44837      85000.0                    834.96         101.801284   \n",
       "\n",
       "       income_ratio  \n",
       "5        117.474302  \n",
       "18        94.427861  \n",
       "21        53.503185  \n",
       "29       676.616915  \n",
       "33       115.834483  \n",
       "...             ...  \n",
       "19220     99.765258  \n",
       "19223     91.197803  \n",
       "19228    304.136253  \n",
       "19232    200.490612  \n",
       "19233    101.801284  \n",
       "\n",
       "[6521 rows x 5 columns]"
      ]
     },
     "execution_count": 16,
     "metadata": {},
     "output_type": "execute_result"
    }
   ],
   "source": [
    "test[test['income_prem_ratio'] != test['income_ratio']]\n",
    "# this is supposed to show observations where these fields are different, but they look the same"
   ]
  },
  {
   "cell_type": "code",
   "execution_count": 17,
   "id": "7d58c531",
   "metadata": {},
   "outputs": [
    {
     "data": {
      "text/plain": [
       "-2.3276852559143968e-11"
      ]
     },
     "execution_count": 17,
     "metadata": {},
     "output_type": "execute_result"
    }
   ],
   "source": [
    "# find the difference between the fields and sum it to see how different they are\n",
    "test['diff'] = test.apply(lambda x: x.income_prem_ratio - x.income_ratio, axis =1)\n",
    "test['diff'].sum()"
   ]
  },
  {
   "cell_type": "markdown",
   "id": "b99609d1",
   "metadata": {},
   "source": [
    "The difference is essentially 0, so we know how income_prem_ratio is calculated"
   ]
  },
  {
   "cell_type": "code",
   "execution_count": 19,
   "id": "bfb6bcc7",
   "metadata": {},
   "outputs": [
    {
     "name": "stderr",
     "output_type": "stream",
     "text": [
      "C:\\Users\\milan\\AppData\\Local\\Temp/ipykernel_20092/585787592.py:6: SettingWithCopyWarning: \n",
      "A value is trying to be set on a copy of a slice from a DataFrame.\n",
      "Try using .loc[row_indexer,col_indexer] = value instead\n",
      "\n",
      "See the caveats in the documentation: https://pandas.pydata.org/pandas-docs/stable/user_guide/indexing.html#returning-a-view-versus-a-copy\n",
      "  compare['annual_approved_premium'] = compare.apply(lambda x: x.approved_premium*12, axis = 1)\n"
     ]
    }
   ],
   "source": [
    "# check to see how premium, face value, and term length compare between the two datasets that were combined\n",
    "# first create a new dataframe with the fields that I want to compare\n",
    "\n",
    "compare = df[['annual_premium_estimated', 'approved_premium', 'face_value', 'face_amount', 'term_length_years', 'product']]\n",
    "# the approved premium is a monthly premium, so we multiply by 12 to convert it to annual\n",
    "compare['annual_approved_premium'] = compare.apply(lambda x: x.approved_premium*12, axis = 1)"
   ]
  },
  {
   "cell_type": "code",
   "execution_count": 20,
   "id": "72dd2e68",
   "metadata": {},
   "outputs": [
    {
     "name": "stderr",
     "output_type": "stream",
     "text": [
      "C:\\Users\\milan\\AppData\\Local\\Temp/ipykernel_20092/1808066344.py:4: SettingWithCopyWarning: \n",
      "A value is trying to be set on a copy of a slice from a DataFrame.\n",
      "Try using .loc[row_indexer,col_indexer] = value instead\n",
      "\n",
      "See the caveats in the documentation: https://pandas.pydata.org/pandas-docs/stable/user_guide/indexing.html#returning-a-view-versus-a-copy\n",
      "  compare['approved_term'] = compare['product'].str[:4].str[-2:].astype(int)\n"
     ]
    }
   ],
   "source": [
    "# extract the term length from the product\n",
    "# for example , if the product is BT2004, the term length is 20, so we need to extract the middle two characters\n",
    "# and convert it to an integer to compare with term length\n",
    "compare['approved_term'] = compare['product'].str[:4].str[-2:].astype(int)"
   ]
  },
  {
   "cell_type": "code",
   "execution_count": 21,
   "id": "2d959874",
   "metadata": {},
   "outputs": [
    {
     "data": {
      "text/plain": [
       "annual_premium_estimated    25607\n",
       "annual_approved_premium         0\n",
       "face_value                  15285\n",
       "face_amount                     0\n",
       "term_length_years               0\n",
       "approved_term                   0\n",
       "dtype: int64"
      ]
     },
     "execution_count": 21,
     "metadata": {},
     "output_type": "execute_result"
    }
   ],
   "source": [
    "# examine the number of null values for each of these fields\n",
    "compare = compare[['annual_premium_estimated', 'annual_approved_premium', 'face_value',\n",
    "       'face_amount', 'term_length_years', 'approved_term']]\n",
    "compare.isnull().sum()"
   ]
  },
  {
   "cell_type": "markdown",
   "id": "46746ebc",
   "metadata": {},
   "source": [
    "We see that the annual premium estimated is missing more than 25k observations, and face value is missing over 15k.  We will still check to see how the remaining values compare, but will use annual_approved_premium and face amount for our model."
   ]
  },
  {
   "cell_type": "code",
   "execution_count": 22,
   "id": "d7256fd7",
   "metadata": {},
   "outputs": [
    {
     "data": {
      "text/html": [
       "<div>\n",
       "<style scoped>\n",
       "    .dataframe tbody tr th:only-of-type {\n",
       "        vertical-align: middle;\n",
       "    }\n",
       "\n",
       "    .dataframe tbody tr th {\n",
       "        vertical-align: top;\n",
       "    }\n",
       "\n",
       "    .dataframe thead th {\n",
       "        text-align: right;\n",
       "    }\n",
       "</style>\n",
       "<table border=\"1\" class=\"dataframe\">\n",
       "  <thead>\n",
       "    <tr style=\"text-align: right;\">\n",
       "      <th></th>\n",
       "      <th>annual_premium_estimated</th>\n",
       "      <th>annual_approved_premium</th>\n",
       "      <th>face_value</th>\n",
       "      <th>face_amount</th>\n",
       "      <th>term_length_years</th>\n",
       "      <th>approved_term</th>\n",
       "      <th>prem_diff</th>\n",
       "      <th>face_diff</th>\n",
       "      <th>term_diff</th>\n",
       "      <th>prem_pct_diff</th>\n",
       "      <th>face_pct_diff</th>\n",
       "    </tr>\n",
       "  </thead>\n",
       "  <tbody>\n",
       "    <tr>\n",
       "      <th>0</th>\n",
       "      <td>NaN</td>\n",
       "      <td>4832.04</td>\n",
       "      <td>NaN</td>\n",
       "      <td>1000000</td>\n",
       "      <td>20</td>\n",
       "      <td>20</td>\n",
       "      <td>NaN</td>\n",
       "      <td>NaN</td>\n",
       "      <td>0.0</td>\n",
       "      <td>NaN</td>\n",
       "      <td>NaN</td>\n",
       "    </tr>\n",
       "    <tr>\n",
       "      <th>1</th>\n",
       "      <td>362.04</td>\n",
       "      <td>477.96</td>\n",
       "      <td>500000.0</td>\n",
       "      <td>700000</td>\n",
       "      <td>15</td>\n",
       "      <td>15</td>\n",
       "      <td>24.253076</td>\n",
       "      <td>28.571429</td>\n",
       "      <td>0.0</td>\n",
       "      <td>24.253076</td>\n",
       "      <td>28.571429</td>\n",
       "    </tr>\n",
       "    <tr>\n",
       "      <th>2</th>\n",
       "      <td>302.04</td>\n",
       "      <td>302.04</td>\n",
       "      <td>500000.0</td>\n",
       "      <td>500000</td>\n",
       "      <td>20</td>\n",
       "      <td>20</td>\n",
       "      <td>0.000000</td>\n",
       "      <td>0.000000</td>\n",
       "      <td>0.0</td>\n",
       "      <td>0.000000</td>\n",
       "      <td>0.000000</td>\n",
       "    </tr>\n",
       "    <tr>\n",
       "      <th>3</th>\n",
       "      <td>NaN</td>\n",
       "      <td>1017.00</td>\n",
       "      <td>NaN</td>\n",
       "      <td>750000</td>\n",
       "      <td>30</td>\n",
       "      <td>30</td>\n",
       "      <td>NaN</td>\n",
       "      <td>NaN</td>\n",
       "      <td>0.0</td>\n",
       "      <td>NaN</td>\n",
       "      <td>NaN</td>\n",
       "    </tr>\n",
       "    <tr>\n",
       "      <th>4</th>\n",
       "      <td>NaN</td>\n",
       "      <td>989.04</td>\n",
       "      <td>700000.0</td>\n",
       "      <td>700000</td>\n",
       "      <td>30</td>\n",
       "      <td>30</td>\n",
       "      <td>NaN</td>\n",
       "      <td>0.000000</td>\n",
       "      <td>0.0</td>\n",
       "      <td>NaN</td>\n",
       "      <td>0.000000</td>\n",
       "    </tr>\n",
       "    <tr>\n",
       "      <th>...</th>\n",
       "      <td>...</td>\n",
       "      <td>...</td>\n",
       "      <td>...</td>\n",
       "      <td>...</td>\n",
       "      <td>...</td>\n",
       "      <td>...</td>\n",
       "      <td>...</td>\n",
       "      <td>...</td>\n",
       "      <td>...</td>\n",
       "      <td>...</td>\n",
       "      <td>...</td>\n",
       "    </tr>\n",
       "    <tr>\n",
       "      <th>95</th>\n",
       "      <td>132.96</td>\n",
       "      <td>132.96</td>\n",
       "      <td>50000.0</td>\n",
       "      <td>50000</td>\n",
       "      <td>10</td>\n",
       "      <td>10</td>\n",
       "      <td>0.000000</td>\n",
       "      <td>0.000000</td>\n",
       "      <td>0.0</td>\n",
       "      <td>0.000000</td>\n",
       "      <td>0.000000</td>\n",
       "    </tr>\n",
       "    <tr>\n",
       "      <th>96</th>\n",
       "      <td>1247.04</td>\n",
       "      <td>1247.04</td>\n",
       "      <td>500000.0</td>\n",
       "      <td>500000</td>\n",
       "      <td>10</td>\n",
       "      <td>10</td>\n",
       "      <td>0.000000</td>\n",
       "      <td>0.000000</td>\n",
       "      <td>0.0</td>\n",
       "      <td>0.000000</td>\n",
       "      <td>0.000000</td>\n",
       "    </tr>\n",
       "    <tr>\n",
       "      <th>97</th>\n",
       "      <td>NaN</td>\n",
       "      <td>591.00</td>\n",
       "      <td>50000.0</td>\n",
       "      <td>50000</td>\n",
       "      <td>20</td>\n",
       "      <td>20</td>\n",
       "      <td>NaN</td>\n",
       "      <td>0.000000</td>\n",
       "      <td>0.0</td>\n",
       "      <td>NaN</td>\n",
       "      <td>0.000000</td>\n",
       "    </tr>\n",
       "    <tr>\n",
       "      <th>98</th>\n",
       "      <td>NaN</td>\n",
       "      <td>992.04</td>\n",
       "      <td>500000.0</td>\n",
       "      <td>500000</td>\n",
       "      <td>30</td>\n",
       "      <td>30</td>\n",
       "      <td>NaN</td>\n",
       "      <td>0.000000</td>\n",
       "      <td>0.0</td>\n",
       "      <td>NaN</td>\n",
       "      <td>0.000000</td>\n",
       "    </tr>\n",
       "    <tr>\n",
       "      <th>99</th>\n",
       "      <td>1189.56</td>\n",
       "      <td>1189.56</td>\n",
       "      <td>750000.0</td>\n",
       "      <td>750000</td>\n",
       "      <td>20</td>\n",
       "      <td>20</td>\n",
       "      <td>0.000000</td>\n",
       "      <td>0.000000</td>\n",
       "      <td>0.0</td>\n",
       "      <td>0.000000</td>\n",
       "      <td>0.000000</td>\n",
       "    </tr>\n",
       "  </tbody>\n",
       "</table>\n",
       "<p>100 rows × 11 columns</p>\n",
       "</div>"
      ],
      "text/plain": [
       "    annual_premium_estimated  annual_approved_premium  face_value  \\\n",
       "0                        NaN                  4832.04         NaN   \n",
       "1                     362.04                   477.96    500000.0   \n",
       "2                     302.04                   302.04    500000.0   \n",
       "3                        NaN                  1017.00         NaN   \n",
       "4                        NaN                   989.04    700000.0   \n",
       "..                       ...                      ...         ...   \n",
       "95                    132.96                   132.96     50000.0   \n",
       "96                   1247.04                  1247.04    500000.0   \n",
       "97                       NaN                   591.00     50000.0   \n",
       "98                       NaN                   992.04    500000.0   \n",
       "99                   1189.56                  1189.56    750000.0   \n",
       "\n",
       "    face_amount  term_length_years  approved_term  prem_diff  face_diff  \\\n",
       "0       1000000                 20             20        NaN        NaN   \n",
       "1        700000                 15             15  24.253076  28.571429   \n",
       "2        500000                 20             20   0.000000   0.000000   \n",
       "3        750000                 30             30        NaN        NaN   \n",
       "4        700000                 30             30        NaN   0.000000   \n",
       "..          ...                ...            ...        ...        ...   \n",
       "95        50000                 10             10   0.000000   0.000000   \n",
       "96       500000                 10             10   0.000000   0.000000   \n",
       "97        50000                 20             20        NaN   0.000000   \n",
       "98       500000                 30             30        NaN   0.000000   \n",
       "99       750000                 20             20   0.000000   0.000000   \n",
       "\n",
       "    term_diff  prem_pct_diff  face_pct_diff  \n",
       "0         0.0            NaN            NaN  \n",
       "1         0.0      24.253076      28.571429  \n",
       "2         0.0       0.000000       0.000000  \n",
       "3         0.0            NaN            NaN  \n",
       "4         0.0            NaN       0.000000  \n",
       "..        ...            ...            ...  \n",
       "95        0.0       0.000000       0.000000  \n",
       "96        0.0       0.000000       0.000000  \n",
       "97        0.0            NaN       0.000000  \n",
       "98        0.0            NaN       0.000000  \n",
       "99        0.0       0.000000       0.000000  \n",
       "\n",
       "[100 rows x 11 columns]"
      ]
     },
     "execution_count": 22,
     "metadata": {},
     "output_type": "execute_result"
    }
   ],
   "source": [
    "# create a difference field for each of these fields\n",
    "# create a percent difference field for premium to get a sense for how far off these values are\n",
    "# since face value and term length are really categorical, a percent difference doesn't make sense\n",
    "compare['prem_diff'] = compare.apply(lambda x: abs(x.annual_premium_estimated - x.annual_approved_premium)/x.annual_approved_premium*100, axis=1)\n",
    "compare['face_diff'] = compare.apply(lambda x: abs(x.face_value - x.face_amount)/x.face_amount*100, axis=1)\n",
    "compare['term_diff'] = compare.apply(lambda x: abs(x.term_length_years - x.approved_term), axis=1)\n",
    "compare['prem_pct_diff'] = compare.apply(lambda x: abs(x.annual_premium_estimated - x.annual_approved_premium)/x.annual_approved_premium*100, axis=1)\n",
    "compare.head(100)"
   ]
  },
  {
   "cell_type": "code",
   "execution_count": 23,
   "id": "d5737215",
   "metadata": {},
   "outputs": [
    {
     "data": {
      "text/plain": [
       "0.7082775845152083"
      ]
     },
     "execution_count": 23,
     "metadata": {},
     "output_type": "execute_result"
    }
   ],
   "source": [
    "# 71% of observations differ for premium\n",
    "compare[(compare['prem_diff']!=0)].shape[0]/compare.shape[0]"
   ]
  },
  {
   "cell_type": "code",
   "execution_count": 27,
   "id": "1590c568",
   "metadata": {},
   "outputs": [
    {
     "data": {
      "text/plain": [
       "10.218040045733458"
      ]
     },
     "execution_count": 27,
     "metadata": {},
     "output_type": "execute_result"
    }
   ],
   "source": [
    "# the mean absolute percent difference in premium is about 10%\n",
    "compare['prem_pct_diff'].mean()"
   ]
  },
  {
   "cell_type": "code",
   "execution_count": 24,
   "id": "44118e68",
   "metadata": {},
   "outputs": [
    {
     "data": {
      "text/plain": [
       "0.5035233253055035"
      ]
     },
     "execution_count": 24,
     "metadata": {},
     "output_type": "execute_result"
    }
   ],
   "source": [
    "# About 50% of observations differ for face value\n",
    "compare[(compare['face_diff']!=0)].shape[0]/compare.shape[0]"
   ]
  },
  {
   "cell_type": "code",
   "execution_count": 25,
   "id": "acd37ae4",
   "metadata": {},
   "outputs": [
    {
     "data": {
      "text/plain": [
       "0.0"
      ]
     },
     "execution_count": 25,
     "metadata": {},
     "output_type": "execute_result"
    }
   ],
   "source": [
    "# term length agrees for every observation\n",
    "compare[(compare['term_diff']!=0)].shape[0]/compare.shape[0]"
   ]
  },
  {
   "cell_type": "markdown",
   "id": "a5260dec",
   "metadata": {},
   "source": [
    "Due both to the large number of missing values, and more importantly discussions with the data science team about these fields, we will use the fields that come from the "
   ]
  },
  {
   "cell_type": "code",
   "execution_count": 29,
   "id": "cae8d232",
   "metadata": {},
   "outputs": [
    {
     "data": {
      "text/plain": [
       "Index(['application_id', 'open_to_submit_min', 'submit_to_approve_min',\n",
       "       'channel_combined', 'business_line_x', 'open_date', 'bind',\n",
       "       'pre_approval_interactions', 'post_approval_pre_bind_interactions',\n",
       "       'anonid_uniq', 'sessions_uniq', 'event_total', 'session_pageload_total',\n",
       "       'url_uniq', 'total_seconds', 'gclid_count', 'customer_portal_loads',\n",
       "       'device', 'device_name', 'avg_seconds_per_session',\n",
       "       'avg_events_per_session', 'event_len', 'gender', 'tb', 'current_ins',\n",
       "       'rx_result', 'replacement_ins', 'legal_resident', 'employment_status',\n",
       "       'postal_code_address', 'income_payment_period', 'alcohol_weekly',\n",
       "       'disability_pmts', 'term_length_years', 'household_income', 'lrc_score',\n",
       "       'face_value', 'previous_declined', 'travel_countries_count',\n",
       "       'med_conditions_count', 'bmi', 'age', 'income',\n",
       "       'annual_premium_estimated', 'income_comb', 'income_prem_ratio',\n",
       "       'created_at', 'business_line_y', 'quote_id', 'face_amount', 'product',\n",
       "       'quoted_risk_class', 'approved_risk_class', 'quoted_premium',\n",
       "       'approved_premium', 'premium_difference', 'premium_pct_diff'],\n",
       "      dtype='object')"
      ]
     },
     "execution_count": 29,
     "metadata": {},
     "output_type": "execute_result"
    }
   ],
   "source": [
    "df.columns"
   ]
  },
  {
   "cell_type": "code",
   "execution_count": 30,
   "id": "801cbb8c",
   "metadata": {},
   "outputs": [],
   "source": [
    "df = df[['application_id', 'open_to_submit_min', 'submit_to_approve_min',\n",
    "       'channel_combined', 'business_line_x', 'open_date', 'bind',\n",
    "       'pre_approval_interactions', 'post_approval_pre_bind_interactions',\n",
    "       'anonid_uniq', 'sessions_uniq', 'event_total', 'session_pageload_total',\n",
    "       'url_uniq', 'total_seconds', 'gclid_count', 'customer_portal_loads',\n",
    "       'device', 'device_name', 'avg_seconds_per_session',\n",
    "       'avg_events_per_session', 'event_len', 'gender', 'tb', 'current_ins',\n",
    "       'rx_result', 'replacement_ins', 'legal_resident', 'employment_status',\n",
    "       'postal_code_address', 'income_payment_period', 'alcohol_weekly',\n",
    "       'disability_pmts', 'household_income', 'lrc_score',\n",
    "       'previous_declined', 'travel_countries_count',\n",
    "       'med_conditions_count', 'bmi', 'age', 'income',\n",
    "        'income_comb',\n",
    "       'created_at', 'business_line_y', 'quote_id', 'face_amount', 'product',\n",
    "       'quoted_risk_class', 'approved_risk_class', 'quoted_premium',\n",
    "       'approved_premium', 'premium_difference', 'premium_pct_diff']]"
   ]
  },
  {
   "cell_type": "code",
   "execution_count": 31,
   "id": "f964bb24",
   "metadata": {},
   "outputs": [
    {
     "data": {
      "text/plain": [
       "6369"
      ]
     },
     "execution_count": 31,
     "metadata": {},
     "output_type": "execute_result"
    }
   ],
   "source": [
    "# about 6k missing values for income\n",
    "df['income_comb'].isna().sum()"
   ]
  },
  {
   "cell_type": "code",
   "execution_count": 32,
   "id": "eb61d326",
   "metadata": {},
   "outputs": [],
   "source": [
    "# add annual approved premium, face amount to premium ratio, and income to premium ratio\n",
    "df['annual_approved_premium'] = df.apply(lambda x: x.approved_premium*12, axis = 1)\n",
    "df['face_prem_ratio'] = df.apply(lambda x: x.face_amount/x.annual_approved_premium, axis = 1)\n",
    "df['income_prem_ratio'] = df.apply(lambda x: x.income_comb/x.annual_approved_premium, axis = 1)"
   ]
  },
  {
   "cell_type": "code",
   "execution_count": 35,
   "id": "0f0c2456",
   "metadata": {},
   "outputs": [
    {
     "data": {
      "text/plain": [
       "0.6004593702613504"
      ]
     },
     "execution_count": 35,
     "metadata": {},
     "output_type": "execute_result"
    }
   ],
   "source": [
    "# about 60% of users saw an increase in premium from quote to approved (premium difference = quote - approved)\n",
    "df[df['premium_difference'] < 0].shape[0]/df.shape[0]"
   ]
  },
  {
   "cell_type": "code",
   "execution_count": 36,
   "id": "bb6daf0b",
   "metadata": {},
   "outputs": [
    {
     "data": {
      "text/plain": [
       "-30.194834537507667"
      ]
     },
     "execution_count": 36,
     "metadata": {},
     "output_type": "execute_result"
    }
   ],
   "source": [
    "# the average premium change was an increase of about $30\n",
    "df['premium_difference'].mean()"
   ]
  },
  {
   "cell_type": "code",
   "execution_count": 37,
   "id": "e43ddfa1",
   "metadata": {},
   "outputs": [
    {
     "data": {
      "text/plain": [
       "-0.5604121070288857"
      ]
     },
     "execution_count": 37,
     "metadata": {},
     "output_type": "execute_result"
    }
   ],
   "source": [
    "# the average premium percent change was 56%\n",
    "df['premium_pct_diff'].mean()"
   ]
  },
  {
   "cell_type": "code",
   "execution_count": null,
   "id": "8091b664",
   "metadata": {},
   "outputs": [],
   "source": []
  }
 ],
 "metadata": {
  "kernelspec": {
   "display_name": "Python 3 (ipykernel)",
   "language": "python",
   "name": "python3"
  },
  "language_info": {
   "codemirror_mode": {
    "name": "ipython",
    "version": 3
   },
   "file_extension": ".py",
   "mimetype": "text/x-python",
   "name": "python",
   "nbconvert_exporter": "python",
   "pygments_lexer": "ipython3",
   "version": "3.9.7"
  }
 },
 "nbformat": 4,
 "nbformat_minor": 5
}
