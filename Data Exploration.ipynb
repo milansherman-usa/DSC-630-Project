{
 "cells": [
  {
   "cell_type": "code",
   "execution_count": 2,
   "id": "e3aba857",
   "metadata": {},
   "outputs": [
    {
     "name": "stderr",
     "output_type": "stream",
     "text": [
      "C:\\Users\\milan\\anaconda3\\lib\\site-packages\\IPython\\core\\interactiveshell.py:3444: DtypeWarning: Columns (20,21,30) have mixed types.Specify dtype option on import or set low_memory=False.\n",
      "  exec(code_obj, self.user_global_ns, self.user_ns)\n"
     ]
    },
    {
     "data": {
      "text/html": [
       "<div>\n",
       "<style scoped>\n",
       "    .dataframe tbody tr th:only-of-type {\n",
       "        vertical-align: middle;\n",
       "    }\n",
       "\n",
       "    .dataframe tbody tr th {\n",
       "        vertical-align: top;\n",
       "    }\n",
       "\n",
       "    .dataframe thead th {\n",
       "        text-align: right;\n",
       "    }\n",
       "</style>\n",
       "<table border=\"1\" class=\"dataframe\">\n",
       "  <thead>\n",
       "    <tr style=\"text-align: right;\">\n",
       "      <th></th>\n",
       "      <th>application_id</th>\n",
       "      <th>bind_date</th>\n",
       "      <th>open_to_submit_min</th>\n",
       "      <th>submit_to_approve_min</th>\n",
       "      <th>channel_combined</th>\n",
       "      <th>business_line</th>\n",
       "      <th>open_date</th>\n",
       "      <th>bind</th>\n",
       "      <th>pre_approval_interactions</th>\n",
       "      <th>post_approval_pre_bind_interactions</th>\n",
       "      <th>...</th>\n",
       "      <th>travel_countries_count</th>\n",
       "      <th>med_conditions_count</th>\n",
       "      <th>bmi</th>\n",
       "      <th>age</th>\n",
       "      <th>income</th>\n",
       "      <th>annual_premium_estimated</th>\n",
       "      <th>income_comb</th>\n",
       "      <th>income_grp_v1</th>\n",
       "      <th>income_grp_v2</th>\n",
       "      <th>income_prem_ratio</th>\n",
       "    </tr>\n",
       "  </thead>\n",
       "  <tbody>\n",
       "    <tr>\n",
       "      <th>0</th>\n",
       "      <td>cc3090db-2ed8-4fc5-8f66-f3ef8bfef12b</td>\n",
       "      <td>2021-08-01</td>\n",
       "      <td>5</td>\n",
       "      <td>2</td>\n",
       "      <td>Lemonade</td>\n",
       "      <td>protect</td>\n",
       "      <td>2021-07-24</td>\n",
       "      <td>1</td>\n",
       "      <td>0</td>\n",
       "      <td>0</td>\n",
       "      <td>...</td>\n",
       "      <td>NaN</td>\n",
       "      <td>1.0</td>\n",
       "      <td>26.58</td>\n",
       "      <td>57.53</td>\n",
       "      <td>360000.0</td>\n",
       "      <td>1112.04</td>\n",
       "      <td>360000.0</td>\n",
       "      <td>$100k+</td>\n",
       "      <td>over $50k</td>\n",
       "      <td>323.729362</td>\n",
       "    </tr>\n",
       "    <tr>\n",
       "      <th>1</th>\n",
       "      <td>9bffeb0e-bf7d-4544-a175-df737563b530</td>\n",
       "      <td>NaN</td>\n",
       "      <td>4</td>\n",
       "      <td>2</td>\n",
       "      <td>Lemonade</td>\n",
       "      <td>protect</td>\n",
       "      <td>2021-08-12</td>\n",
       "      <td>0</td>\n",
       "      <td>0</td>\n",
       "      <td>0</td>\n",
       "      <td>...</td>\n",
       "      <td>NaN</td>\n",
       "      <td>1.0</td>\n",
       "      <td>33.90</td>\n",
       "      <td>41.32</td>\n",
       "      <td>57000.0</td>\n",
       "      <td>NaN</td>\n",
       "      <td>57000.0</td>\n",
       "      <td>$50k-$100k</td>\n",
       "      <td>over $50k</td>\n",
       "      <td>NaN</td>\n",
       "    </tr>\n",
       "    <tr>\n",
       "      <th>2</th>\n",
       "      <td>38c5539f-aa55-406f-8356-91859e67502a</td>\n",
       "      <td>NaN</td>\n",
       "      <td>0</td>\n",
       "      <td>2</td>\n",
       "      <td>Lemonade</td>\n",
       "      <td>protect</td>\n",
       "      <td>2021-08-22</td>\n",
       "      <td>0</td>\n",
       "      <td>0</td>\n",
       "      <td>0</td>\n",
       "      <td>...</td>\n",
       "      <td>NaN</td>\n",
       "      <td>1.0</td>\n",
       "      <td>22.96</td>\n",
       "      <td>39.60</td>\n",
       "      <td>84000.0</td>\n",
       "      <td>NaN</td>\n",
       "      <td>84000.0</td>\n",
       "      <td>$50k-$100k</td>\n",
       "      <td>over $50k</td>\n",
       "      <td>NaN</td>\n",
       "    </tr>\n",
       "    <tr>\n",
       "      <th>3</th>\n",
       "      <td>ea0c0f26-b08a-4121-92b4-04b36ac16442</td>\n",
       "      <td>2021-08-10</td>\n",
       "      <td>4</td>\n",
       "      <td>2</td>\n",
       "      <td>Lemonade</td>\n",
       "      <td>protect</td>\n",
       "      <td>2021-08-10</td>\n",
       "      <td>1</td>\n",
       "      <td>0</td>\n",
       "      <td>0</td>\n",
       "      <td>...</td>\n",
       "      <td>NaN</td>\n",
       "      <td>1.0</td>\n",
       "      <td>34.17</td>\n",
       "      <td>41.93</td>\n",
       "      <td>245000.0</td>\n",
       "      <td>2541.96</td>\n",
       "      <td>245000.0</td>\n",
       "      <td>$100k+</td>\n",
       "      <td>over $50k</td>\n",
       "      <td>96.382319</td>\n",
       "    </tr>\n",
       "    <tr>\n",
       "      <th>4</th>\n",
       "      <td>0a40356d-aaa0-4aaa-9bbd-5f0f0534608c</td>\n",
       "      <td>NaN</td>\n",
       "      <td>9</td>\n",
       "      <td>1</td>\n",
       "      <td>Lemonade</td>\n",
       "      <td>protect</td>\n",
       "      <td>2021-12-04</td>\n",
       "      <td>0</td>\n",
       "      <td>0</td>\n",
       "      <td>0</td>\n",
       "      <td>...</td>\n",
       "      <td>NaN</td>\n",
       "      <td>1.0</td>\n",
       "      <td>37.12</td>\n",
       "      <td>42.82</td>\n",
       "      <td>78500.0</td>\n",
       "      <td>NaN</td>\n",
       "      <td>78500.0</td>\n",
       "      <td>$50k-$100k</td>\n",
       "      <td>over $50k</td>\n",
       "      <td>NaN</td>\n",
       "    </tr>\n",
       "  </tbody>\n",
       "</table>\n",
       "<p>5 rows × 61 columns</p>\n",
       "</div>"
      ],
      "text/plain": [
       "                         application_id   bind_date  open_to_submit_min  \\\n",
       "0  cc3090db-2ed8-4fc5-8f66-f3ef8bfef12b  2021-08-01                   5   \n",
       "1  9bffeb0e-bf7d-4544-a175-df737563b530         NaN                   4   \n",
       "2  38c5539f-aa55-406f-8356-91859e67502a         NaN                   0   \n",
       "3  ea0c0f26-b08a-4121-92b4-04b36ac16442  2021-08-10                   4   \n",
       "4  0a40356d-aaa0-4aaa-9bbd-5f0f0534608c         NaN                   9   \n",
       "\n",
       "   submit_to_approve_min channel_combined business_line   open_date  bind  \\\n",
       "0                      2         Lemonade       protect  2021-07-24     1   \n",
       "1                      2         Lemonade       protect  2021-08-12     0   \n",
       "2                      2         Lemonade       protect  2021-08-22     0   \n",
       "3                      2         Lemonade       protect  2021-08-10     1   \n",
       "4                      1         Lemonade       protect  2021-12-04     0   \n",
       "\n",
       "   pre_approval_interactions  post_approval_pre_bind_interactions  ...  \\\n",
       "0                          0                                    0  ...   \n",
       "1                          0                                    0  ...   \n",
       "2                          0                                    0  ...   \n",
       "3                          0                                    0  ...   \n",
       "4                          0                                    0  ...   \n",
       "\n",
       "   travel_countries_count  med_conditions_count    bmi    age    income  \\\n",
       "0                     NaN                   1.0  26.58  57.53  360000.0   \n",
       "1                     NaN                   1.0  33.90  41.32   57000.0   \n",
       "2                     NaN                   1.0  22.96  39.60   84000.0   \n",
       "3                     NaN                   1.0  34.17  41.93  245000.0   \n",
       "4                     NaN                   1.0  37.12  42.82   78500.0   \n",
       "\n",
       "   annual_premium_estimated  income_comb  income_grp_v1  income_grp_v2  \\\n",
       "0                   1112.04     360000.0         $100k+      over $50k   \n",
       "1                       NaN      57000.0     $50k-$100k      over $50k   \n",
       "2                       NaN      84000.0     $50k-$100k      over $50k   \n",
       "3                   2541.96     245000.0         $100k+      over $50k   \n",
       "4                       NaN      78500.0     $50k-$100k      over $50k   \n",
       "\n",
       "   income_prem_ratio  \n",
       "0         323.729362  \n",
       "1                NaN  \n",
       "2                NaN  \n",
       "3          96.382319  \n",
       "4                NaN  \n",
       "\n",
       "[5 rows x 61 columns]"
      ]
     },
     "execution_count": 2,
     "metadata": {},
     "output_type": "execute_result"
    }
   ],
   "source": [
    "# import the user dataset, for which each observation is a user who was approved for a life insurance product\n",
    "# some of the users purchased and some did not - this is the target variable\n",
    "\n",
    "import pandas as pd\n",
    "user = pd.read_csv(r'C:\\Users\\milan\\Documents\\GitHub\\DSC-630-Project\\Propensity.csv')\n",
    "user.head()"
   ]
  },
  {
   "cell_type": "code",
   "execution_count": 3,
   "id": "b1b250ef",
   "metadata": {},
   "outputs": [
    {
     "data": {
      "text/plain": [
       "(127691, 61)"
      ]
     },
     "execution_count": 3,
     "metadata": {},
     "output_type": "execute_result"
    }
   ],
   "source": [
    "user.shape"
   ]
  },
  {
   "cell_type": "code",
   "execution_count": 4,
   "id": "ef541a25",
   "metadata": {},
   "outputs": [
    {
     "data": {
      "text/html": [
       "<div>\n",
       "<style scoped>\n",
       "    .dataframe tbody tr th:only-of-type {\n",
       "        vertical-align: middle;\n",
       "    }\n",
       "\n",
       "    .dataframe tbody tr th {\n",
       "        vertical-align: top;\n",
       "    }\n",
       "\n",
       "    .dataframe thead th {\n",
       "        text-align: right;\n",
       "    }\n",
       "</style>\n",
       "<table border=\"1\" class=\"dataframe\">\n",
       "  <thead>\n",
       "    <tr style=\"text-align: right;\">\n",
       "      <th></th>\n",
       "      <th>created_at</th>\n",
       "      <th>business_line</th>\n",
       "      <th>quote_id</th>\n",
       "      <th>application_id</th>\n",
       "      <th>face_amount</th>\n",
       "      <th>product</th>\n",
       "      <th>quoted_risk_class</th>\n",
       "      <th>approved_risk_class</th>\n",
       "      <th>quoted_premium</th>\n",
       "      <th>approved_premium</th>\n",
       "      <th>premium_difference</th>\n",
       "      <th>premium_pct_diff</th>\n",
       "    </tr>\n",
       "  </thead>\n",
       "  <tbody>\n",
       "    <tr>\n",
       "      <th>0</th>\n",
       "      <td>2019-10-27</td>\n",
       "      <td>direct</td>\n",
       "      <td>47386ebc-4405-40ca-b2c1-79b24a537e97</td>\n",
       "      <td>844a2118-1c9e-4f50-86ed-970937f8ecfc</td>\n",
       "      <td>200000</td>\n",
       "      <td>BT2002</td>\n",
       "      <td>select_tb</td>\n",
       "      <td>select_nt</td>\n",
       "      <td>5.0</td>\n",
       "      <td>33.33</td>\n",
       "      <td>-28.33</td>\n",
       "      <td>-5.666</td>\n",
       "    </tr>\n",
       "    <tr>\n",
       "      <th>1</th>\n",
       "      <td>2022-04-11</td>\n",
       "      <td>direct</td>\n",
       "      <td>ee741da6-788e-41cb-8b23-ab23bf07fecc</td>\n",
       "      <td>e3f51c27-eba2-4f36-86d2-f204baf66455</td>\n",
       "      <td>50000</td>\n",
       "      <td>BT1004</td>\n",
       "      <td>elite_nt</td>\n",
       "      <td>elite_nt</td>\n",
       "      <td>7.5</td>\n",
       "      <td>7.50</td>\n",
       "      <td>0.00</td>\n",
       "      <td>0.000</td>\n",
       "    </tr>\n",
       "    <tr>\n",
       "      <th>2</th>\n",
       "      <td>2021-10-26</td>\n",
       "      <td>direct</td>\n",
       "      <td>f05908fa-25df-4219-89fb-b30f2bb517a3</td>\n",
       "      <td>8cf1757c-f644-4082-a0bb-8b3ecb50d79b</td>\n",
       "      <td>50000</td>\n",
       "      <td>BT1004</td>\n",
       "      <td>elite_nt</td>\n",
       "      <td>elite_nt</td>\n",
       "      <td>7.5</td>\n",
       "      <td>7.50</td>\n",
       "      <td>0.00</td>\n",
       "      <td>0.000</td>\n",
       "    </tr>\n",
       "    <tr>\n",
       "      <th>3</th>\n",
       "      <td>2021-04-28</td>\n",
       "      <td>direct</td>\n",
       "      <td>4e8cf39c-5334-451f-8770-d3de35d1b4ea</td>\n",
       "      <td>42c460b7-3d17-4c27-8f11-535b5da44d2f</td>\n",
       "      <td>50000</td>\n",
       "      <td>BT1004</td>\n",
       "      <td>elite_nt</td>\n",
       "      <td>super_elite_nt</td>\n",
       "      <td>7.5</td>\n",
       "      <td>7.50</td>\n",
       "      <td>0.00</td>\n",
       "      <td>0.000</td>\n",
       "    </tr>\n",
       "    <tr>\n",
       "      <th>4</th>\n",
       "      <td>2021-04-19</td>\n",
       "      <td>advisor</td>\n",
       "      <td>e573f1be-9ed2-4ff9-8597-20859417cad0</td>\n",
       "      <td>7145a861-c133-4330-918b-80d4199078ca</td>\n",
       "      <td>50000</td>\n",
       "      <td>BT1004</td>\n",
       "      <td>elite_nt</td>\n",
       "      <td>super_elite_nt</td>\n",
       "      <td>7.5</td>\n",
       "      <td>7.50</td>\n",
       "      <td>0.00</td>\n",
       "      <td>0.000</td>\n",
       "    </tr>\n",
       "  </tbody>\n",
       "</table>\n",
       "</div>"
      ],
      "text/plain": [
       "   created_at business_line                              quote_id  \\\n",
       "0  2019-10-27        direct  47386ebc-4405-40ca-b2c1-79b24a537e97   \n",
       "1  2022-04-11        direct  ee741da6-788e-41cb-8b23-ab23bf07fecc   \n",
       "2  2021-10-26        direct  f05908fa-25df-4219-89fb-b30f2bb517a3   \n",
       "3  2021-04-28        direct  4e8cf39c-5334-451f-8770-d3de35d1b4ea   \n",
       "4  2021-04-19       advisor  e573f1be-9ed2-4ff9-8597-20859417cad0   \n",
       "\n",
       "                         application_id  face_amount product  \\\n",
       "0  844a2118-1c9e-4f50-86ed-970937f8ecfc       200000  BT2002   \n",
       "1  e3f51c27-eba2-4f36-86d2-f204baf66455        50000  BT1004   \n",
       "2  8cf1757c-f644-4082-a0bb-8b3ecb50d79b        50000  BT1004   \n",
       "3  42c460b7-3d17-4c27-8f11-535b5da44d2f        50000  BT1004   \n",
       "4  7145a861-c133-4330-918b-80d4199078ca        50000  BT1004   \n",
       "\n",
       "  quoted_risk_class approved_risk_class  quoted_premium  approved_premium  \\\n",
       "0         select_tb           select_nt             5.0             33.33   \n",
       "1          elite_nt            elite_nt             7.5              7.50   \n",
       "2          elite_nt            elite_nt             7.5              7.50   \n",
       "3          elite_nt      super_elite_nt             7.5              7.50   \n",
       "4          elite_nt      super_elite_nt             7.5              7.50   \n",
       "\n",
       "   premium_difference  premium_pct_diff  \n",
       "0              -28.33            -5.666  \n",
       "1                0.00             0.000  \n",
       "2                0.00             0.000  \n",
       "3                0.00             0.000  \n",
       "4                0.00             0.000  "
      ]
     },
     "execution_count": 4,
     "metadata": {},
     "output_type": "execute_result"
    }
   ],
   "source": [
    "# import the quote dataset, where each observation is an application id that includes the premiums that a user was shown \n",
    "# at quote and after being approved for the same product and face value, which is not always the same\n",
    "# in fact, a previous analysis showed that more than half the time the premium the user is shown after \n",
    "# having their application approved is higher than the one they they were shown when they got a quote\n",
    "\n",
    "# a key question to be answered in this model is the importance of this feature\n",
    "\n",
    "quote = pd.read_csv(r'C:\\Users\\milan\\Documents\\GitHub\\DSC-630-Project\\quote_to_approved.csv')\n",
    "quote.head()"
   ]
  },
  {
   "cell_type": "code",
   "execution_count": 5,
   "id": "5b1e6b5f",
   "metadata": {},
   "outputs": [
    {
     "data": {
      "text/plain": [
       "(101416, 12)"
      ]
     },
     "execution_count": 5,
     "metadata": {},
     "output_type": "execute_result"
    }
   ],
   "source": [
    "quote.shape"
   ]
  },
  {
   "cell_type": "code",
   "execution_count": 6,
   "id": "0491b9d1",
   "metadata": {},
   "outputs": [
    {
     "data": {
      "text/plain": [
       "(44844, 72)"
      ]
     },
     "execution_count": 6,
     "metadata": {},
     "output_type": "execute_result"
    }
   ],
   "source": [
    "# the user dataframe has ~127k observations\n",
    "# the quote dataframe has ~101k observations\n",
    "# about 45k observationa are in both dataframes\n",
    "\n",
    "df = pd.merge(user, quote, on = ['application_id'])\n",
    "df.shape"
   ]
  },
  {
   "cell_type": "code",
   "execution_count": 7,
   "id": "c71e1921",
   "metadata": {},
   "outputs": [
    {
     "data": {
      "text/plain": [
       "array([0, 1], dtype=int64)"
      ]
     },
     "execution_count": 7,
     "metadata": {},
     "output_type": "execute_result"
    }
   ],
   "source": [
    "# check the bind field as it is our target\n",
    "df['bind'].unique()"
   ]
  },
  {
   "cell_type": "code",
   "execution_count": 8,
   "id": "4b26b2bf",
   "metadata": {},
   "outputs": [
    {
     "data": {
      "text/plain": [
       "0"
      ]
     },
     "execution_count": 8,
     "metadata": {},
     "output_type": "execute_result"
    }
   ],
   "source": [
    "df['bind'].isnull().sum()"
   ]
  },
  {
   "cell_type": "code",
   "execution_count": 9,
   "id": "73b19a83",
   "metadata": {},
   "outputs": [
    {
     "data": {
      "text/html": [
       "<div>\n",
       "<style scoped>\n",
       "    .dataframe tbody tr th:only-of-type {\n",
       "        vertical-align: middle;\n",
       "    }\n",
       "\n",
       "    .dataframe tbody tr th {\n",
       "        vertical-align: top;\n",
       "    }\n",
       "\n",
       "    .dataframe thead th {\n",
       "        text-align: right;\n",
       "    }\n",
       "</style>\n",
       "<table border=\"1\" class=\"dataframe\">\n",
       "  <thead>\n",
       "    <tr style=\"text-align: right;\">\n",
       "      <th></th>\n",
       "      <th>bind</th>\n",
       "      <th>application_id</th>\n",
       "    </tr>\n",
       "  </thead>\n",
       "  <tbody>\n",
       "    <tr>\n",
       "      <th>0</th>\n",
       "      <td>0</td>\n",
       "      <td>25607</td>\n",
       "    </tr>\n",
       "    <tr>\n",
       "      <th>1</th>\n",
       "      <td>1</td>\n",
       "      <td>19237</td>\n",
       "    </tr>\n",
       "  </tbody>\n",
       "</table>\n",
       "</div>"
      ],
      "text/plain": [
       "   bind  application_id\n",
       "0     0           25607\n",
       "1     1           19237"
      ]
     },
     "execution_count": 9,
     "metadata": {},
     "output_type": "execute_result"
    }
   ],
   "source": [
    "df.groupby('bind')['application_id'].count().reset_index()"
   ]
  },
  {
   "cell_type": "markdown",
   "id": "a13f8e54",
   "metadata": {},
   "source": [
    "Possible values for bind (which means that the user purchased a policy) are 0 and 1, where 0 means that they did not bind.  There are no null values, and the dataset, while not perfectly balanced, is not unbalanced, with about 56% of users not binding and 44% binding."
   ]
  },
  {
   "cell_type": "code",
   "execution_count": 10,
   "id": "60185a5b",
   "metadata": {},
   "outputs": [
    {
     "data": {
      "text/plain": [
       "Index(['application_id', 'bind_date', 'open_to_submit_min',\n",
       "       'submit_to_approve_min', 'channel_combined', 'business_line_x',\n",
       "       'open_date', 'bind', 'pre_approval_interactions',\n",
       "       'post_approval_pre_bind_interactions', 'post_bind_interactions',\n",
       "       'total_interactions', 'anonid_uniq', 'sessions_uniq', 'event_total',\n",
       "       'session_pageload_total', 'url_uniq', 'total_seconds', 'gclid_count',\n",
       "       'customer_portal_loads', 'device', 'device_name',\n",
       "       'avg_seconds_per_session', 'avg_events_per_session', 'event_len',\n",
       "       'utm_source_len', 'utm_medium_len', 'utm_campaign_len', 'utm_term_len',\n",
       "       'referrer_host_len', 'record_created_at', 'gender', 'tb',\n",
       "       'mvr_order_status', 'current_ins', 'rx_result', 'replacement_ins',\n",
       "       'legal_resident', 'employment_status', 'postal_code_address',\n",
       "       'income_payment_period', 'designate_secondary_contact',\n",
       "       'alcohol_weekly', 'disability_pmts', 'term_length_years',\n",
       "       'household_income', 'lrc_score', 'face_value', 'mvr_points',\n",
       "       'previous_declined', 'zip_d1', 'travel_countries_count',\n",
       "       'med_conditions_count', 'bmi', 'age', 'income',\n",
       "       'annual_premium_estimated', 'income_comb', 'income_grp_v1',\n",
       "       'income_grp_v2', 'income_prem_ratio', 'created_at', 'business_line_y',\n",
       "       'quote_id', 'face_amount', 'product', 'quoted_risk_class',\n",
       "       'approved_risk_class', 'quoted_premium', 'approved_premium',\n",
       "       'premium_difference', 'premium_pct_diff'],\n",
       "      dtype='object')"
      ]
     },
     "execution_count": 10,
     "metadata": {},
     "output_type": "execute_result"
    }
   ],
   "source": [
    "# list the columns and create a data dictionary\n",
    "df.columns"
   ]
  },
  {
   "cell_type": "markdown",
   "id": "730cfaf7",
   "metadata": {},
   "source": [
    "### Data Dictionary\n",
    "\n",
    "#### From user\n",
    "- application_id: categorical, unique identifier of the application\n",
    "- bind_date: date, the date of when the applicant bound a policy (needs to be removed from model to avoid leakage)\n",
    "- open_to_submit_min: integer, number of minutes to complete and submit the application\n",
    "- submit_to_approve_min: integer, number of minutes for the application to get approved after it is submitted\n",
    "- channel_combined: categorical, marketing channel(s) responsible for the application start ?  or the quote?  or something else?\n",
    "- business_line: categorical, direct, protect, core, advisors\n",
    "- open_date: date, the date the application was started\n",
    "- bind: binary, indicating if the applicant bound a policy (target variable)\n",
    "- anonid_uniq: number of anonymous id's from segment\n",
    "- sessions_uniq: number of unique sessions\n",
    "- event_total: number of events\n",
    "- session_pageload_total: number of session page loads\n",
    "- url_uniq: number of unique url's accessed by the user\n",
    "- total_seconds:  how long on the web site\n",
    "- gclid_count: ?\n",
    "- customer_portal_loads: ?\n",
    "- device: device type, i.e., phone, tablet, desktop\n",
    "- device_name: device type + OS\n",
    "- avg_seconds_per_session: average time per session in second\n",
    "- avg_events_per_session: average number of events per session\n",
    "- event_len: average number of seconds per event\n",
    "- gender: gender of applicant\n",
    "- tb: binary, tobacco user or not\n",
    "- current_ins: binary, does the applicant currently have life insurance\n",
    "- rx_result: (remove)\n",
    "- replacement_ins: binary, does the applicant currently have replacement insurance (what is replacement insurance?)\n",
    "- legal_resident: resident or visa\n",
    "- employment_status:  'fulltime', 'parttime', 'fulltime_student', 'retired','stay_at_home', 'parttime_student', 'unemployed'\n",
    "- postal_code_address: zip code of home address\n",
    "- income_payment_period: how frequently the applicant gets paid\n",
    "- designate_secondary_contact:  no non-null values, so this can be removed\n",
    "- alcohol_weekly: number of drinks per week as reported by the applicant\n",
    "- disability_pmts: binary, does (or has?) the applicant receive(d) diability payments (history)\n",
    "- term_length_years: length of term (this will likely be removed, but compare to term length from quote)\n",
    "- household_income: reported household income (verify)\n",
    "- lrc_score: brought in from vendor risk score from lexus nexes, mortality risk score.  This generally highly correlated with being approved\n",
    "- face_value: face value of the policy (this will likely be removed, but compare to face value from quote)\n",
    "- previous_declined: binary, has the applicant been previously declined for life insurance\n",
    "- travel_countries_count: number of countries the applicant has visited\n",
    "- med_conditions_count: number of medical conditions the applicant has history\n",
    "- bmi: body mass index of applicant\n",
    "- age: age of applicant\n",
    "- income: income of applicant\n",
    "- annual_premium_estimated: the annual premium shown to the applicant after approval (this will likely be removed, but compare to premium from quote)\n",
    "- income_comb: annual income\n",
    "- income_prem_ratio: rato of income to premium (annual)\n",
    "    - Note: add income to face amount ratio as another feature\n",
    "    \n",
    "#### From quote\n",
    "- created_at: when the application was started\n",
    "- business_line_y: business line, join on this \n",
    "- quote_id: quote id associated with the approved app\n",
    "- face_amount: face amount of the approved policy\n",
    "- product: procuct code, including term length\n",
    "- quoted_risk_class: the risk class that the applicant was put it at quote\n",
    "- approved_risk_class: the risk class the applicant was put it after approval\n",
    "- quoted_premium: the monthly premium shown at quote\n",
    "- approved_premium: the monthly premium shown after approval\n",
    "- premium_difference: the difference between the two premiums (quote - approved)\n",
    "- premium_pct_diff: the percent difference between the two premiums (quote - approved)/quote\n",
    "\n",
    "#### After discussing with the data science team, the following fields can be removed\n",
    "- the following two field should be removed to avoid leakage\n",
    "    - post_bind_interactions:\n",
    "    - total_interactions: sum of the previous three fields (inlcuding post bind interactions)\n",
    "- utm_source_len: not sure how the length of the various parts of the utm is relevant to predicting bind\n",
    "- utm_medium_len\n",
    "- utm_campaign_len\n",
    "- utm_term_len\n",
    "- referrer_host_len\n",
    "- record_created_at: when the data was pulled\n",
    "- mvr_points\n",
    "- mvr_order_status\n",
    "- zip_d1\n",
    "- income_grp_v1: binned income group: under 50k, 50k-100k, 100k+ \n",
    "- income_grp_v2: binned income group; under 50k, 50k+"
   ]
  },
  {
   "cell_type": "code",
   "execution_count": 11,
   "id": "fc044328",
   "metadata": {},
   "outputs": [],
   "source": [
    "# remove the fields noted above\n",
    "df = df[['application_id', 'open_to_submit_min',\n",
    "       'submit_to_approve_min', 'channel_combined', 'business_line_x',\n",
    "       'open_date', 'bind', 'pre_approval_interactions',\n",
    "       'post_approval_pre_bind_interactions', 'anonid_uniq', 'sessions_uniq', 'event_total',\n",
    "       'session_pageload_total', 'url_uniq', 'total_seconds', 'gclid_count',\n",
    "       'customer_portal_loads', 'device', 'device_name',\n",
    "       'avg_seconds_per_session', 'avg_events_per_session', 'event_len', 'gender', 'tb', 'current_ins', 'rx_result', 'replacement_ins',\n",
    "       'legal_resident', 'employment_status', 'postal_code_address',\n",
    "       'income_payment_period',\n",
    "       'alcohol_weekly', 'disability_pmts', 'term_length_years',\n",
    "       'household_income', 'lrc_score', 'face_value',\n",
    "       'previous_declined', 'travel_countries_count',\n",
    "       'med_conditions_count', 'bmi', 'age', 'income',\n",
    "       'annual_premium_estimated', 'income_comb', 'income_prem_ratio', 'created_at', 'business_line_y',\n",
    "       'quote_id', 'face_amount', 'product', 'quoted_risk_class',\n",
    "       'approved_risk_class', 'quoted_premium', 'approved_premium',\n",
    "       'premium_difference', 'premium_pct_diff']]"
   ]
  },
  {
   "cell_type": "markdown",
   "id": "bc7f7010",
   "metadata": {},
   "source": [
    "### Data Cleaning"
   ]
  },
  {
   "cell_type": "markdown",
   "id": "668dd90e",
   "metadata": {},
   "source": [
    "#### Check how income to premium ratio is defined (DS did not know for sure)\n",
    "We want to verify which fields are used to create this field.  The hypothesis is that it is income_comb and annual_premium_estimated"
   ]
  },
  {
   "cell_type": "code",
   "execution_count": 14,
   "id": "439aae5f",
   "metadata": {},
   "outputs": [
    {
     "data": {
      "text/plain": [
       "6369"
      ]
     },
     "execution_count": 14,
     "metadata": {},
     "output_type": "execute_result"
    }
   ],
   "source": [
    "# check the number of nulls for income_comb\n",
    "df['income_comb'].isnull().sum()"
   ]
  },
  {
   "cell_type": "code",
   "execution_count": 15,
   "id": "1305c20d",
   "metadata": {},
   "outputs": [
    {
     "name": "stderr",
     "output_type": "stream",
     "text": [
      "C:\\Users\\milan\\AppData\\Local\\Temp/ipykernel_44420/3456382564.py:4: SettingWithCopyWarning: \n",
      "A value is trying to be set on a copy of a slice from a DataFrame.\n",
      "Try using .loc[row_indexer,col_indexer] = value instead\n",
      "\n",
      "See the caveats in the documentation: https://pandas.pydata.org/pandas-docs/stable/user_guide/indexing.html#returning-a-view-versus-a-copy\n",
      "  test['income_ratio'] = test.apply(lambda x: x.income_comb/x.annual_premium_estimated, axis=1)\n"
     ]
    }
   ],
   "source": [
    "# to check our hypothesis, I will create a column for annual income divided by annual premium and compare it to\n",
    "# the values in the income_prem_ratio field\n",
    "test = df[[ 'income_comb', 'annual_premium_estimated', 'income_prem_ratio']]\n",
    "test['income_ratio'] = test.apply(lambda x: x.income_comb/x.annual_premium_estimated, axis=1)"
   ]
  },
  {
   "cell_type": "code",
   "execution_count": 16,
   "id": "ea1dffc1",
   "metadata": {},
   "outputs": [
    {
     "data": {
      "text/html": [
       "<div>\n",
       "<style scoped>\n",
       "    .dataframe tbody tr th:only-of-type {\n",
       "        vertical-align: middle;\n",
       "    }\n",
       "\n",
       "    .dataframe tbody tr th {\n",
       "        vertical-align: top;\n",
       "    }\n",
       "\n",
       "    .dataframe thead th {\n",
       "        text-align: right;\n",
       "    }\n",
       "</style>\n",
       "<table border=\"1\" class=\"dataframe\">\n",
       "  <thead>\n",
       "    <tr style=\"text-align: right;\">\n",
       "      <th></th>\n",
       "      <th>income_comb</th>\n",
       "      <th>annual_premium_estimated</th>\n",
       "      <th>income_prem_ratio</th>\n",
       "      <th>income_ratio</th>\n",
       "    </tr>\n",
       "  </thead>\n",
       "  <tbody>\n",
       "    <tr>\n",
       "      <th>0</th>\n",
       "      <td>182000.0</td>\n",
       "      <td>NaN</td>\n",
       "      <td>NaN</td>\n",
       "      <td>NaN</td>\n",
       "    </tr>\n",
       "    <tr>\n",
       "      <th>1</th>\n",
       "      <td>52650.0</td>\n",
       "      <td>362.04</td>\n",
       "      <td>145.425920</td>\n",
       "      <td>145.425920</td>\n",
       "    </tr>\n",
       "    <tr>\n",
       "      <th>2</th>\n",
       "      <td>38584.0</td>\n",
       "      <td>302.04</td>\n",
       "      <td>127.744670</td>\n",
       "      <td>127.744670</td>\n",
       "    </tr>\n",
       "    <tr>\n",
       "      <th>3</th>\n",
       "      <td>55200.0</td>\n",
       "      <td>NaN</td>\n",
       "      <td>NaN</td>\n",
       "      <td>NaN</td>\n",
       "    </tr>\n",
       "    <tr>\n",
       "      <th>4</th>\n",
       "      <td>78864.0</td>\n",
       "      <td>NaN</td>\n",
       "      <td>NaN</td>\n",
       "      <td>NaN</td>\n",
       "    </tr>\n",
       "    <tr>\n",
       "      <th>...</th>\n",
       "      <td>...</td>\n",
       "      <td>...</td>\n",
       "      <td>...</td>\n",
       "      <td>...</td>\n",
       "    </tr>\n",
       "    <tr>\n",
       "      <th>44839</th>\n",
       "      <td>85000.0</td>\n",
       "      <td>NaN</td>\n",
       "      <td>NaN</td>\n",
       "      <td>NaN</td>\n",
       "    </tr>\n",
       "    <tr>\n",
       "      <th>44840</th>\n",
       "      <td>85000.0</td>\n",
       "      <td>1412.04</td>\n",
       "      <td>60.196595</td>\n",
       "      <td>60.196595</td>\n",
       "    </tr>\n",
       "    <tr>\n",
       "      <th>44841</th>\n",
       "      <td>85000.0</td>\n",
       "      <td>649.56</td>\n",
       "      <td>130.857811</td>\n",
       "      <td>130.857811</td>\n",
       "    </tr>\n",
       "    <tr>\n",
       "      <th>44842</th>\n",
       "      <td>85000.0</td>\n",
       "      <td>1368.00</td>\n",
       "      <td>62.134503</td>\n",
       "      <td>62.134503</td>\n",
       "    </tr>\n",
       "    <tr>\n",
       "      <th>44843</th>\n",
       "      <td>85000.0</td>\n",
       "      <td>NaN</td>\n",
       "      <td>NaN</td>\n",
       "      <td>NaN</td>\n",
       "    </tr>\n",
       "  </tbody>\n",
       "</table>\n",
       "<p>44844 rows × 4 columns</p>\n",
       "</div>"
      ],
      "text/plain": [
       "       income_comb  annual_premium_estimated  income_prem_ratio  income_ratio\n",
       "0         182000.0                       NaN                NaN           NaN\n",
       "1          52650.0                    362.04         145.425920    145.425920\n",
       "2          38584.0                    302.04         127.744670    127.744670\n",
       "3          55200.0                       NaN                NaN           NaN\n",
       "4          78864.0                       NaN                NaN           NaN\n",
       "...            ...                       ...                ...           ...\n",
       "44839      85000.0                       NaN                NaN           NaN\n",
       "44840      85000.0                   1412.04          60.196595     60.196595\n",
       "44841      85000.0                    649.56         130.857811    130.857811\n",
       "44842      85000.0                   1368.00          62.134503     62.134503\n",
       "44843      85000.0                       NaN                NaN           NaN\n",
       "\n",
       "[44844 rows x 4 columns]"
      ]
     },
     "execution_count": 16,
     "metadata": {},
     "output_type": "execute_result"
    }
   ],
   "source": [
    "test"
   ]
  },
  {
   "cell_type": "code",
   "execution_count": 17,
   "id": "311aa278",
   "metadata": {},
   "outputs": [
    {
     "data": {
      "text/plain": [
       "(19237, 5)"
      ]
     },
     "execution_count": 17,
     "metadata": {},
     "output_type": "execute_result"
    }
   ],
   "source": [
    "#  drop NaN and check the remaining values\n",
    "test = test.dropna(subset = ['annual_premium_estimated']).reset_index()\n",
    "test.shape"
   ]
  },
  {
   "cell_type": "code",
   "execution_count": 18,
   "id": "7ba37044",
   "metadata": {},
   "outputs": [
    {
     "data": {
      "text/html": [
       "<div>\n",
       "<style scoped>\n",
       "    .dataframe tbody tr th:only-of-type {\n",
       "        vertical-align: middle;\n",
       "    }\n",
       "\n",
       "    .dataframe tbody tr th {\n",
       "        vertical-align: top;\n",
       "    }\n",
       "\n",
       "    .dataframe thead th {\n",
       "        text-align: right;\n",
       "    }\n",
       "</style>\n",
       "<table border=\"1\" class=\"dataframe\">\n",
       "  <thead>\n",
       "    <tr style=\"text-align: right;\">\n",
       "      <th></th>\n",
       "      <th>index</th>\n",
       "      <th>income_comb</th>\n",
       "      <th>annual_premium_estimated</th>\n",
       "      <th>income_prem_ratio</th>\n",
       "      <th>income_ratio</th>\n",
       "    </tr>\n",
       "  </thead>\n",
       "  <tbody>\n",
       "    <tr>\n",
       "      <th>5</th>\n",
       "      <td>12</td>\n",
       "      <td>160000.0</td>\n",
       "      <td>1362.00</td>\n",
       "      <td>117.474302</td>\n",
       "      <td>117.474302</td>\n",
       "    </tr>\n",
       "    <tr>\n",
       "      <th>18</th>\n",
       "      <td>38</td>\n",
       "      <td>37960.0</td>\n",
       "      <td>402.00</td>\n",
       "      <td>94.427861</td>\n",
       "      <td>94.427861</td>\n",
       "    </tr>\n",
       "    <tr>\n",
       "      <th>21</th>\n",
       "      <td>44</td>\n",
       "      <td>50400.0</td>\n",
       "      <td>942.00</td>\n",
       "      <td>53.503185</td>\n",
       "      <td>53.503185</td>\n",
       "    </tr>\n",
       "    <tr>\n",
       "      <th>29</th>\n",
       "      <td>65</td>\n",
       "      <td>1768000.0</td>\n",
       "      <td>2613.00</td>\n",
       "      <td>676.616915</td>\n",
       "      <td>676.616915</td>\n",
       "    </tr>\n",
       "    <tr>\n",
       "      <th>33</th>\n",
       "      <td>76</td>\n",
       "      <td>50388.0</td>\n",
       "      <td>435.00</td>\n",
       "      <td>115.834483</td>\n",
       "      <td>115.834483</td>\n",
       "    </tr>\n",
       "    <tr>\n",
       "      <th>...</th>\n",
       "      <td>...</td>\n",
       "      <td>...</td>\n",
       "      <td>...</td>\n",
       "      <td>...</td>\n",
       "      <td>...</td>\n",
       "    </tr>\n",
       "    <tr>\n",
       "      <th>19220</th>\n",
       "      <td>44818</td>\n",
       "      <td>85000.0</td>\n",
       "      <td>852.00</td>\n",
       "      <td>99.765258</td>\n",
       "      <td>99.765258</td>\n",
       "    </tr>\n",
       "    <tr>\n",
       "      <th>19223</th>\n",
       "      <td>44822</td>\n",
       "      <td>85000.0</td>\n",
       "      <td>932.04</td>\n",
       "      <td>91.197803</td>\n",
       "      <td>91.197803</td>\n",
       "    </tr>\n",
       "    <tr>\n",
       "      <th>19228</th>\n",
       "      <td>44827</td>\n",
       "      <td>85000.0</td>\n",
       "      <td>279.48</td>\n",
       "      <td>304.136253</td>\n",
       "      <td>304.136253</td>\n",
       "    </tr>\n",
       "    <tr>\n",
       "      <th>19232</th>\n",
       "      <td>44833</td>\n",
       "      <td>85000.0</td>\n",
       "      <td>423.96</td>\n",
       "      <td>200.490612</td>\n",
       "      <td>200.490612</td>\n",
       "    </tr>\n",
       "    <tr>\n",
       "      <th>19233</th>\n",
       "      <td>44837</td>\n",
       "      <td>85000.0</td>\n",
       "      <td>834.96</td>\n",
       "      <td>101.801284</td>\n",
       "      <td>101.801284</td>\n",
       "    </tr>\n",
       "  </tbody>\n",
       "</table>\n",
       "<p>6521 rows × 5 columns</p>\n",
       "</div>"
      ],
      "text/plain": [
       "       index  income_comb  annual_premium_estimated  income_prem_ratio  \\\n",
       "5         12     160000.0                   1362.00         117.474302   \n",
       "18        38      37960.0                    402.00          94.427861   \n",
       "21        44      50400.0                    942.00          53.503185   \n",
       "29        65    1768000.0                   2613.00         676.616915   \n",
       "33        76      50388.0                    435.00         115.834483   \n",
       "...      ...          ...                       ...                ...   \n",
       "19220  44818      85000.0                    852.00          99.765258   \n",
       "19223  44822      85000.0                    932.04          91.197803   \n",
       "19228  44827      85000.0                    279.48         304.136253   \n",
       "19232  44833      85000.0                    423.96         200.490612   \n",
       "19233  44837      85000.0                    834.96         101.801284   \n",
       "\n",
       "       income_ratio  \n",
       "5        117.474302  \n",
       "18        94.427861  \n",
       "21        53.503185  \n",
       "29       676.616915  \n",
       "33       115.834483  \n",
       "...             ...  \n",
       "19220     99.765258  \n",
       "19223     91.197803  \n",
       "19228    304.136253  \n",
       "19232    200.490612  \n",
       "19233    101.801284  \n",
       "\n",
       "[6521 rows x 5 columns]"
      ]
     },
     "execution_count": 18,
     "metadata": {},
     "output_type": "execute_result"
    }
   ],
   "source": [
    "test[test['income_prem_ratio'] != test['income_ratio']]\n",
    "# this should show observations where these fields are different, but they look the same"
   ]
  },
  {
   "cell_type": "code",
   "execution_count": 19,
   "id": "7d58c531",
   "metadata": {},
   "outputs": [
    {
     "data": {
      "text/plain": [
       "-2.3276852559143968e-11"
      ]
     },
     "execution_count": 19,
     "metadata": {},
     "output_type": "execute_result"
    }
   ],
   "source": [
    "# find the difference between the fields and sum it to see how different they are\n",
    "test['diff'] = test.apply(lambda x: x.income_prem_ratio - x.income_ratio, axis =1)\n",
    "test['diff'].sum()"
   ]
  },
  {
   "cell_type": "markdown",
   "id": "b99609d1",
   "metadata": {},
   "source": [
    "The difference is essentially 0, which confirms that this is how income_prem_ratio is calculated"
   ]
  },
  {
   "cell_type": "markdown",
   "id": "7119d513",
   "metadata": {},
   "source": [
    "#### Check to see how premium, face value, and term length compare between the two datasets that were combined"
   ]
  },
  {
   "cell_type": "code",
   "execution_count": 21,
   "id": "bfb6bcc7",
   "metadata": {},
   "outputs": [
    {
     "name": "stderr",
     "output_type": "stream",
     "text": [
      "C:\\Users\\milan\\AppData\\Local\\Temp/ipykernel_44420/3800254461.py:5: SettingWithCopyWarning: \n",
      "A value is trying to be set on a copy of a slice from a DataFrame.\n",
      "Try using .loc[row_indexer,col_indexer] = value instead\n",
      "\n",
      "See the caveats in the documentation: https://pandas.pydata.org/pandas-docs/stable/user_guide/indexing.html#returning-a-view-versus-a-copy\n",
      "  compare['annual_approved_premium'] = compare.apply(lambda x: x.approved_premium*12, axis = 1)\n"
     ]
    }
   ],
   "source": [
    "# first create a new dataframe with the fields that I want to compare\n",
    "\n",
    "compare = df[['annual_premium_estimated', 'approved_premium', 'face_value', 'face_amount', 'term_length_years', 'product']]\n",
    "# the approved premium is a monthly premium, so we multiply by 12 to convert it to annual\n",
    "compare['annual_approved_premium'] = compare.apply(lambda x: x.approved_premium*12, axis = 1)"
   ]
  },
  {
   "cell_type": "code",
   "execution_count": 22,
   "id": "72dd2e68",
   "metadata": {},
   "outputs": [
    {
     "name": "stderr",
     "output_type": "stream",
     "text": [
      "C:\\Users\\milan\\AppData\\Local\\Temp/ipykernel_44420/1808066344.py:4: SettingWithCopyWarning: \n",
      "A value is trying to be set on a copy of a slice from a DataFrame.\n",
      "Try using .loc[row_indexer,col_indexer] = value instead\n",
      "\n",
      "See the caveats in the documentation: https://pandas.pydata.org/pandas-docs/stable/user_guide/indexing.html#returning-a-view-versus-a-copy\n",
      "  compare['approved_term'] = compare['product'].str[:4].str[-2:].astype(int)\n"
     ]
    }
   ],
   "source": [
    "# extract the term length from the product\n",
    "# for example , if the product is BT2004, the term length is 20, so we need to extract the middle two characters\n",
    "# and convert it to an integer to compare with term length\n",
    "compare['approved_term'] = compare['product'].str[:4].str[-2:].astype(int)"
   ]
  },
  {
   "cell_type": "code",
   "execution_count": 23,
   "id": "2d959874",
   "metadata": {},
   "outputs": [
    {
     "data": {
      "text/plain": [
       "annual_premium_estimated    25607\n",
       "annual_approved_premium         0\n",
       "face_value                  15285\n",
       "face_amount                     0\n",
       "term_length_years               0\n",
       "approved_term                   0\n",
       "dtype: int64"
      ]
     },
     "execution_count": 23,
     "metadata": {},
     "output_type": "execute_result"
    }
   ],
   "source": [
    "# examine the number of null values for each of these fields\n",
    "compare = compare[['annual_premium_estimated', 'annual_approved_premium', 'face_value',\n",
    "       'face_amount', 'term_length_years', 'approved_term']]\n",
    "compare.isnull().sum()"
   ]
  },
  {
   "cell_type": "markdown",
   "id": "46746ebc",
   "metadata": {},
   "source": [
    "We see that the annual premium estimated is missing more than 25k observations, and face value is missing over 15k.  We will still check to see how the remaining values compare, but will use annual_approved_premium and face amount for our model.  The data science team has confirmed that these fields from the user dataframe are likely less reliable"
   ]
  },
  {
   "cell_type": "code",
   "execution_count": 24,
   "id": "d7256fd7",
   "metadata": {},
   "outputs": [
    {
     "data": {
      "text/html": [
       "<div>\n",
       "<style scoped>\n",
       "    .dataframe tbody tr th:only-of-type {\n",
       "        vertical-align: middle;\n",
       "    }\n",
       "\n",
       "    .dataframe tbody tr th {\n",
       "        vertical-align: top;\n",
       "    }\n",
       "\n",
       "    .dataframe thead th {\n",
       "        text-align: right;\n",
       "    }\n",
       "</style>\n",
       "<table border=\"1\" class=\"dataframe\">\n",
       "  <thead>\n",
       "    <tr style=\"text-align: right;\">\n",
       "      <th></th>\n",
       "      <th>annual_premium_estimated</th>\n",
       "      <th>annual_approved_premium</th>\n",
       "      <th>face_value</th>\n",
       "      <th>face_amount</th>\n",
       "      <th>term_length_years</th>\n",
       "      <th>approved_term</th>\n",
       "      <th>prem_diff</th>\n",
       "      <th>face_diff</th>\n",
       "      <th>term_diff</th>\n",
       "      <th>prem_pct_diff</th>\n",
       "    </tr>\n",
       "  </thead>\n",
       "  <tbody>\n",
       "    <tr>\n",
       "      <th>0</th>\n",
       "      <td>NaN</td>\n",
       "      <td>4832.04</td>\n",
       "      <td>NaN</td>\n",
       "      <td>1000000</td>\n",
       "      <td>20</td>\n",
       "      <td>20</td>\n",
       "      <td>NaN</td>\n",
       "      <td>NaN</td>\n",
       "      <td>0.0</td>\n",
       "      <td>NaN</td>\n",
       "    </tr>\n",
       "    <tr>\n",
       "      <th>1</th>\n",
       "      <td>362.04</td>\n",
       "      <td>477.96</td>\n",
       "      <td>500000.0</td>\n",
       "      <td>700000</td>\n",
       "      <td>15</td>\n",
       "      <td>15</td>\n",
       "      <td>24.253076</td>\n",
       "      <td>28.571429</td>\n",
       "      <td>0.0</td>\n",
       "      <td>24.253076</td>\n",
       "    </tr>\n",
       "    <tr>\n",
       "      <th>2</th>\n",
       "      <td>302.04</td>\n",
       "      <td>302.04</td>\n",
       "      <td>500000.0</td>\n",
       "      <td>500000</td>\n",
       "      <td>20</td>\n",
       "      <td>20</td>\n",
       "      <td>0.000000</td>\n",
       "      <td>0.000000</td>\n",
       "      <td>0.0</td>\n",
       "      <td>0.000000</td>\n",
       "    </tr>\n",
       "    <tr>\n",
       "      <th>3</th>\n",
       "      <td>NaN</td>\n",
       "      <td>1017.00</td>\n",
       "      <td>NaN</td>\n",
       "      <td>750000</td>\n",
       "      <td>30</td>\n",
       "      <td>30</td>\n",
       "      <td>NaN</td>\n",
       "      <td>NaN</td>\n",
       "      <td>0.0</td>\n",
       "      <td>NaN</td>\n",
       "    </tr>\n",
       "    <tr>\n",
       "      <th>4</th>\n",
       "      <td>NaN</td>\n",
       "      <td>989.04</td>\n",
       "      <td>700000.0</td>\n",
       "      <td>700000</td>\n",
       "      <td>30</td>\n",
       "      <td>30</td>\n",
       "      <td>NaN</td>\n",
       "      <td>0.000000</td>\n",
       "      <td>0.0</td>\n",
       "      <td>NaN</td>\n",
       "    </tr>\n",
       "    <tr>\n",
       "      <th>...</th>\n",
       "      <td>...</td>\n",
       "      <td>...</td>\n",
       "      <td>...</td>\n",
       "      <td>...</td>\n",
       "      <td>...</td>\n",
       "      <td>...</td>\n",
       "      <td>...</td>\n",
       "      <td>...</td>\n",
       "      <td>...</td>\n",
       "      <td>...</td>\n",
       "    </tr>\n",
       "    <tr>\n",
       "      <th>95</th>\n",
       "      <td>132.96</td>\n",
       "      <td>132.96</td>\n",
       "      <td>50000.0</td>\n",
       "      <td>50000</td>\n",
       "      <td>10</td>\n",
       "      <td>10</td>\n",
       "      <td>0.000000</td>\n",
       "      <td>0.000000</td>\n",
       "      <td>0.0</td>\n",
       "      <td>0.000000</td>\n",
       "    </tr>\n",
       "    <tr>\n",
       "      <th>96</th>\n",
       "      <td>1247.04</td>\n",
       "      <td>1247.04</td>\n",
       "      <td>500000.0</td>\n",
       "      <td>500000</td>\n",
       "      <td>10</td>\n",
       "      <td>10</td>\n",
       "      <td>0.000000</td>\n",
       "      <td>0.000000</td>\n",
       "      <td>0.0</td>\n",
       "      <td>0.000000</td>\n",
       "    </tr>\n",
       "    <tr>\n",
       "      <th>97</th>\n",
       "      <td>NaN</td>\n",
       "      <td>591.00</td>\n",
       "      <td>50000.0</td>\n",
       "      <td>50000</td>\n",
       "      <td>20</td>\n",
       "      <td>20</td>\n",
       "      <td>NaN</td>\n",
       "      <td>0.000000</td>\n",
       "      <td>0.0</td>\n",
       "      <td>NaN</td>\n",
       "    </tr>\n",
       "    <tr>\n",
       "      <th>98</th>\n",
       "      <td>NaN</td>\n",
       "      <td>992.04</td>\n",
       "      <td>500000.0</td>\n",
       "      <td>500000</td>\n",
       "      <td>30</td>\n",
       "      <td>30</td>\n",
       "      <td>NaN</td>\n",
       "      <td>0.000000</td>\n",
       "      <td>0.0</td>\n",
       "      <td>NaN</td>\n",
       "    </tr>\n",
       "    <tr>\n",
       "      <th>99</th>\n",
       "      <td>1189.56</td>\n",
       "      <td>1189.56</td>\n",
       "      <td>750000.0</td>\n",
       "      <td>750000</td>\n",
       "      <td>20</td>\n",
       "      <td>20</td>\n",
       "      <td>0.000000</td>\n",
       "      <td>0.000000</td>\n",
       "      <td>0.0</td>\n",
       "      <td>0.000000</td>\n",
       "    </tr>\n",
       "  </tbody>\n",
       "</table>\n",
       "<p>100 rows × 10 columns</p>\n",
       "</div>"
      ],
      "text/plain": [
       "    annual_premium_estimated  annual_approved_premium  face_value  \\\n",
       "0                        NaN                  4832.04         NaN   \n",
       "1                     362.04                   477.96    500000.0   \n",
       "2                     302.04                   302.04    500000.0   \n",
       "3                        NaN                  1017.00         NaN   \n",
       "4                        NaN                   989.04    700000.0   \n",
       "..                       ...                      ...         ...   \n",
       "95                    132.96                   132.96     50000.0   \n",
       "96                   1247.04                  1247.04    500000.0   \n",
       "97                       NaN                   591.00     50000.0   \n",
       "98                       NaN                   992.04    500000.0   \n",
       "99                   1189.56                  1189.56    750000.0   \n",
       "\n",
       "    face_amount  term_length_years  approved_term  prem_diff  face_diff  \\\n",
       "0       1000000                 20             20        NaN        NaN   \n",
       "1        700000                 15             15  24.253076  28.571429   \n",
       "2        500000                 20             20   0.000000   0.000000   \n",
       "3        750000                 30             30        NaN        NaN   \n",
       "4        700000                 30             30        NaN   0.000000   \n",
       "..          ...                ...            ...        ...        ...   \n",
       "95        50000                 10             10   0.000000   0.000000   \n",
       "96       500000                 10             10   0.000000   0.000000   \n",
       "97        50000                 20             20        NaN   0.000000   \n",
       "98       500000                 30             30        NaN   0.000000   \n",
       "99       750000                 20             20   0.000000   0.000000   \n",
       "\n",
       "    term_diff  prem_pct_diff  \n",
       "0         0.0            NaN  \n",
       "1         0.0      24.253076  \n",
       "2         0.0       0.000000  \n",
       "3         0.0            NaN  \n",
       "4         0.0            NaN  \n",
       "..        ...            ...  \n",
       "95        0.0       0.000000  \n",
       "96        0.0       0.000000  \n",
       "97        0.0            NaN  \n",
       "98        0.0            NaN  \n",
       "99        0.0       0.000000  \n",
       "\n",
       "[100 rows x 10 columns]"
      ]
     },
     "execution_count": 24,
     "metadata": {},
     "output_type": "execute_result"
    }
   ],
   "source": [
    "# create a difference field for each of these fields\n",
    "# create a percent difference field for premium to get a sense for how far off these values are\n",
    "# since face value and term length are really categorical, a percent difference doesn't make sense\n",
    "compare['prem_diff'] = compare.apply(lambda x: abs(x.annual_premium_estimated - x.annual_approved_premium)/x.annual_approved_premium*100, axis=1)\n",
    "compare['face_diff'] = compare.apply(lambda x: abs(x.face_value - x.face_amount)/x.face_amount*100, axis=1)\n",
    "compare['term_diff'] = compare.apply(lambda x: abs(x.term_length_years - x.approved_term), axis=1)\n",
    "compare['prem_pct_diff'] = compare.apply(lambda x: abs(x.annual_premium_estimated - x.annual_approved_premium)/x.annual_approved_premium*100, axis=1)\n",
    "compare.head(100)"
   ]
  },
  {
   "cell_type": "markdown",
   "id": "24b9a3cf",
   "metadata": {},
   "source": [
    "#### Summarize how much these fields differ between the two dataframes"
   ]
  },
  {
   "cell_type": "markdown",
   "id": "31268481",
   "metadata": {},
   "source": [
    "#### Premium"
   ]
  },
  {
   "cell_type": "code",
   "execution_count": 29,
   "id": "d5737215",
   "metadata": {},
   "outputs": [
    {
     "data": {
      "text/plain": [
       "0.7082775845152083"
      ]
     },
     "execution_count": 29,
     "metadata": {},
     "output_type": "execute_result"
    }
   ],
   "source": [
    "# 71% of observations differ for premium\n",
    "compare[(compare['prem_diff']!=0)].shape[0]/compare.shape[0]"
   ]
  },
  {
   "cell_type": "code",
   "execution_count": 30,
   "id": "1590c568",
   "metadata": {},
   "outputs": [
    {
     "data": {
      "text/plain": [
       "10.218040045733458"
      ]
     },
     "execution_count": 30,
     "metadata": {},
     "output_type": "execute_result"
    }
   ],
   "source": [
    "# the mean absolute percent difference in premium is about 10%\n",
    "compare['prem_pct_diff'].mean()"
   ]
  },
  {
   "cell_type": "markdown",
   "id": "06e27678",
   "metadata": {},
   "source": [
    "#### Face value"
   ]
  },
  {
   "cell_type": "code",
   "execution_count": 31,
   "id": "44118e68",
   "metadata": {},
   "outputs": [
    {
     "data": {
      "text/plain": [
       "0.5035233253055035"
      ]
     },
     "execution_count": 31,
     "metadata": {},
     "output_type": "execute_result"
    }
   ],
   "source": [
    "# About 50% of observations differ for face value\n",
    "compare[(compare['face_diff']!=0)].shape[0]/compare.shape[0]"
   ]
  },
  {
   "cell_type": "markdown",
   "id": "5ae4cb19",
   "metadata": {},
   "source": [
    "#### Term length"
   ]
  },
  {
   "cell_type": "code",
   "execution_count": 32,
   "id": "acd37ae4",
   "metadata": {},
   "outputs": [
    {
     "data": {
      "text/plain": [
       "0.0"
      ]
     },
     "execution_count": 32,
     "metadata": {},
     "output_type": "execute_result"
    }
   ],
   "source": [
    "# term length agrees for every observation\n",
    "compare[(compare['term_diff']!=0)].shape[0]/compare.shape[0]"
   ]
  },
  {
   "cell_type": "markdown",
   "id": "a5260dec",
   "metadata": {},
   "source": [
    "Due both to the large number of missing values, and more importantly discussions with the data science team about these fields, we will use the fields that come from the quote dataset"
   ]
  },
  {
   "cell_type": "code",
   "execution_count": 29,
   "id": "cae8d232",
   "metadata": {},
   "outputs": [
    {
     "data": {
      "text/plain": [
       "Index(['application_id', 'open_to_submit_min', 'submit_to_approve_min',\n",
       "       'channel_combined', 'business_line_x', 'open_date', 'bind',\n",
       "       'pre_approval_interactions', 'post_approval_pre_bind_interactions',\n",
       "       'anonid_uniq', 'sessions_uniq', 'event_total', 'session_pageload_total',\n",
       "       'url_uniq', 'total_seconds', 'gclid_count', 'customer_portal_loads',\n",
       "       'device', 'device_name', 'avg_seconds_per_session',\n",
       "       'avg_events_per_session', 'event_len', 'gender', 'tb', 'current_ins',\n",
       "       'rx_result', 'replacement_ins', 'legal_resident', 'employment_status',\n",
       "       'postal_code_address', 'income_payment_period', 'alcohol_weekly',\n",
       "       'disability_pmts', 'term_length_years', 'household_income', 'lrc_score',\n",
       "       'face_value', 'previous_declined', 'travel_countries_count',\n",
       "       'med_conditions_count', 'bmi', 'age', 'income',\n",
       "       'annual_premium_estimated', 'income_comb', 'income_prem_ratio',\n",
       "       'created_at', 'business_line_y', 'quote_id', 'face_amount', 'product',\n",
       "       'quoted_risk_class', 'approved_risk_class', 'quoted_premium',\n",
       "       'approved_premium', 'premium_difference', 'premium_pct_diff'],\n",
       "      dtype='object')"
      ]
     },
     "execution_count": 29,
     "metadata": {},
     "output_type": "execute_result"
    }
   ],
   "source": [
    "df.columns"
   ]
  },
  {
   "cell_type": "code",
   "execution_count": 34,
   "id": "801cbb8c",
   "metadata": {},
   "outputs": [],
   "source": [
    "df = df[['application_id', 'open_to_submit_min', 'submit_to_approve_min',\n",
    "       'channel_combined', 'business_line_x', 'open_date', 'bind',\n",
    "       'pre_approval_interactions', 'post_approval_pre_bind_interactions',\n",
    "       'anonid_uniq', 'sessions_uniq', 'event_total', 'session_pageload_total',\n",
    "       'url_uniq', 'total_seconds', 'gclid_count', 'customer_portal_loads',\n",
    "       'device', 'device_name', 'avg_seconds_per_session',\n",
    "       'avg_events_per_session', 'event_len', 'gender', 'tb', 'current_ins',\n",
    "       'rx_result', 'replacement_ins', 'legal_resident', 'employment_status',\n",
    "       'postal_code_address', 'income_payment_period', 'alcohol_weekly',\n",
    "       'disability_pmts', 'household_income', 'lrc_score',\n",
    "       'previous_declined', 'travel_countries_count',\n",
    "       'med_conditions_count', 'bmi', 'age', 'income',\n",
    "        'income_comb',\n",
    "       'created_at', 'business_line_y', 'quote_id', 'face_amount', 'product',\n",
    "       'quoted_risk_class', 'approved_risk_class', 'quoted_premium',\n",
    "       'approved_premium', 'premium_difference', 'premium_pct_diff']]"
   ]
  },
  {
   "cell_type": "code",
   "execution_count": 35,
   "id": "eb61d326",
   "metadata": {},
   "outputs": [],
   "source": [
    "# add annual approved premium, face amount to premium ratio, and income to premium ratio\n",
    "df['annual_approved_premium'] = df.apply(lambda x: x.approved_premium*12, axis = 1)\n",
    "df['face_prem_ratio'] = df.apply(lambda x: x.face_amount/x.annual_approved_premium, axis = 1)\n",
    "df['income_prem_ratio'] = df.apply(lambda x: x.income_comb/x.annual_approved_premium, axis = 1)"
   ]
  },
  {
   "cell_type": "markdown",
   "id": "6d31de63",
   "metadata": {},
   "source": [
    "#### Quick check of how premium difference is distributed for this sample"
   ]
  },
  {
   "cell_type": "code",
   "execution_count": 35,
   "id": "0f0c2456",
   "metadata": {},
   "outputs": [
    {
     "data": {
      "text/plain": [
       "0.6004593702613504"
      ]
     },
     "execution_count": 35,
     "metadata": {},
     "output_type": "execute_result"
    }
   ],
   "source": [
    "# about 60% of users saw an increase in premium from quote to approved (premium difference = quote - approved)\n",
    "df[df['premium_difference'] < 0].shape[0]/df.shape[0]"
   ]
  },
  {
   "cell_type": "code",
   "execution_count": 36,
   "id": "bb6daf0b",
   "metadata": {},
   "outputs": [
    {
     "data": {
      "text/plain": [
       "-30.194834537507667"
      ]
     },
     "execution_count": 36,
     "metadata": {},
     "output_type": "execute_result"
    }
   ],
   "source": [
    "# the average premium change was an increase of about $30\n",
    "df['premium_difference'].mean()"
   ]
  },
  {
   "cell_type": "code",
   "execution_count": 37,
   "id": "e43ddfa1",
   "metadata": {},
   "outputs": [
    {
     "data": {
      "text/plain": [
       "-0.5604121070288857"
      ]
     },
     "execution_count": 37,
     "metadata": {},
     "output_type": "execute_result"
    }
   ],
   "source": [
    "# the average premium percent change was 56%\n",
    "df['premium_pct_diff'].mean()"
   ]
  },
  {
   "cell_type": "markdown",
   "id": "9bede42c",
   "metadata": {},
   "source": [
    "These numbers are comparable to previous analysis on a larger sample of about 100k observation, suggesting that our sample of 45k observations is representative with respect to this dimension"
   ]
  },
  {
   "cell_type": "code",
   "execution_count": 36,
   "id": "8091b664",
   "metadata": {},
   "outputs": [
    {
     "data": {
      "text/plain": [
       "Index(['application_id', 'open_to_submit_min', 'submit_to_approve_min',\n",
       "       'channel_combined', 'business_line_x', 'open_date', 'bind',\n",
       "       'pre_approval_interactions', 'post_approval_pre_bind_interactions',\n",
       "       'anonid_uniq', 'sessions_uniq', 'event_total', 'session_pageload_total',\n",
       "       'url_uniq', 'total_seconds', 'gclid_count', 'customer_portal_loads',\n",
       "       'device', 'device_name', 'avg_seconds_per_session',\n",
       "       'avg_events_per_session', 'event_len', 'gender', 'tb', 'current_ins',\n",
       "       'rx_result', 'replacement_ins', 'legal_resident', 'employment_status',\n",
       "       'postal_code_address', 'income_payment_period', 'alcohol_weekly',\n",
       "       'disability_pmts', 'household_income', 'lrc_score', 'previous_declined',\n",
       "       'travel_countries_count', 'med_conditions_count', 'bmi', 'age',\n",
       "       'income', 'income_comb', 'created_at', 'business_line_y', 'quote_id',\n",
       "       'face_amount', 'product', 'quoted_risk_class', 'approved_risk_class',\n",
       "       'quoted_premium', 'approved_premium', 'premium_difference',\n",
       "       'premium_pct_diff', 'annual_approved_premium', 'face_prem_ratio',\n",
       "       'income_prem_ratio'],\n",
       "      dtype='object')"
      ]
     },
     "execution_count": 36,
     "metadata": {},
     "output_type": "execute_result"
    }
   ],
   "source": [
    "df.columns"
   ]
  },
  {
   "cell_type": "code",
   "execution_count": 68,
   "id": "5451aa49",
   "metadata": {},
   "outputs": [
    {
     "name": "stdout",
     "output_type": "stream",
     "text": [
      "application_id     0\n",
      "business_line_x    0\n",
      "business_line_y    0\n",
      "dtype: int64\n"
     ]
    },
    {
     "name": "stderr",
     "output_type": "stream",
     "text": [
      "C:\\Users\\milan\\AppData\\Local\\Temp/ipykernel_20092/3273836690.py:4: SettingWithCopyWarning: \n",
      "A value is trying to be set on a copy of a slice from a DataFrame.\n",
      "Try using .loc[row_indexer,col_indexer] = value instead\n",
      "\n",
      "See the caveats in the documentation: https://pandas.pydata.org/pandas-docs/stable/user_guide/indexing.html#returning-a-view-versus-a-copy\n",
      "  biz['agree'] = biz.apply(lambda x: 'yes' if x.business_line_x == x.business_line_y else 'no', axis=1)\n"
     ]
    },
    {
     "data": {
      "text/plain": [
       "0.9363348497011863"
      ]
     },
     "execution_count": 68,
     "metadata": {},
     "output_type": "execute_result"
    }
   ],
   "source": [
    "# check business line from user against quote\n",
    "biz = df[['application_id', 'business_line_x', 'business_line_y']]\n",
    "print(biz.isna().sum())\n",
    "biz['agree'] = biz.apply(lambda x: 'yes' if x.business_line_x == x.business_line_y else 'no', axis=1)\n",
    "biz[biz['agree'] == 'yes'].shape[0]/biz.shape[0]"
   ]
  },
  {
   "cell_type": "code",
   "execution_count": 69,
   "id": "40ac54de",
   "metadata": {},
   "outputs": [
    {
     "data": {
      "text/plain": [
       "Index(['application_id', 'open_to_submit_min', 'submit_to_approve_min',\n",
       "       'channel_combined', 'open_date', 'bind', 'pre_approval_interactions',\n",
       "       'post_approval_pre_bind_interactions', 'anonid_uniq', 'sessions_uniq',\n",
       "       'event_total', 'session_pageload_total', 'url_uniq', 'total_seconds',\n",
       "       'device', 'device_name', 'avg_seconds_per_session',\n",
       "       'avg_events_per_session', 'event_len', 'gender', 'tb', 'current_ins',\n",
       "       'rx_result', 'employment_status', 'postal_code_address',\n",
       "       'income_payment_period', 'alcohol_weekly', 'disability_pmts',\n",
       "       'lrc_score', 'previous_declined', 'med_conditions_count', 'bmi', 'age',\n",
       "       'income_comb', 'income_prem_ratio', 'created_at', 'business_line',\n",
       "       'quote_id', 'face_amount', 'product', 'quoted_risk_class',\n",
       "       'approved_risk_class', 'quoted_premium', 'approved_premium',\n",
       "       'premium_difference', 'premium_pct_diff', 'annual_approved_premium',\n",
       "       'face_prem_ratio'],\n",
       "      dtype='object')"
      ]
     },
     "execution_count": 69,
     "metadata": {},
     "output_type": "execute_result"
    }
   ],
   "source": [
    "# business line agrees for 93% of observations (with no missing values).  We will use the business line from quote \n",
    "# as that generally seems to be the more reliable data\n",
    "df.drop(columns = 'business_line_x', axis=1, inplace=True)\n",
    "df.rename(columns = {'business_line_y':'business_line'}, inplace=True)\n",
    "df.columns"
   ]
  },
  {
   "cell_type": "code",
   "execution_count": 61,
   "id": "b508ab29",
   "metadata": {},
   "outputs": [
    {
     "data": {
      "text/plain": [
       "(44844, 51)"
      ]
     },
     "execution_count": 61,
     "metadata": {},
     "output_type": "execute_result"
    }
   ],
   "source": [
    "# dropping a few more columns until I have a chance to understand what they represent\n",
    "df.drop(['gclid_count', 'customer_portal_loads'], axis=1, inplace=True)\n",
    "df.shape"
   ]
  },
  {
   "cell_type": "code",
   "execution_count": 62,
   "id": "0c96da44",
   "metadata": {},
   "outputs": [
    {
     "data": {
      "text/plain": [
       "application_id                             0\n",
       "open_to_submit_min                         0\n",
       "submit_to_approve_min                      0\n",
       "channel_combined                           0\n",
       "business_line_x                            0\n",
       "open_date                                  0\n",
       "bind                                       0\n",
       "pre_approval_interactions                  0\n",
       "post_approval_pre_bind_interactions        0\n",
       "anonid_uniq                             2943\n",
       "sessions_uniq                           2943\n",
       "event_total                             2943\n",
       "session_pageload_total                  2943\n",
       "url_uniq                                2943\n",
       "total_seconds                           2943\n",
       "device                                  2943\n",
       "device_name                             2943\n",
       "avg_seconds_per_session                 2943\n",
       "avg_events_per_session                  2943\n",
       "event_len                               2943\n",
       "gender                                     0\n",
       "tb                                         0\n",
       "current_ins                                0\n",
       "rx_result                               5035\n",
       "employment_status                          0\n",
       "postal_code_address                        0\n",
       "income_payment_period                      0\n",
       "alcohol_weekly                             0\n",
       "disability_pmts                            0\n",
       "household_income                       41970\n",
       "lrc_score                                  0\n",
       "previous_declined                          0\n",
       "med_conditions_count                       3\n",
       "bmi                                     6714\n",
       "age                                     6714\n",
       "income                                  6715\n",
       "income_comb                             6369\n",
       "income_prem_ratio                       6369\n",
       "created_at                                 0\n",
       "business_line_y                            0\n",
       "quote_id                                   0\n",
       "face_amount                                0\n",
       "product                                    0\n",
       "quoted_risk_class                          0\n",
       "approved_risk_class                        0\n",
       "quoted_premium                             0\n",
       "approved_premium                           0\n",
       "premium_difference                         0\n",
       "premium_pct_diff                           0\n",
       "annual_approved_premium                    0\n",
       "face_prem_ratio                            0\n",
       "dtype: int64"
      ]
     },
     "execution_count": 62,
     "metadata": {},
     "output_type": "execute_result"
    }
   ],
   "source": [
    "# check for missing values\n",
    "df.isna().sum()"
   ]
  },
  {
   "cell_type": "code",
   "execution_count": 63,
   "id": "4b47697f",
   "metadata": {},
   "outputs": [
    {
     "data": {
      "text/html": [
       "<div>\n",
       "<style scoped>\n",
       "    .dataframe tbody tr th:only-of-type {\n",
       "        vertical-align: middle;\n",
       "    }\n",
       "\n",
       "    .dataframe tbody tr th {\n",
       "        vertical-align: top;\n",
       "    }\n",
       "\n",
       "    .dataframe thead th {\n",
       "        text-align: right;\n",
       "    }\n",
       "</style>\n",
       "<table border=\"1\" class=\"dataframe\">\n",
       "  <thead>\n",
       "    <tr style=\"text-align: right;\">\n",
       "      <th></th>\n",
       "      <th>household_income</th>\n",
       "      <th>income</th>\n",
       "      <th>income_comb</th>\n",
       "    </tr>\n",
       "  </thead>\n",
       "  <tbody>\n",
       "    <tr>\n",
       "      <th>29</th>\n",
       "      <td>68000.0</td>\n",
       "      <td>57200.0</td>\n",
       "      <td>57200.0</td>\n",
       "    </tr>\n",
       "    <tr>\n",
       "      <th>40</th>\n",
       "      <td>31200.0</td>\n",
       "      <td>27690.0</td>\n",
       "      <td>27690.0</td>\n",
       "    </tr>\n",
       "    <tr>\n",
       "      <th>53</th>\n",
       "      <td>124000.0</td>\n",
       "      <td>124000.0</td>\n",
       "      <td>124000.0</td>\n",
       "    </tr>\n",
       "    <tr>\n",
       "      <th>68</th>\n",
       "      <td>100000.0</td>\n",
       "      <td>88040.0</td>\n",
       "      <td>88040.0</td>\n",
       "    </tr>\n",
       "    <tr>\n",
       "      <th>109</th>\n",
       "      <td>140000.0</td>\n",
       "      <td>33384.0</td>\n",
       "      <td>33384.0</td>\n",
       "    </tr>\n",
       "    <tr>\n",
       "      <th>...</th>\n",
       "      <td>...</td>\n",
       "      <td>...</td>\n",
       "      <td>...</td>\n",
       "    </tr>\n",
       "    <tr>\n",
       "      <th>44717</th>\n",
       "      <td>125000.0</td>\n",
       "      <td>85000.0</td>\n",
       "      <td>85000.0</td>\n",
       "    </tr>\n",
       "    <tr>\n",
       "      <th>44796</th>\n",
       "      <td>85000.0</td>\n",
       "      <td>NaN</td>\n",
       "      <td>85000.0</td>\n",
       "    </tr>\n",
       "    <tr>\n",
       "      <th>44805</th>\n",
       "      <td>85000.0</td>\n",
       "      <td>85000.0</td>\n",
       "      <td>85000.0</td>\n",
       "    </tr>\n",
       "    <tr>\n",
       "      <th>44822</th>\n",
       "      <td>85000.0</td>\n",
       "      <td>85000.0</td>\n",
       "      <td>85000.0</td>\n",
       "    </tr>\n",
       "    <tr>\n",
       "      <th>44831</th>\n",
       "      <td>85000.0</td>\n",
       "      <td>NaN</td>\n",
       "      <td>85000.0</td>\n",
       "    </tr>\n",
       "  </tbody>\n",
       "</table>\n",
       "<p>2874 rows × 3 columns</p>\n",
       "</div>"
      ],
      "text/plain": [
       "       household_income    income  income_comb\n",
       "29              68000.0   57200.0      57200.0\n",
       "40              31200.0   27690.0      27690.0\n",
       "53             124000.0  124000.0     124000.0\n",
       "68             100000.0   88040.0      88040.0\n",
       "109            140000.0   33384.0      33384.0\n",
       "...                 ...       ...          ...\n",
       "44717          125000.0   85000.0      85000.0\n",
       "44796           85000.0       NaN      85000.0\n",
       "44805           85000.0   85000.0      85000.0\n",
       "44822           85000.0   85000.0      85000.0\n",
       "44831           85000.0       NaN      85000.0\n",
       "\n",
       "[2874 rows x 3 columns]"
      ]
     },
     "execution_count": 63,
     "metadata": {},
     "output_type": "execute_result"
    }
   ],
   "source": [
    "# there are three income variables, how do they differ and should we keep more than one?\n",
    "income = df[['household_income', 'income', 'income_comb']]\n",
    "income[income['household_income'].notna()]"
   ]
  },
  {
   "cell_type": "code",
   "execution_count": 64,
   "id": "829ef599",
   "metadata": {},
   "outputs": [
    {
     "name": "stdout",
     "output_type": "stream",
     "text": [
      "0.0\n",
      "0.0\n",
      "0.0\n"
     ]
    },
    {
     "name": "stderr",
     "output_type": "stream",
     "text": [
      "C:\\Users\\milan\\AppData\\Local\\Temp/ipykernel_20092/1703985764.py:1: SettingWithCopyWarning: \n",
      "A value is trying to be set on a copy of a slice from a DataFrame.\n",
      "Try using .loc[row_indexer,col_indexer] = value instead\n",
      "\n",
      "See the caveats in the documentation: https://pandas.pydata.org/pandas-docs/stable/user_guide/indexing.html#returning-a-view-versus-a-copy\n",
      "  income['agree'] = income.apply(lambda x: x.income - x.income_comb, axis=1)\n"
     ]
    }
   ],
   "source": [
    "income['agree'] = income.apply(lambda x: x.income - x.income_comb, axis=1)\n",
    "print(income['agree'].max())\n",
    "print(income['agree'].mean())\n",
    "print(income['agree'].median())"
   ]
  },
  {
   "cell_type": "markdown",
   "id": "ff3a41bf",
   "metadata": {},
   "source": [
    "'income' and 'income_comb' seem to always agree, but income_comb has fewer missing values.  'household_income' has very few values that are not missing and seems to differ from the the other two income fields.  We will retain income_comb"
   ]
  },
  {
   "cell_type": "code",
   "execution_count": 65,
   "id": "64e61c6c",
   "metadata": {},
   "outputs": [],
   "source": [
    "df.drop(columns = ['household_income', 'income'], inplace=True)"
   ]
  },
  {
   "cell_type": "markdown",
   "id": "b2669b3a",
   "metadata": {},
   "source": [
    "There are three variables with more than 36k missing values.  We explore those below."
   ]
  },
  {
   "cell_type": "code",
   "execution_count": 66,
   "id": "88e011f4",
   "metadata": {},
   "outputs": [
    {
     "ename": "KeyError",
     "evalue": "'replacement_ins'",
     "output_type": "error",
     "traceback": [
      "\u001b[1;31m---------------------------------------------------------------------------\u001b[0m",
      "\u001b[1;31mKeyError\u001b[0m                                  Traceback (most recent call last)",
      "\u001b[1;32m~\\anaconda3\\lib\\site-packages\\pandas\\core\\indexes\\base.py\u001b[0m in \u001b[0;36mget_loc\u001b[1;34m(self, key, method, tolerance)\u001b[0m\n\u001b[0;32m   3360\u001b[0m             \u001b[1;32mtry\u001b[0m\u001b[1;33m:\u001b[0m\u001b[1;33m\u001b[0m\u001b[1;33m\u001b[0m\u001b[0m\n\u001b[1;32m-> 3361\u001b[1;33m                 \u001b[1;32mreturn\u001b[0m \u001b[0mself\u001b[0m\u001b[1;33m.\u001b[0m\u001b[0m_engine\u001b[0m\u001b[1;33m.\u001b[0m\u001b[0mget_loc\u001b[0m\u001b[1;33m(\u001b[0m\u001b[0mcasted_key\u001b[0m\u001b[1;33m)\u001b[0m\u001b[1;33m\u001b[0m\u001b[1;33m\u001b[0m\u001b[0m\n\u001b[0m\u001b[0;32m   3362\u001b[0m             \u001b[1;32mexcept\u001b[0m \u001b[0mKeyError\u001b[0m \u001b[1;32mas\u001b[0m \u001b[0merr\u001b[0m\u001b[1;33m:\u001b[0m\u001b[1;33m\u001b[0m\u001b[1;33m\u001b[0m\u001b[0m\n",
      "\u001b[1;32m~\\anaconda3\\lib\\site-packages\\pandas\\_libs\\index.pyx\u001b[0m in \u001b[0;36mpandas._libs.index.IndexEngine.get_loc\u001b[1;34m()\u001b[0m\n",
      "\u001b[1;32m~\\anaconda3\\lib\\site-packages\\pandas\\_libs\\index.pyx\u001b[0m in \u001b[0;36mpandas._libs.index.IndexEngine.get_loc\u001b[1;34m()\u001b[0m\n",
      "\u001b[1;32mpandas\\_libs\\hashtable_class_helper.pxi\u001b[0m in \u001b[0;36mpandas._libs.hashtable.PyObjectHashTable.get_item\u001b[1;34m()\u001b[0m\n",
      "\u001b[1;32mpandas\\_libs\\hashtable_class_helper.pxi\u001b[0m in \u001b[0;36mpandas._libs.hashtable.PyObjectHashTable.get_item\u001b[1;34m()\u001b[0m\n",
      "\u001b[1;31mKeyError\u001b[0m: 'replacement_ins'",
      "\nThe above exception was the direct cause of the following exception:\n",
      "\u001b[1;31mKeyError\u001b[0m                                  Traceback (most recent call last)",
      "\u001b[1;32m~\\AppData\\Local\\Temp/ipykernel_20092/1339351909.py\u001b[0m in \u001b[0;36m<module>\u001b[1;34m\u001b[0m\n\u001b[1;32m----> 1\u001b[1;33m \u001b[0mdf\u001b[0m\u001b[1;33m[\u001b[0m\u001b[1;34m'replacement_ins'\u001b[0m\u001b[1;33m]\u001b[0m\u001b[1;33m.\u001b[0m\u001b[0munique\u001b[0m\u001b[1;33m(\u001b[0m\u001b[1;33m)\u001b[0m\u001b[1;33m\u001b[0m\u001b[1;33m\u001b[0m\u001b[0m\n\u001b[0m",
      "\u001b[1;32m~\\anaconda3\\lib\\site-packages\\pandas\\core\\frame.py\u001b[0m in \u001b[0;36m__getitem__\u001b[1;34m(self, key)\u001b[0m\n\u001b[0;32m   3456\u001b[0m             \u001b[1;32mif\u001b[0m \u001b[0mself\u001b[0m\u001b[1;33m.\u001b[0m\u001b[0mcolumns\u001b[0m\u001b[1;33m.\u001b[0m\u001b[0mnlevels\u001b[0m \u001b[1;33m>\u001b[0m \u001b[1;36m1\u001b[0m\u001b[1;33m:\u001b[0m\u001b[1;33m\u001b[0m\u001b[1;33m\u001b[0m\u001b[0m\n\u001b[0;32m   3457\u001b[0m                 \u001b[1;32mreturn\u001b[0m \u001b[0mself\u001b[0m\u001b[1;33m.\u001b[0m\u001b[0m_getitem_multilevel\u001b[0m\u001b[1;33m(\u001b[0m\u001b[0mkey\u001b[0m\u001b[1;33m)\u001b[0m\u001b[1;33m\u001b[0m\u001b[1;33m\u001b[0m\u001b[0m\n\u001b[1;32m-> 3458\u001b[1;33m             \u001b[0mindexer\u001b[0m \u001b[1;33m=\u001b[0m \u001b[0mself\u001b[0m\u001b[1;33m.\u001b[0m\u001b[0mcolumns\u001b[0m\u001b[1;33m.\u001b[0m\u001b[0mget_loc\u001b[0m\u001b[1;33m(\u001b[0m\u001b[0mkey\u001b[0m\u001b[1;33m)\u001b[0m\u001b[1;33m\u001b[0m\u001b[1;33m\u001b[0m\u001b[0m\n\u001b[0m\u001b[0;32m   3459\u001b[0m             \u001b[1;32mif\u001b[0m \u001b[0mis_integer\u001b[0m\u001b[1;33m(\u001b[0m\u001b[0mindexer\u001b[0m\u001b[1;33m)\u001b[0m\u001b[1;33m:\u001b[0m\u001b[1;33m\u001b[0m\u001b[1;33m\u001b[0m\u001b[0m\n\u001b[0;32m   3460\u001b[0m                 \u001b[0mindexer\u001b[0m \u001b[1;33m=\u001b[0m \u001b[1;33m[\u001b[0m\u001b[0mindexer\u001b[0m\u001b[1;33m]\u001b[0m\u001b[1;33m\u001b[0m\u001b[1;33m\u001b[0m\u001b[0m\n",
      "\u001b[1;32m~\\anaconda3\\lib\\site-packages\\pandas\\core\\indexes\\base.py\u001b[0m in \u001b[0;36mget_loc\u001b[1;34m(self, key, method, tolerance)\u001b[0m\n\u001b[0;32m   3361\u001b[0m                 \u001b[1;32mreturn\u001b[0m \u001b[0mself\u001b[0m\u001b[1;33m.\u001b[0m\u001b[0m_engine\u001b[0m\u001b[1;33m.\u001b[0m\u001b[0mget_loc\u001b[0m\u001b[1;33m(\u001b[0m\u001b[0mcasted_key\u001b[0m\u001b[1;33m)\u001b[0m\u001b[1;33m\u001b[0m\u001b[1;33m\u001b[0m\u001b[0m\n\u001b[0;32m   3362\u001b[0m             \u001b[1;32mexcept\u001b[0m \u001b[0mKeyError\u001b[0m \u001b[1;32mas\u001b[0m \u001b[0merr\u001b[0m\u001b[1;33m:\u001b[0m\u001b[1;33m\u001b[0m\u001b[1;33m\u001b[0m\u001b[0m\n\u001b[1;32m-> 3363\u001b[1;33m                 \u001b[1;32mraise\u001b[0m \u001b[0mKeyError\u001b[0m\u001b[1;33m(\u001b[0m\u001b[0mkey\u001b[0m\u001b[1;33m)\u001b[0m \u001b[1;32mfrom\u001b[0m \u001b[0merr\u001b[0m\u001b[1;33m\u001b[0m\u001b[1;33m\u001b[0m\u001b[0m\n\u001b[0m\u001b[0;32m   3364\u001b[0m \u001b[1;33m\u001b[0m\u001b[0m\n\u001b[0;32m   3365\u001b[0m         \u001b[1;32mif\u001b[0m \u001b[0mis_scalar\u001b[0m\u001b[1;33m(\u001b[0m\u001b[0mkey\u001b[0m\u001b[1;33m)\u001b[0m \u001b[1;32mand\u001b[0m \u001b[0misna\u001b[0m\u001b[1;33m(\u001b[0m\u001b[0mkey\u001b[0m\u001b[1;33m)\u001b[0m \u001b[1;32mand\u001b[0m \u001b[1;32mnot\u001b[0m \u001b[0mself\u001b[0m\u001b[1;33m.\u001b[0m\u001b[0mhasnans\u001b[0m\u001b[1;33m:\u001b[0m\u001b[1;33m\u001b[0m\u001b[1;33m\u001b[0m\u001b[0m\n",
      "\u001b[1;31mKeyError\u001b[0m: 'replacement_ins'"
     ]
    }
   ],
   "source": [
    "df['replacement_ins'].unique()"
   ]
  },
  {
   "cell_type": "code",
   "execution_count": 41,
   "id": "adb5874a",
   "metadata": {},
   "outputs": [
    {
     "data": {
      "text/html": [
       "<div>\n",
       "<style scoped>\n",
       "    .dataframe tbody tr th:only-of-type {\n",
       "        vertical-align: middle;\n",
       "    }\n",
       "\n",
       "    .dataframe tbody tr th {\n",
       "        vertical-align: top;\n",
       "    }\n",
       "\n",
       "    .dataframe thead th {\n",
       "        text-align: right;\n",
       "    }\n",
       "</style>\n",
       "<table border=\"1\" class=\"dataframe\">\n",
       "  <thead>\n",
       "    <tr style=\"text-align: right;\">\n",
       "      <th></th>\n",
       "      <th>replacement_ins</th>\n",
       "      <th>application_id</th>\n",
       "    </tr>\n",
       "  </thead>\n",
       "  <tbody>\n",
       "    <tr>\n",
       "      <th>0</th>\n",
       "      <td>no</td>\n",
       "      <td>6791</td>\n",
       "    </tr>\n",
       "    <tr>\n",
       "      <th>1</th>\n",
       "      <td>yes</td>\n",
       "      <td>1132</td>\n",
       "    </tr>\n",
       "  </tbody>\n",
       "</table>\n",
       "</div>"
      ],
      "text/plain": [
       "  replacement_ins  application_id\n",
       "0              no            6791\n",
       "1             yes            1132"
      ]
     },
     "execution_count": 41,
     "metadata": {},
     "output_type": "execute_result"
    }
   ],
   "source": [
    "df.groupby('replacement_ins')['application_id'].count().reset_index()"
   ]
  },
  {
   "cell_type": "code",
   "execution_count": 44,
   "id": "d357590f",
   "metadata": {},
   "outputs": [
    {
     "data": {
      "text/html": [
       "<div>\n",
       "<style scoped>\n",
       "    .dataframe tbody tr th:only-of-type {\n",
       "        vertical-align: middle;\n",
       "    }\n",
       "\n",
       "    .dataframe tbody tr th {\n",
       "        vertical-align: top;\n",
       "    }\n",
       "\n",
       "    .dataframe thead th {\n",
       "        text-align: right;\n",
       "    }\n",
       "</style>\n",
       "<table border=\"1\" class=\"dataframe\">\n",
       "  <thead>\n",
       "    <tr style=\"text-align: right;\">\n",
       "      <th></th>\n",
       "      <th>replacement_ins</th>\n",
       "      <th>bind</th>\n",
       "      <th>application_id</th>\n",
       "    </tr>\n",
       "  </thead>\n",
       "  <tbody>\n",
       "    <tr>\n",
       "      <th>0</th>\n",
       "      <td>no</td>\n",
       "      <td>0</td>\n",
       "      <td>3420</td>\n",
       "    </tr>\n",
       "    <tr>\n",
       "      <th>1</th>\n",
       "      <td>no</td>\n",
       "      <td>1</td>\n",
       "      <td>3371</td>\n",
       "    </tr>\n",
       "    <tr>\n",
       "      <th>2</th>\n",
       "      <td>yes</td>\n",
       "      <td>0</td>\n",
       "      <td>582</td>\n",
       "    </tr>\n",
       "    <tr>\n",
       "      <th>3</th>\n",
       "      <td>yes</td>\n",
       "      <td>1</td>\n",
       "      <td>550</td>\n",
       "    </tr>\n",
       "  </tbody>\n",
       "</table>\n",
       "</div>"
      ],
      "text/plain": [
       "  replacement_ins  bind  application_id\n",
       "0              no     0            3420\n",
       "1              no     1            3371\n",
       "2             yes     0             582\n",
       "3             yes     1             550"
      ]
     },
     "execution_count": 44,
     "metadata": {},
     "output_type": "execute_result"
    }
   ],
   "source": [
    "df.groupby(['replacement_ins', 'bind'])['application_id'].count().reset_index()"
   ]
  },
  {
   "cell_type": "code",
   "execution_count": 39,
   "id": "26b58478",
   "metadata": {},
   "outputs": [
    {
     "data": {
      "text/plain": [
       "array([nan, 'resident', 'visa'], dtype=object)"
      ]
     },
     "execution_count": 39,
     "metadata": {},
     "output_type": "execute_result"
    }
   ],
   "source": [
    "df['legal_resident'].unique()"
   ]
  },
  {
   "cell_type": "code",
   "execution_count": 42,
   "id": "4c95ce93",
   "metadata": {},
   "outputs": [
    {
     "data": {
      "text/html": [
       "<div>\n",
       "<style scoped>\n",
       "    .dataframe tbody tr th:only-of-type {\n",
       "        vertical-align: middle;\n",
       "    }\n",
       "\n",
       "    .dataframe tbody tr th {\n",
       "        vertical-align: top;\n",
       "    }\n",
       "\n",
       "    .dataframe thead th {\n",
       "        text-align: right;\n",
       "    }\n",
       "</style>\n",
       "<table border=\"1\" class=\"dataframe\">\n",
       "  <thead>\n",
       "    <tr style=\"text-align: right;\">\n",
       "      <th></th>\n",
       "      <th>legal_resident</th>\n",
       "      <th>application_id</th>\n",
       "    </tr>\n",
       "  </thead>\n",
       "  <tbody>\n",
       "    <tr>\n",
       "      <th>0</th>\n",
       "      <td>resident</td>\n",
       "      <td>1905</td>\n",
       "    </tr>\n",
       "    <tr>\n",
       "      <th>1</th>\n",
       "      <td>visa</td>\n",
       "      <td>273</td>\n",
       "    </tr>\n",
       "  </tbody>\n",
       "</table>\n",
       "</div>"
      ],
      "text/plain": [
       "  legal_resident  application_id\n",
       "0       resident            1905\n",
       "1           visa             273"
      ]
     },
     "execution_count": 42,
     "metadata": {},
     "output_type": "execute_result"
    }
   ],
   "source": [
    "df.groupby('legal_resident')['application_id'].count().reset_index()"
   ]
  },
  {
   "cell_type": "code",
   "execution_count": 45,
   "id": "cbeb32e9",
   "metadata": {},
   "outputs": [
    {
     "data": {
      "text/html": [
       "<div>\n",
       "<style scoped>\n",
       "    .dataframe tbody tr th:only-of-type {\n",
       "        vertical-align: middle;\n",
       "    }\n",
       "\n",
       "    .dataframe tbody tr th {\n",
       "        vertical-align: top;\n",
       "    }\n",
       "\n",
       "    .dataframe thead th {\n",
       "        text-align: right;\n",
       "    }\n",
       "</style>\n",
       "<table border=\"1\" class=\"dataframe\">\n",
       "  <thead>\n",
       "    <tr style=\"text-align: right;\">\n",
       "      <th></th>\n",
       "      <th>legal_resident</th>\n",
       "      <th>bind</th>\n",
       "      <th>application_id</th>\n",
       "    </tr>\n",
       "  </thead>\n",
       "  <tbody>\n",
       "    <tr>\n",
       "      <th>0</th>\n",
       "      <td>resident</td>\n",
       "      <td>0</td>\n",
       "      <td>1081</td>\n",
       "    </tr>\n",
       "    <tr>\n",
       "      <th>1</th>\n",
       "      <td>resident</td>\n",
       "      <td>1</td>\n",
       "      <td>824</td>\n",
       "    </tr>\n",
       "    <tr>\n",
       "      <th>2</th>\n",
       "      <td>visa</td>\n",
       "      <td>0</td>\n",
       "      <td>135</td>\n",
       "    </tr>\n",
       "    <tr>\n",
       "      <th>3</th>\n",
       "      <td>visa</td>\n",
       "      <td>1</td>\n",
       "      <td>138</td>\n",
       "    </tr>\n",
       "  </tbody>\n",
       "</table>\n",
       "</div>"
      ],
      "text/plain": [
       "  legal_resident  bind  application_id\n",
       "0       resident     0            1081\n",
       "1       resident     1             824\n",
       "2           visa     0             135\n",
       "3           visa     1             138"
      ]
     },
     "execution_count": 45,
     "metadata": {},
     "output_type": "execute_result"
    }
   ],
   "source": [
    "df.groupby(['legal_resident', 'bind'])['application_id'].count().reset_index()"
   ]
  },
  {
   "cell_type": "code",
   "execution_count": 40,
   "id": "945d555d",
   "metadata": {},
   "outputs": [
    {
     "data": {
      "text/plain": [
       "array([nan,  1.,  2.,  3.,  4.,  6.,  5.,  9.])"
      ]
     },
     "execution_count": 40,
     "metadata": {},
     "output_type": "execute_result"
    }
   ],
   "source": [
    "df['travel_countries_count'].unique()"
   ]
  },
  {
   "cell_type": "code",
   "execution_count": 46,
   "id": "445f3cee",
   "metadata": {},
   "outputs": [
    {
     "data": {
      "text/html": [
       "<div>\n",
       "<style scoped>\n",
       "    .dataframe tbody tr th:only-of-type {\n",
       "        vertical-align: middle;\n",
       "    }\n",
       "\n",
       "    .dataframe tbody tr th {\n",
       "        vertical-align: top;\n",
       "    }\n",
       "\n",
       "    .dataframe thead th {\n",
       "        text-align: right;\n",
       "    }\n",
       "</style>\n",
       "<table border=\"1\" class=\"dataframe\">\n",
       "  <thead>\n",
       "    <tr style=\"text-align: right;\">\n",
       "      <th></th>\n",
       "      <th>travel_countries_count</th>\n",
       "      <th>application_id</th>\n",
       "    </tr>\n",
       "  </thead>\n",
       "  <tbody>\n",
       "    <tr>\n",
       "      <th>0</th>\n",
       "      <td>1.0</td>\n",
       "      <td>1868</td>\n",
       "    </tr>\n",
       "    <tr>\n",
       "      <th>1</th>\n",
       "      <td>2.0</td>\n",
       "      <td>196</td>\n",
       "    </tr>\n",
       "    <tr>\n",
       "      <th>2</th>\n",
       "      <td>3.0</td>\n",
       "      <td>88</td>\n",
       "    </tr>\n",
       "    <tr>\n",
       "      <th>3</th>\n",
       "      <td>4.0</td>\n",
       "      <td>25</td>\n",
       "    </tr>\n",
       "    <tr>\n",
       "      <th>4</th>\n",
       "      <td>5.0</td>\n",
       "      <td>6</td>\n",
       "    </tr>\n",
       "    <tr>\n",
       "      <th>5</th>\n",
       "      <td>6.0</td>\n",
       "      <td>4</td>\n",
       "    </tr>\n",
       "    <tr>\n",
       "      <th>6</th>\n",
       "      <td>9.0</td>\n",
       "      <td>1</td>\n",
       "    </tr>\n",
       "  </tbody>\n",
       "</table>\n",
       "</div>"
      ],
      "text/plain": [
       "   travel_countries_count  application_id\n",
       "0                     1.0            1868\n",
       "1                     2.0             196\n",
       "2                     3.0              88\n",
       "3                     4.0              25\n",
       "4                     5.0               6\n",
       "5                     6.0               4\n",
       "6                     9.0               1"
      ]
     },
     "execution_count": 46,
     "metadata": {},
     "output_type": "execute_result"
    }
   ],
   "source": [
    "df.groupby(['travel_countries_count'])['application_id'].count().reset_index()"
   ]
  },
  {
   "cell_type": "code",
   "execution_count": 47,
   "id": "15ce7959",
   "metadata": {},
   "outputs": [
    {
     "data": {
      "text/html": [
       "<div>\n",
       "<style scoped>\n",
       "    .dataframe tbody tr th:only-of-type {\n",
       "        vertical-align: middle;\n",
       "    }\n",
       "\n",
       "    .dataframe tbody tr th {\n",
       "        vertical-align: top;\n",
       "    }\n",
       "\n",
       "    .dataframe thead th {\n",
       "        text-align: right;\n",
       "    }\n",
       "</style>\n",
       "<table border=\"1\" class=\"dataframe\">\n",
       "  <thead>\n",
       "    <tr style=\"text-align: right;\">\n",
       "      <th></th>\n",
       "      <th>travel_countries_count</th>\n",
       "      <th>bind</th>\n",
       "      <th>application_id</th>\n",
       "    </tr>\n",
       "  </thead>\n",
       "  <tbody>\n",
       "    <tr>\n",
       "      <th>0</th>\n",
       "      <td>1.0</td>\n",
       "      <td>0</td>\n",
       "      <td>1006</td>\n",
       "    </tr>\n",
       "    <tr>\n",
       "      <th>1</th>\n",
       "      <td>1.0</td>\n",
       "      <td>1</td>\n",
       "      <td>862</td>\n",
       "    </tr>\n",
       "    <tr>\n",
       "      <th>2</th>\n",
       "      <td>2.0</td>\n",
       "      <td>0</td>\n",
       "      <td>93</td>\n",
       "    </tr>\n",
       "    <tr>\n",
       "      <th>3</th>\n",
       "      <td>2.0</td>\n",
       "      <td>1</td>\n",
       "      <td>103</td>\n",
       "    </tr>\n",
       "    <tr>\n",
       "      <th>4</th>\n",
       "      <td>3.0</td>\n",
       "      <td>0</td>\n",
       "      <td>36</td>\n",
       "    </tr>\n",
       "    <tr>\n",
       "      <th>5</th>\n",
       "      <td>3.0</td>\n",
       "      <td>1</td>\n",
       "      <td>52</td>\n",
       "    </tr>\n",
       "    <tr>\n",
       "      <th>6</th>\n",
       "      <td>4.0</td>\n",
       "      <td>0</td>\n",
       "      <td>13</td>\n",
       "    </tr>\n",
       "    <tr>\n",
       "      <th>7</th>\n",
       "      <td>4.0</td>\n",
       "      <td>1</td>\n",
       "      <td>12</td>\n",
       "    </tr>\n",
       "    <tr>\n",
       "      <th>8</th>\n",
       "      <td>5.0</td>\n",
       "      <td>0</td>\n",
       "      <td>3</td>\n",
       "    </tr>\n",
       "    <tr>\n",
       "      <th>9</th>\n",
       "      <td>5.0</td>\n",
       "      <td>1</td>\n",
       "      <td>3</td>\n",
       "    </tr>\n",
       "    <tr>\n",
       "      <th>10</th>\n",
       "      <td>6.0</td>\n",
       "      <td>0</td>\n",
       "      <td>2</td>\n",
       "    </tr>\n",
       "    <tr>\n",
       "      <th>11</th>\n",
       "      <td>6.0</td>\n",
       "      <td>1</td>\n",
       "      <td>2</td>\n",
       "    </tr>\n",
       "    <tr>\n",
       "      <th>12</th>\n",
       "      <td>9.0</td>\n",
       "      <td>1</td>\n",
       "      <td>1</td>\n",
       "    </tr>\n",
       "  </tbody>\n",
       "</table>\n",
       "</div>"
      ],
      "text/plain": [
       "    travel_countries_count  bind  application_id\n",
       "0                      1.0     0            1006\n",
       "1                      1.0     1             862\n",
       "2                      2.0     0              93\n",
       "3                      2.0     1             103\n",
       "4                      3.0     0              36\n",
       "5                      3.0     1              52\n",
       "6                      4.0     0              13\n",
       "7                      4.0     1              12\n",
       "8                      5.0     0               3\n",
       "9                      5.0     1               3\n",
       "10                     6.0     0               2\n",
       "11                     6.0     1               2\n",
       "12                     9.0     1               1"
      ]
     },
     "execution_count": 47,
     "metadata": {},
     "output_type": "execute_result"
    }
   ],
   "source": [
    "df.groupby(['travel_countries_count', 'bind'])['application_id'].count().reset_index()"
   ]
  },
  {
   "cell_type": "code",
   "execution_count": 57,
   "id": "6fe299ad",
   "metadata": {},
   "outputs": [
    {
     "name": "stdout",
     "output_type": "stream",
     "text": [
      "0.052193399358904616\n"
     ]
    }
   ],
   "source": [
    "print(df['travel_countries_count'].corr(df['bind']))"
   ]
  },
  {
   "cell_type": "markdown",
   "id": "9e5dcb66",
   "metadata": {},
   "source": [
    "None of these variables seems to be very correlated with the target, and including variables with so many missing values could negatively impact the ability of the model to make accurate predictions on new data, so we will leave them out for now."
   ]
  },
  {
   "cell_type": "code",
   "execution_count": 58,
   "id": "ddfb60b0",
   "metadata": {},
   "outputs": [],
   "source": [
    "df.drop(columns = ['travel_countries_count', 'replacement_ins', 'legal_resident'], axis=1, inplace = True)"
   ]
  },
  {
   "cell_type": "code",
   "execution_count": 71,
   "id": "e39f424f",
   "metadata": {},
   "outputs": [
    {
     "data": {
      "text/plain": [
       "Index(['application_id', 'open_to_submit_min', 'submit_to_approve_min',\n",
       "       'channel_combined', 'open_date', 'bind', 'pre_approval_interactions',\n",
       "       'post_approval_pre_bind_interactions', 'anonid_uniq', 'sessions_uniq',\n",
       "       'event_total', 'session_pageload_total', 'url_uniq', 'total_seconds',\n",
       "       'device', 'device_name', 'avg_seconds_per_session',\n",
       "       'avg_events_per_session', 'event_len', 'gender', 'tb', 'current_ins',\n",
       "       'rx_result', 'employment_status', 'postal_code_address',\n",
       "       'income_payment_period', 'alcohol_weekly', 'disability_pmts',\n",
       "       'lrc_score', 'previous_declined', 'med_conditions_count', 'bmi', 'age',\n",
       "       'income_comb', 'income_prem_ratio', 'created_at', 'business_line',\n",
       "       'quote_id', 'face_amount', 'product', 'quoted_risk_class',\n",
       "       'approved_risk_class', 'quoted_premium', 'approved_premium',\n",
       "       'premium_difference', 'premium_pct_diff', 'annual_approved_premium',\n",
       "       'face_prem_ratio'],\n",
       "      dtype='object')"
      ]
     },
     "execution_count": 71,
     "metadata": {},
     "output_type": "execute_result"
    }
   ],
   "source": [
    "df.columns"
   ]
  },
  {
   "cell_type": "code",
   "execution_count": 76,
   "id": "97adf267",
   "metadata": {},
   "outputs": [
    {
     "data": {
      "image/png": "[encoded data removed]",
      "text/plain": [
       "<Figure size 1440x720 with 2 Axes>"
      ]
     },
     "metadata": {
      "needs_background": "light"
     },
     "output_type": "display_data"
    }
   ],
   "source": [
    "df_num = df.select_dtypes(include='number')\n",
    "corr_mat = df_num.corr()\n",
    "\n",
    "import seaborn as sn\n",
    "import matplotlib.pyplot as plt\n",
    "plt.rcParams['figure.figsize'] = (20, 10)\n",
    "sn.heatmap(corr_mat, annot=False)\n",
    "plt.show()"
   ]
  },
  {
   "cell_type": "markdown",
   "id": "da29fd86",
   "metadata": {},
   "source": [
    "There are a few observations:\n",
    "- bind and face amount should all be categorical variables\n",
    "- anonid_unique has something weird going on that we need at more closely\n",
    "- sessions_uniq, event_total, session_pageload_total, url_uniq, total_seconds, avg_seconds_per_session, avg_events_per session, and event_len all seem highly correlated and we probably don't need all of them\n",
    "- approved_premium and annual_approved_premium are highly correlated (as should be expected) and we don't need both"
   ]
  },
  {
   "cell_type": "code",
   "execution_count": 77,
   "id": "59aa9185",
   "metadata": {},
   "outputs": [],
   "source": [
    "# make bind, face amount and term length categorical variables\n",
    "df['bind'] = pd.Categorical(df.bind)\n",
    "df['face_amount'] = pd.Categorical(df.face_amount)"
   ]
  },
  {
   "cell_type": "code",
   "execution_count": 78,
   "id": "d5a62273",
   "metadata": {},
   "outputs": [
    {
     "data": {
      "text/plain": [
       "array([nan,  1.])"
      ]
     },
     "execution_count": 78,
     "metadata": {},
     "output_type": "execute_result"
    }
   ],
   "source": [
    "df_num['anonid_uniq'].unique()"
   ]
  },
  {
   "cell_type": "code",
   "execution_count": 79,
   "id": "f56c6c9b",
   "metadata": {},
   "outputs": [],
   "source": [
    "# there is no variation is this field, so we will remove it\n",
    "df.drop(columns = 'anonid_uniq', axis=1, inplace=True)"
   ]
  },
  {
   "cell_type": "code",
   "execution_count": 82,
   "id": "88bfc731",
   "metadata": {},
   "outputs": [
    {
     "data": {
      "image/png": "[encoded data removed]",
      "text/plain": [
       "<Figure size 1440x720 with 2 Axes>"
      ]
     },
     "metadata": {
      "needs_background": "light"
     },
     "output_type": "display_data"
    }
   ],
   "source": [
    "# create a separate datframe for user action metrics and investigate the correlations\n",
    "actions = df[['sessions_uniq', 'event_total', 'session_pageload_total', 'url_uniq', 'total_seconds', \n",
    "              'avg_seconds_per_session', 'avg_events_per_session', 'event_len']]\n",
    "\n",
    "corr_mat = actions.corr()\n",
    "\n",
    "import seaborn as sn\n",
    "import matplotlib.pyplot as plt\n",
    "plt.rcParams['figure.figsize'] = (20, 10)\n",
    "sn.heatmap(corr_mat, annot=True)\n",
    "plt.show()"
   ]
  },
  {
   "cell_type": "code",
   "execution_count": 83,
   "id": "319f6d68",
   "metadata": {},
   "outputs": [],
   "source": [
    "# event_total and event_len are perfectly correlated, so we will remove one of them\n",
    "# total_seconds and avg_seconds_per_session are also highly correlated.  As the correlations of avg_seconds_per_session\n",
    "# is closer to 0 for the variables in this group, we will retain that variable\n",
    "df.drop(columns = ['event_len', 'total_seconds'], axis=1, inplace=True)"
   ]
  },
  {
   "cell_type": "code",
   "execution_count": 85,
   "id": "e8c6a196",
   "metadata": {},
   "outputs": [],
   "source": [
    "# since approved_premium and annual_approved_premium are highly correlated, we remove the former\n",
    "df.drop('approved_premium', axis=1, inplace=True)"
   ]
  },
  {
   "cell_type": "code",
   "execution_count": 87,
   "id": "c27a2165",
   "metadata": {},
   "outputs": [
    {
     "data": {
      "image/png": "[encoded data removed]",
      "text/plain": [
       "<Figure size 1440x720 with 2 Axes>"
      ]
     },
     "metadata": {
      "needs_background": "light"
     },
     "output_type": "display_data"
    }
   ],
   "source": [
    "# we take another look at the correlation matrix for the numerical variables\n",
    "df_num = df.select_dtypes(include='number')\n",
    "corr_mat = df_num.corr()\n",
    "\n",
    "import seaborn as sn\n",
    "import matplotlib.pyplot as plt\n",
    "plt.rcParams['figure.figsize'] = (20, 10)\n",
    "sn.heatmap(corr_mat, annot=True)\n",
    "plt.show()"
   ]
  },
  {
   "cell_type": "code",
   "execution_count": 88,
   "id": "9c105a26",
   "metadata": {},
   "outputs": [
    {
     "data": {
      "text/plain": [
       "application_id                           object\n",
       "open_to_submit_min                        int64\n",
       "submit_to_approve_min                     int64\n",
       "channel_combined                         object\n",
       "open_date                                object\n",
       "bind                                   category\n",
       "pre_approval_interactions                 int64\n",
       "post_approval_pre_bind_interactions       int64\n",
       "sessions_uniq                           float64\n",
       "event_total                             float64\n",
       "session_pageload_total                  float64\n",
       "url_uniq                                float64\n",
       "device                                   object\n",
       "device_name                              object\n",
       "avg_seconds_per_session                 float64\n",
       "avg_events_per_session                  float64\n",
       "gender                                   object\n",
       "tb                                         bool\n",
       "current_ins                              object\n",
       "rx_result                                object\n",
       "employment_status                        object\n",
       "postal_code_address                      object\n",
       "income_payment_period                    object\n",
       "alcohol_weekly                          float64\n",
       "disability_pmts                            bool\n",
       "lrc_score                                 int64\n",
       "previous_declined                       float64\n",
       "med_conditions_count                    float64\n",
       "bmi                                     float64\n",
       "age                                     float64\n",
       "income_comb                             float64\n",
       "income_prem_ratio                       float64\n",
       "created_at                               object\n",
       "business_line                            object\n",
       "quote_id                                 object\n",
       "face_amount                            category\n",
       "product                                  object\n",
       "quoted_risk_class                        object\n",
       "approved_risk_class                      object\n",
       "quoted_premium                          float64\n",
       "premium_difference                      float64\n",
       "premium_pct_diff                        float64\n",
       "annual_approved_premium                 float64\n",
       "face_prem_ratio                         float64\n",
       "dtype: object"
      ]
     },
     "execution_count": 88,
     "metadata": {},
     "output_type": "execute_result"
    }
   ],
   "source": [
    "df.dtypes"
   ]
  },
  {
   "cell_type": "code",
   "execution_count": 91,
   "id": "a0a5dbbd",
   "metadata": {},
   "outputs": [
    {
     "data": {
      "text/html": [
       "<div>\n",
       "<style scoped>\n",
       "    .dataframe tbody tr th:only-of-type {\n",
       "        vertical-align: middle;\n",
       "    }\n",
       "\n",
       "    .dataframe tbody tr th {\n",
       "        vertical-align: top;\n",
       "    }\n",
       "\n",
       "    .dataframe thead th {\n",
       "        text-align: right;\n",
       "    }\n",
       "</style>\n",
       "<table border=\"1\" class=\"dataframe\">\n",
       "  <thead>\n",
       "    <tr style=\"text-align: right;\">\n",
       "      <th></th>\n",
       "      <th>application_id</th>\n",
       "      <th>channel_combined</th>\n",
       "      <th>open_date</th>\n",
       "      <th>bind</th>\n",
       "      <th>device</th>\n",
       "      <th>device_name</th>\n",
       "      <th>gender</th>\n",
       "      <th>tb</th>\n",
       "      <th>current_ins</th>\n",
       "      <th>rx_result</th>\n",
       "      <th>...</th>\n",
       "      <th>postal_code_address</th>\n",
       "      <th>income_payment_period</th>\n",
       "      <th>disability_pmts</th>\n",
       "      <th>created_at</th>\n",
       "      <th>business_line</th>\n",
       "      <th>quote_id</th>\n",
       "      <th>face_amount</th>\n",
       "      <th>product</th>\n",
       "      <th>quoted_risk_class</th>\n",
       "      <th>approved_risk_class</th>\n",
       "    </tr>\n",
       "  </thead>\n",
       "  <tbody>\n",
       "    <tr>\n",
       "      <th>0</th>\n",
       "      <td>046e7c9f-572b-4a58-82f2-3157295c182b</td>\n",
       "      <td>Other</td>\n",
       "      <td>2021-12-31</td>\n",
       "      <td>0</td>\n",
       "      <td>NaN</td>\n",
       "      <td>NaN</td>\n",
       "      <td>male</td>\n",
       "      <td>False</td>\n",
       "      <td>no</td>\n",
       "      <td>30101010</td>\n",
       "      <td>...</td>\n",
       "      <td>95479</td>\n",
       "      <td>weekly</td>\n",
       "      <td>False</td>\n",
       "      <td>2021-12-31</td>\n",
       "      <td>direct</td>\n",
       "      <td>bf8df768-3601-4399-aec2-6c74b880487f</td>\n",
       "      <td>1000000</td>\n",
       "      <td>BT2004</td>\n",
       "      <td>select_nt</td>\n",
       "      <td>essential_nt</td>\n",
       "    </tr>\n",
       "    <tr>\n",
       "      <th>1</th>\n",
       "      <td>6b381417-6906-4855-a804-9d8487d85bef</td>\n",
       "      <td>Other</td>\n",
       "      <td>2021-03-16</td>\n",
       "      <td>1</td>\n",
       "      <td>NaN</td>\n",
       "      <td>NaN</td>\n",
       "      <td>female</td>\n",
       "      <td>False</td>\n",
       "      <td>no</td>\n",
       "      <td>10101010</td>\n",
       "      <td>...</td>\n",
       "      <td>35147</td>\n",
       "      <td>biweekly</td>\n",
       "      <td>False</td>\n",
       "      <td>2021-03-16</td>\n",
       "      <td>direct</td>\n",
       "      <td>91b44e57-2876-42c7-86a3-6843486fcc49</td>\n",
       "      <td>700000</td>\n",
       "      <td>BT1504</td>\n",
       "      <td>elite_nt</td>\n",
       "      <td>preferred_nt</td>\n",
       "    </tr>\n",
       "    <tr>\n",
       "      <th>2</th>\n",
       "      <td>74b45874-1f97-433a-8d83-a1e3b3cbc2f2</td>\n",
       "      <td>Other</td>\n",
       "      <td>2021-04-06</td>\n",
       "      <td>1</td>\n",
       "      <td>NaN</td>\n",
       "      <td>NaN</td>\n",
       "      <td>female</td>\n",
       "      <td>False</td>\n",
       "      <td>no</td>\n",
       "      <td>10101010</td>\n",
       "      <td>...</td>\n",
       "      <td>27616</td>\n",
       "      <td>weekly</td>\n",
       "      <td>False</td>\n",
       "      <td>2021-04-06</td>\n",
       "      <td>direct</td>\n",
       "      <td>36d3a3ff-6920-4fca-b34d-1725f9329b13</td>\n",
       "      <td>500000</td>\n",
       "      <td>BT2004</td>\n",
       "      <td>elite_nt</td>\n",
       "      <td>preferred_nt</td>\n",
       "    </tr>\n",
       "    <tr>\n",
       "      <th>3</th>\n",
       "      <td>dbe73bbe-fd1e-40ab-bef2-674374fcb74a</td>\n",
       "      <td>Other</td>\n",
       "      <td>2021-06-07</td>\n",
       "      <td>0</td>\n",
       "      <td>NaN</td>\n",
       "      <td>NaN</td>\n",
       "      <td>male</td>\n",
       "      <td>False</td>\n",
       "      <td>no</td>\n",
       "      <td>10101010</td>\n",
       "      <td>...</td>\n",
       "      <td>20607</td>\n",
       "      <td>semimonthly</td>\n",
       "      <td>False</td>\n",
       "      <td>2021-06-07</td>\n",
       "      <td>direct</td>\n",
       "      <td>3ec19dd0-5be1-4989-a9e1-5d387f00f596</td>\n",
       "      <td>750000</td>\n",
       "      <td>BT3004</td>\n",
       "      <td>select_nt</td>\n",
       "      <td>select_nt</td>\n",
       "    </tr>\n",
       "    <tr>\n",
       "      <th>4</th>\n",
       "      <td>acaacde0-e3c0-4bb5-8e1f-402bb9e7e176</td>\n",
       "      <td>Other</td>\n",
       "      <td>2021-09-27</td>\n",
       "      <td>0</td>\n",
       "      <td>NaN</td>\n",
       "      <td>NaN</td>\n",
       "      <td>female</td>\n",
       "      <td>False</td>\n",
       "      <td>no</td>\n",
       "      <td>30101010</td>\n",
       "      <td>...</td>\n",
       "      <td>90063</td>\n",
       "      <td>monthly</td>\n",
       "      <td>False</td>\n",
       "      <td>2021-09-27</td>\n",
       "      <td>direct</td>\n",
       "      <td>80efd848-5c23-4625-93ca-8ca47f5292d4</td>\n",
       "      <td>700000</td>\n",
       "      <td>BT3004</td>\n",
       "      <td>elite_nt</td>\n",
       "      <td>select_nt</td>\n",
       "    </tr>\n",
       "  </tbody>\n",
       "</table>\n",
       "<p>5 rows × 21 columns</p>\n",
       "</div>"
      ],
      "text/plain": [
       "                         application_id channel_combined   open_date bind  \\\n",
       "0  046e7c9f-572b-4a58-82f2-3157295c182b            Other  2021-12-31    0   \n",
       "1  6b381417-6906-4855-a804-9d8487d85bef            Other  2021-03-16    1   \n",
       "2  74b45874-1f97-433a-8d83-a1e3b3cbc2f2            Other  2021-04-06    1   \n",
       "3  dbe73bbe-fd1e-40ab-bef2-674374fcb74a            Other  2021-06-07    0   \n",
       "4  acaacde0-e3c0-4bb5-8e1f-402bb9e7e176            Other  2021-09-27    0   \n",
       "\n",
       "  device device_name  gender     tb current_ins rx_result  ...  \\\n",
       "0    NaN         NaN    male  False          no  30101010  ...   \n",
       "1    NaN         NaN  female  False          no  10101010  ...   \n",
       "2    NaN         NaN  female  False          no  10101010  ...   \n",
       "3    NaN         NaN    male  False          no  10101010  ...   \n",
       "4    NaN         NaN  female  False          no  30101010  ...   \n",
       "\n",
       "  postal_code_address income_payment_period disability_pmts  created_at  \\\n",
       "0               95479                weekly           False  2021-12-31   \n",
       "1               35147              biweekly           False  2021-03-16   \n",
       "2               27616                weekly           False  2021-04-06   \n",
       "3               20607           semimonthly           False  2021-06-07   \n",
       "4               90063               monthly           False  2021-09-27   \n",
       "\n",
       "  business_line                              quote_id face_amount product  \\\n",
       "0        direct  bf8df768-3601-4399-aec2-6c74b880487f     1000000  BT2004   \n",
       "1        direct  91b44e57-2876-42c7-86a3-6843486fcc49      700000  BT1504   \n",
       "2        direct  36d3a3ff-6920-4fca-b34d-1725f9329b13      500000  BT2004   \n",
       "3        direct  3ec19dd0-5be1-4989-a9e1-5d387f00f596      750000  BT3004   \n",
       "4        direct  80efd848-5c23-4625-93ca-8ca47f5292d4      700000  BT3004   \n",
       "\n",
       "  quoted_risk_class approved_risk_class  \n",
       "0         select_nt        essential_nt  \n",
       "1          elite_nt        preferred_nt  \n",
       "2          elite_nt        preferred_nt  \n",
       "3         select_nt           select_nt  \n",
       "4          elite_nt           select_nt  \n",
       "\n",
       "[5 rows x 21 columns]"
      ]
     },
     "execution_count": 91,
     "metadata": {},
     "output_type": "execute_result"
    }
   ],
   "source": [
    "df_cat = df.select_dtypes(exclude='number')\n",
    "df_cat.head()"
   ]
  },
  {
   "cell_type": "code",
   "execution_count": 92,
   "id": "8a488a98",
   "metadata": {},
   "outputs": [
    {
     "data": {
      "text/plain": [
       "application_id              0\n",
       "channel_combined            0\n",
       "open_date                   0\n",
       "bind                        0\n",
       "device                   2943\n",
       "device_name              2943\n",
       "gender                      0\n",
       "tb                          0\n",
       "current_ins                 0\n",
       "rx_result                5035\n",
       "employment_status           0\n",
       "postal_code_address         0\n",
       "income_payment_period       0\n",
       "disability_pmts             0\n",
       "created_at                  0\n",
       "business_line               0\n",
       "quote_id                    0\n",
       "face_amount                 0\n",
       "product                     0\n",
       "quoted_risk_class           0\n",
       "approved_risk_class         0\n",
       "dtype: int64"
      ]
     },
     "execution_count": 92,
     "metadata": {},
     "output_type": "execute_result"
    }
   ],
   "source": [
    "df_cat.isnull().sum()"
   ]
  },
  {
   "cell_type": "markdown",
   "id": "5e4087dd",
   "metadata": {},
   "source": [
    "A few observations:\n",
    "- open_date and created_at both refer to the date when the application was started\n",
    "- quote_id is not needed - we already have application id as a unique identifier\n",
    "- look more closely at rx_result"
   ]
  },
  {
   "cell_type": "code",
   "execution_count": 95,
   "id": "f2d80a6f",
   "metadata": {},
   "outputs": [
    {
     "name": "stderr",
     "output_type": "stream",
     "text": [
      "C:\\Users\\milan\\AppData\\Local\\Temp/ipykernel_20092/1174871752.py:2: SettingWithCopyWarning: \n",
      "A value is trying to be set on a copy of a slice from a DataFrame.\n",
      "Try using .loc[row_indexer,col_indexer] = value instead\n",
      "\n",
      "See the caveats in the documentation: https://pandas.pydata.org/pandas-docs/stable/user_guide/indexing.html#returning-a-view-versus-a-copy\n",
      "  dates['agree'] = dates.apply(lambda x: 'yes' if x.open_date == x.created_at else 'no', axis=1)\n"
     ]
    },
    {
     "data": {
      "text/plain": [
       "1.0"
      ]
     },
     "execution_count": 95,
     "metadata": {},
     "output_type": "execute_result"
    }
   ],
   "source": [
    "dates = df[['application_id', 'open_date', 'created_at']]\n",
    "dates['agree'] = dates.apply(lambda x: 'yes' if x.open_date == x.created_at else 'no', axis=1)\n",
    "dates[dates['agree']=='yes'].shape[0]/dates.shape[0]"
   ]
  },
  {
   "cell_type": "code",
   "execution_count": 96,
   "id": "51227774",
   "metadata": {},
   "outputs": [],
   "source": [
    "#  since they are always the same, I will remove one, as well as quote id\n",
    "df.drop(['created_at', 'quote_id'],axis=1, inplace=True)"
   ]
  },
  {
   "cell_type": "code",
   "execution_count": 97,
   "id": "88b4a44b",
   "metadata": {},
   "outputs": [
    {
     "data": {
      "text/plain": [
       "array(['30101010', '10101010', '30301010', '30303010', 'N', nan],\n",
       "      dtype=object)"
      ]
     },
     "execution_count": 97,
     "metadata": {},
     "output_type": "execute_result"
    }
   ],
   "source": [
    "df['rx_result'].unique()"
   ]
  },
  {
   "cell_type": "code",
   "execution_count": 98,
   "id": "96622797",
   "metadata": {},
   "outputs": [
    {
     "data": {
      "text/plain": [
       "10101010    24280\n",
       "30101010     6486\n",
       "30301010     3499\n",
       "30303010     3428\n",
       "N            2116\n",
       "Name: rx_result, dtype: int64"
      ]
     },
     "execution_count": 98,
     "metadata": {},
     "output_type": "execute_result"
    }
   ],
   "source": [
    "df['rx_result'].value_counts()"
   ]
  },
  {
   "cell_type": "markdown",
   "id": "93c3abf7",
   "metadata": {},
   "source": [
    "Although I'm unsure what these field values mean, the rx_result field refers to the user's medical status so I think it should be included"
   ]
  },
  {
   "cell_type": "code",
   "execution_count": 122,
   "id": "e5962628",
   "metadata": {},
   "outputs": [
    {
     "data": {
      "text/plain": [
       "(44844, 42)"
      ]
     },
     "execution_count": 122,
     "metadata": {},
     "output_type": "execute_result"
    }
   ],
   "source": [
    "# current feature count\n",
    "df.shape"
   ]
  },
  {
   "cell_type": "code",
   "execution_count": 108,
   "id": "e9219efa",
   "metadata": {},
   "outputs": [
    {
     "name": "stdout",
     "output_type": "stream",
     "text": [
      "41777\n",
      "1172\n",
      "599\n",
      "2\n",
      "7\n",
      "13\n",
      "2\n",
      "2\n",
      "2\n",
      "5\n",
      "7\n",
      "12523\n",
      "6\n",
      "2\n",
      "2\n",
      "30\n",
      "5\n",
      "6\n",
      "9\n"
     ]
    }
   ],
   "source": [
    "df_cat = df.select_dtypes(exclude = 'number')\n",
    "\n",
    "df_cat_list = df_cat.columns.to_list()\n",
    "for i in range(len(df_cat_list)):\n",
    "    print (df_cat[df_cat_list[i]].nunique())"
   ]
  },
  {
   "cell_type": "markdown",
   "id": "2544873f",
   "metadata": {},
   "source": [
    "It appears that we may have some duplicate application id's"
   ]
  },
  {
   "cell_type": "code",
   "execution_count": 119,
   "id": "de4d0a3e",
   "metadata": {},
   "outputs": [
    {
     "data": {
      "text/html": [
       "<div>\n",
       "<style scoped>\n",
       "    .dataframe tbody tr th:only-of-type {\n",
       "        vertical-align: middle;\n",
       "    }\n",
       "\n",
       "    .dataframe tbody tr th {\n",
       "        vertical-align: top;\n",
       "    }\n",
       "\n",
       "    .dataframe thead th {\n",
       "        text-align: right;\n",
       "    }\n",
       "</style>\n",
       "<table border=\"1\" class=\"dataframe\">\n",
       "  <thead>\n",
       "    <tr style=\"text-align: right;\">\n",
       "      <th></th>\n",
       "      <th>application_id</th>\n",
       "      <th>count</th>\n",
       "    </tr>\n",
       "  </thead>\n",
       "  <tbody>\n",
       "    <tr>\n",
       "      <th>4004</th>\n",
       "      <td>1956b67a-a996-4c8d-9090-8fb51a7e20a5</td>\n",
       "      <td>3</td>\n",
       "    </tr>\n",
       "    <tr>\n",
       "      <th>4417</th>\n",
       "      <td>1bdcc4ac-2681-44df-87f2-7ab41d7ffe59</td>\n",
       "      <td>6</td>\n",
       "    </tr>\n",
       "    <tr>\n",
       "      <th>6338</th>\n",
       "      <td>27c73f19-da2c-42c3-a1eb-095ab5fc1797</td>\n",
       "      <td>3</td>\n",
       "    </tr>\n",
       "    <tr>\n",
       "      <th>7645</th>\n",
       "      <td>2fc4a0ce-3fc5-4ece-a768-afb4f765acc4</td>\n",
       "      <td>3</td>\n",
       "    </tr>\n",
       "    <tr>\n",
       "      <th>9364</th>\n",
       "      <td>3a117a8d-d046-4d3a-9f4f-573cc084dde1</td>\n",
       "      <td>3</td>\n",
       "    </tr>\n",
       "    <tr>\n",
       "      <th>14983</th>\n",
       "      <td>5bf1ccde-7f94-4b10-aaae-17628a424ac1</td>\n",
       "      <td>4</td>\n",
       "    </tr>\n",
       "    <tr>\n",
       "      <th>15702</th>\n",
       "      <td>6053bf42-31d8-454a-b23f-d33d708ae0a5</td>\n",
       "      <td>4</td>\n",
       "    </tr>\n",
       "    <tr>\n",
       "      <th>18264</th>\n",
       "      <td>6fcd9061-7ae3-4092-9382-536c84304e0b</td>\n",
       "      <td>3</td>\n",
       "    </tr>\n",
       "    <tr>\n",
       "      <th>18495</th>\n",
       "      <td>71312ca9-485d-4e9b-8e30-cfacfebb35ce</td>\n",
       "      <td>4</td>\n",
       "    </tr>\n",
       "    <tr>\n",
       "      <th>18562</th>\n",
       "      <td>719b8de7-0746-4d51-a5b1-d6d76e328333</td>\n",
       "      <td>4</td>\n",
       "    </tr>\n",
       "    <tr>\n",
       "      <th>20021</th>\n",
       "      <td>7aaf9ded-e97c-4ac9-8ad9-bc629f294419</td>\n",
       "      <td>4</td>\n",
       "    </tr>\n",
       "    <tr>\n",
       "      <th>22051</th>\n",
       "      <td>87291fa1-ded6-45b3-9496-47d3daac14e7</td>\n",
       "      <td>3</td>\n",
       "    </tr>\n",
       "    <tr>\n",
       "      <th>25431</th>\n",
       "      <td>9bdcea9d-8d6f-424a-ada0-1d36b3658897</td>\n",
       "      <td>4</td>\n",
       "    </tr>\n",
       "    <tr>\n",
       "      <th>26273</th>\n",
       "      <td>a1144da0-f75a-43b1-bd0c-a0a3621c1f8d</td>\n",
       "      <td>4</td>\n",
       "    </tr>\n",
       "    <tr>\n",
       "      <th>28795</th>\n",
       "      <td>b03d3c0f-952c-4ab8-b564-e320d161aa61</td>\n",
       "      <td>3</td>\n",
       "    </tr>\n",
       "    <tr>\n",
       "      <th>35586</th>\n",
       "      <td>dab550f7-cdbd-4a01-87bb-55c1159650b6</td>\n",
       "      <td>3</td>\n",
       "    </tr>\n",
       "    <tr>\n",
       "      <th>39266</th>\n",
       "      <td>f10e6317-f52a-4765-a013-dca8196acd8a</td>\n",
       "      <td>3</td>\n",
       "    </tr>\n",
       "    <tr>\n",
       "      <th>40270</th>\n",
       "      <td>f727119a-3628-4fa0-9879-476db8c6f5c5</td>\n",
       "      <td>4</td>\n",
       "    </tr>\n",
       "  </tbody>\n",
       "</table>\n",
       "</div>"
      ],
      "text/plain": [
       "                             application_id  count\n",
       "4004   1956b67a-a996-4c8d-9090-8fb51a7e20a5      3\n",
       "4417   1bdcc4ac-2681-44df-87f2-7ab41d7ffe59      6\n",
       "6338   27c73f19-da2c-42c3-a1eb-095ab5fc1797      3\n",
       "7645   2fc4a0ce-3fc5-4ece-a768-afb4f765acc4      3\n",
       "9364   3a117a8d-d046-4d3a-9f4f-573cc084dde1      3\n",
       "14983  5bf1ccde-7f94-4b10-aaae-17628a424ac1      4\n",
       "15702  6053bf42-31d8-454a-b23f-d33d708ae0a5      4\n",
       "18264  6fcd9061-7ae3-4092-9382-536c84304e0b      3\n",
       "18495  71312ca9-485d-4e9b-8e30-cfacfebb35ce      4\n",
       "18562  719b8de7-0746-4d51-a5b1-d6d76e328333      4\n",
       "20021  7aaf9ded-e97c-4ac9-8ad9-bc629f294419      4\n",
       "22051  87291fa1-ded6-45b3-9496-47d3daac14e7      3\n",
       "25431  9bdcea9d-8d6f-424a-ada0-1d36b3658897      4\n",
       "26273  a1144da0-f75a-43b1-bd0c-a0a3621c1f8d      4\n",
       "28795  b03d3c0f-952c-4ab8-b564-e320d161aa61      3\n",
       "35586  dab550f7-cdbd-4a01-87bb-55c1159650b6      3\n",
       "39266  f10e6317-f52a-4765-a013-dca8196acd8a      3\n",
       "40270  f727119a-3628-4fa0-9879-476db8c6f5c5      4"
      ]
     },
     "execution_count": 119,
     "metadata": {},
     "output_type": "execute_result"
    }
   ],
   "source": [
    "apps = df.groupby('application_id')['open_date'].count().reset_index()\n",
    "apps.rename(columns = {'open_date':'count'}, inplace=True)\n",
    "\n",
    "dupes = apps[apps['count'] > 1]\n",
    "dupes[dupes['count'] > 2]"
   ]
  },
  {
   "cell_type": "code",
   "execution_count": 120,
   "id": "e850da60",
   "metadata": {},
   "outputs": [
    {
     "data": {
      "text/plain": [
       "(3038, 2)"
      ]
     },
     "execution_count": 120,
     "metadata": {},
     "output_type": "execute_result"
    }
   ],
   "source": [
    "dupes.shape"
   ]
  },
  {
   "cell_type": "code",
   "execution_count": 121,
   "id": "2751a6d3",
   "metadata": {},
   "outputs": [
    {
     "data": {
      "text/plain": [
       "6105"
      ]
     },
     "execution_count": 121,
     "metadata": {},
     "output_type": "execute_result"
    }
   ],
   "source": [
    "dupes['count'].sum()"
   ]
  },
  {
   "cell_type": "code",
   "execution_count": 129,
   "id": "92fbad24",
   "metadata": {},
   "outputs": [
    {
     "name": "stdout",
     "output_type": "stream",
     "text": [
      "(6105, 43)\n",
      "(6105, 42)\n"
     ]
    },
    {
     "data": {
      "text/plain": [
       "(3251, 42)"
      ]
     },
     "execution_count": 129,
     "metadata": {},
     "output_type": "execute_result"
    }
   ],
   "source": [
    "dupes_all = pd.merge(dupes, df, on='application_id', how = 'left')\n",
    "print(dupes_all.shape)\n",
    "dupes_all.drop('business_line', axis=1, inplace=True)\n",
    "print(dupes_all.shape)\n",
    "no_dupes = dupes_all.drop_duplicates()\n",
    "no_dupes.shape"
   ]
  },
  {
   "cell_type": "code",
   "execution_count": 134,
   "id": "428c3f4e",
   "metadata": {},
   "outputs": [],
   "source": [
    "# it looks like business line accounted for a majority of the duplicates, i.e, everything was the same except business line,\n",
    "# so those observations should be dropped\n",
    "# but our dupes dataframe had 3038 observations and we still have 3251, so there are a few more to look at\n",
    "dupes2 = no_dupes.groupby('application_id')['open_date'].count().reset_index()\n",
    "dupes2 = dupes2[dupes2['open_date'] > 1]"
   ]
  },
  {
   "cell_type": "code",
   "execution_count": 135,
   "id": "d6eca7d5",
   "metadata": {},
   "outputs": [
    {
     "data": {
      "text/html": [
       "<div>\n",
       "<style scoped>\n",
       "    .dataframe tbody tr th:only-of-type {\n",
       "        vertical-align: middle;\n",
       "    }\n",
       "\n",
       "    .dataframe tbody tr th {\n",
       "        vertical-align: top;\n",
       "    }\n",
       "\n",
       "    .dataframe thead th {\n",
       "        text-align: right;\n",
       "    }\n",
       "</style>\n",
       "<table border=\"1\" class=\"dataframe\">\n",
       "  <thead>\n",
       "    <tr style=\"text-align: right;\">\n",
       "      <th></th>\n",
       "      <th>application_id</th>\n",
       "      <th>open_date_x</th>\n",
       "      <th>open_to_submit_min</th>\n",
       "      <th>submit_to_approve_min</th>\n",
       "      <th>channel_combined</th>\n",
       "      <th>open_date_y</th>\n",
       "      <th>bind</th>\n",
       "      <th>pre_approval_interactions</th>\n",
       "      <th>post_approval_pre_bind_interactions</th>\n",
       "      <th>sessions_uniq</th>\n",
       "      <th>...</th>\n",
       "      <th>business_line</th>\n",
       "      <th>face_amount</th>\n",
       "      <th>product</th>\n",
       "      <th>quoted_risk_class</th>\n",
       "      <th>approved_risk_class</th>\n",
       "      <th>quoted_premium</th>\n",
       "      <th>premium_difference</th>\n",
       "      <th>premium_pct_diff</th>\n",
       "      <th>annual_approved_premium</th>\n",
       "      <th>face_prem_ratio</th>\n",
       "    </tr>\n",
       "  </thead>\n",
       "  <tbody>\n",
       "    <tr>\n",
       "      <th>0</th>\n",
       "      <td>0143fe9a-6362-472c-a634-c7cb2e7a1197</td>\n",
       "      <td>2</td>\n",
       "      <td>4</td>\n",
       "      <td>1</td>\n",
       "      <td>Experian</td>\n",
       "      <td>2021-10-30</td>\n",
       "      <td>1</td>\n",
       "      <td>0</td>\n",
       "      <td>0</td>\n",
       "      <td>2.0</td>\n",
       "      <td>...</td>\n",
       "      <td>direct</td>\n",
       "      <td>350000</td>\n",
       "      <td>BT1504</td>\n",
       "      <td>select_nt</td>\n",
       "      <td>select_nt</td>\n",
       "      <td>116.25</td>\n",
       "      <td>0.00</td>\n",
       "      <td>0.000000</td>\n",
       "      <td>1395.00</td>\n",
       "      <td>250.896057</td>\n",
       "    </tr>\n",
       "    <tr>\n",
       "      <th>1</th>\n",
       "      <td>0143fe9a-6362-472c-a634-c7cb2e7a1197</td>\n",
       "      <td>2</td>\n",
       "      <td>4</td>\n",
       "      <td>1</td>\n",
       "      <td>Experian</td>\n",
       "      <td>2021-10-30</td>\n",
       "      <td>1</td>\n",
       "      <td>0</td>\n",
       "      <td>0</td>\n",
       "      <td>2.0</td>\n",
       "      <td>...</td>\n",
       "      <td>direct</td>\n",
       "      <td>250000</td>\n",
       "      <td>BT1504</td>\n",
       "      <td>select_nt</td>\n",
       "      <td>select_nt</td>\n",
       "      <td>84.75</td>\n",
       "      <td>0.00</td>\n",
       "      <td>0.000000</td>\n",
       "      <td>1017.00</td>\n",
       "      <td>245.821042</td>\n",
       "    </tr>\n",
       "    <tr>\n",
       "      <th>2</th>\n",
       "      <td>0244245a-8dbf-4f95-a9fd-e31e49822cc4</td>\n",
       "      <td>2</td>\n",
       "      <td>5</td>\n",
       "      <td>2</td>\n",
       "      <td>Assurance</td>\n",
       "      <td>2021-07-01</td>\n",
       "      <td>0</td>\n",
       "      <td>0</td>\n",
       "      <td>0</td>\n",
       "      <td>1.0</td>\n",
       "      <td>...</td>\n",
       "      <td>direct</td>\n",
       "      <td>500000</td>\n",
       "      <td>BT3004</td>\n",
       "      <td>essential_nt</td>\n",
       "      <td>essential_nt</td>\n",
       "      <td>94.33</td>\n",
       "      <td>0.00</td>\n",
       "      <td>0.000000</td>\n",
       "      <td>1131.96</td>\n",
       "      <td>441.711721</td>\n",
       "    </tr>\n",
       "    <tr>\n",
       "      <th>3</th>\n",
       "      <td>0244245a-8dbf-4f95-a9fd-e31e49822cc4</td>\n",
       "      <td>2</td>\n",
       "      <td>5</td>\n",
       "      <td>2</td>\n",
       "      <td>Assurance</td>\n",
       "      <td>2021-07-01</td>\n",
       "      <td>0</td>\n",
       "      <td>0</td>\n",
       "      <td>0</td>\n",
       "      <td>1.0</td>\n",
       "      <td>...</td>\n",
       "      <td>direct</td>\n",
       "      <td>350000</td>\n",
       "      <td>BT3004</td>\n",
       "      <td>essential_nt</td>\n",
       "      <td>essential_nt</td>\n",
       "      <td>69.88</td>\n",
       "      <td>0.00</td>\n",
       "      <td>0.000000</td>\n",
       "      <td>838.56</td>\n",
       "      <td>417.382179</td>\n",
       "    </tr>\n",
       "    <tr>\n",
       "      <th>4</th>\n",
       "      <td>029e0506-803d-4ef3-a888-98a4bce20a46</td>\n",
       "      <td>2</td>\n",
       "      <td>3</td>\n",
       "      <td>1</td>\n",
       "      <td>Experian</td>\n",
       "      <td>2021-07-23</td>\n",
       "      <td>0</td>\n",
       "      <td>0</td>\n",
       "      <td>0</td>\n",
       "      <td>1.0</td>\n",
       "      <td>...</td>\n",
       "      <td>direct</td>\n",
       "      <td>950000</td>\n",
       "      <td>BT2004</td>\n",
       "      <td>preferred_nt</td>\n",
       "      <td>essential_nt</td>\n",
       "      <td>166.71</td>\n",
       "      <td>-216.12</td>\n",
       "      <td>-1.296383</td>\n",
       "      <td>4593.96</td>\n",
       "      <td>206.793268</td>\n",
       "    </tr>\n",
       "    <tr>\n",
       "      <th>...</th>\n",
       "      <td>...</td>\n",
       "      <td>...</td>\n",
       "      <td>...</td>\n",
       "      <td>...</td>\n",
       "      <td>...</td>\n",
       "      <td>...</td>\n",
       "      <td>...</td>\n",
       "      <td>...</td>\n",
       "      <td>...</td>\n",
       "      <td>...</td>\n",
       "      <td>...</td>\n",
       "      <td>...</td>\n",
       "      <td>...</td>\n",
       "      <td>...</td>\n",
       "      <td>...</td>\n",
       "      <td>...</td>\n",
       "      <td>...</td>\n",
       "      <td>...</td>\n",
       "      <td>...</td>\n",
       "      <td>...</td>\n",
       "      <td>...</td>\n",
       "    </tr>\n",
       "    <tr>\n",
       "      <th>430</th>\n",
       "      <td>fddb36d6-461e-485b-a5da-3a8594a8c8b7</td>\n",
       "      <td>2</td>\n",
       "      <td>6</td>\n",
       "      <td>1</td>\n",
       "      <td>Assurance</td>\n",
       "      <td>2021-06-01</td>\n",
       "      <td>0</td>\n",
       "      <td>0</td>\n",
       "      <td>1</td>\n",
       "      <td>1.0</td>\n",
       "      <td>...</td>\n",
       "      <td>direct</td>\n",
       "      <td>950000</td>\n",
       "      <td>BT2004</td>\n",
       "      <td>select_nt</td>\n",
       "      <td>select_nt</td>\n",
       "      <td>198.38</td>\n",
       "      <td>0.00</td>\n",
       "      <td>0.000000</td>\n",
       "      <td>2380.56</td>\n",
       "      <td>399.065766</td>\n",
       "    </tr>\n",
       "    <tr>\n",
       "      <th>431</th>\n",
       "      <td>fe3fc878-4cd3-4c58-a8b5-ea0b7bc24333</td>\n",
       "      <td>2</td>\n",
       "      <td>8</td>\n",
       "      <td>1</td>\n",
       "      <td>Assurance</td>\n",
       "      <td>2021-04-15</td>\n",
       "      <td>0</td>\n",
       "      <td>0</td>\n",
       "      <td>1</td>\n",
       "      <td>1.0</td>\n",
       "      <td>...</td>\n",
       "      <td>direct</td>\n",
       "      <td>600000</td>\n",
       "      <td>BT2004</td>\n",
       "      <td>elite_nt</td>\n",
       "      <td>select_nt</td>\n",
       "      <td>48.50</td>\n",
       "      <td>-44.50</td>\n",
       "      <td>-0.917526</td>\n",
       "      <td>1116.00</td>\n",
       "      <td>537.634409</td>\n",
       "    </tr>\n",
       "    <tr>\n",
       "      <th>432</th>\n",
       "      <td>fe3fc878-4cd3-4c58-a8b5-ea0b7bc24333</td>\n",
       "      <td>2</td>\n",
       "      <td>8</td>\n",
       "      <td>1</td>\n",
       "      <td>Assurance</td>\n",
       "      <td>2021-04-15</td>\n",
       "      <td>0</td>\n",
       "      <td>0</td>\n",
       "      <td>1</td>\n",
       "      <td>1.0</td>\n",
       "      <td>...</td>\n",
       "      <td>direct</td>\n",
       "      <td>1000000</td>\n",
       "      <td>BT2004</td>\n",
       "      <td>elite_nt</td>\n",
       "      <td>select_nt</td>\n",
       "      <td>76.83</td>\n",
       "      <td>-74.17</td>\n",
       "      <td>-0.965378</td>\n",
       "      <td>1812.00</td>\n",
       "      <td>551.876380</td>\n",
       "    </tr>\n",
       "    <tr>\n",
       "      <th>433</th>\n",
       "      <td>ffb49b02-b549-4b0a-83ee-08c7e971a14d</td>\n",
       "      <td>2</td>\n",
       "      <td>1</td>\n",
       "      <td>2</td>\n",
       "      <td>Buzzery</td>\n",
       "      <td>2021-02-06</td>\n",
       "      <td>0</td>\n",
       "      <td>0</td>\n",
       "      <td>0</td>\n",
       "      <td>1.0</td>\n",
       "      <td>...</td>\n",
       "      <td>direct</td>\n",
       "      <td>600000</td>\n",
       "      <td>BT2004</td>\n",
       "      <td>elite_nt</td>\n",
       "      <td>essential_nt</td>\n",
       "      <td>24.50</td>\n",
       "      <td>-36.50</td>\n",
       "      <td>-1.489796</td>\n",
       "      <td>732.00</td>\n",
       "      <td>819.672131</td>\n",
       "    </tr>\n",
       "    <tr>\n",
       "      <th>434</th>\n",
       "      <td>ffb49b02-b549-4b0a-83ee-08c7e971a14d</td>\n",
       "      <td>2</td>\n",
       "      <td>1</td>\n",
       "      <td>2</td>\n",
       "      <td>Buzzery</td>\n",
       "      <td>2021-02-06</td>\n",
       "      <td>0</td>\n",
       "      <td>0</td>\n",
       "      <td>0</td>\n",
       "      <td>1.0</td>\n",
       "      <td>...</td>\n",
       "      <td>direct</td>\n",
       "      <td>500000</td>\n",
       "      <td>BT2004</td>\n",
       "      <td>elite_nt</td>\n",
       "      <td>essential_nt</td>\n",
       "      <td>21.42</td>\n",
       "      <td>-30.41</td>\n",
       "      <td>-1.419701</td>\n",
       "      <td>621.96</td>\n",
       "      <td>803.910219</td>\n",
       "    </tr>\n",
       "  </tbody>\n",
       "</table>\n",
       "<p>435 rows × 43 columns</p>\n",
       "</div>"
      ],
      "text/plain": [
       "                           application_id  open_date_x  open_to_submit_min  \\\n",
       "0    0143fe9a-6362-472c-a634-c7cb2e7a1197            2                   4   \n",
       "1    0143fe9a-6362-472c-a634-c7cb2e7a1197            2                   4   \n",
       "2    0244245a-8dbf-4f95-a9fd-e31e49822cc4            2                   5   \n",
       "3    0244245a-8dbf-4f95-a9fd-e31e49822cc4            2                   5   \n",
       "4    029e0506-803d-4ef3-a888-98a4bce20a46            2                   3   \n",
       "..                                    ...          ...                 ...   \n",
       "430  fddb36d6-461e-485b-a5da-3a8594a8c8b7            2                   6   \n",
       "431  fe3fc878-4cd3-4c58-a8b5-ea0b7bc24333            2                   8   \n",
       "432  fe3fc878-4cd3-4c58-a8b5-ea0b7bc24333            2                   8   \n",
       "433  ffb49b02-b549-4b0a-83ee-08c7e971a14d            2                   1   \n",
       "434  ffb49b02-b549-4b0a-83ee-08c7e971a14d            2                   1   \n",
       "\n",
       "     submit_to_approve_min channel_combined open_date_y bind  \\\n",
       "0                        1         Experian  2021-10-30    1   \n",
       "1                        1         Experian  2021-10-30    1   \n",
       "2                        2        Assurance  2021-07-01    0   \n",
       "3                        2        Assurance  2021-07-01    0   \n",
       "4                        1         Experian  2021-07-23    0   \n",
       "..                     ...              ...         ...  ...   \n",
       "430                      1        Assurance  2021-06-01    0   \n",
       "431                      1        Assurance  2021-04-15    0   \n",
       "432                      1        Assurance  2021-04-15    0   \n",
       "433                      2          Buzzery  2021-02-06    0   \n",
       "434                      2          Buzzery  2021-02-06    0   \n",
       "\n",
       "     pre_approval_interactions  post_approval_pre_bind_interactions  \\\n",
       "0                            0                                    0   \n",
       "1                            0                                    0   \n",
       "2                            0                                    0   \n",
       "3                            0                                    0   \n",
       "4                            0                                    0   \n",
       "..                         ...                                  ...   \n",
       "430                          0                                    1   \n",
       "431                          0                                    1   \n",
       "432                          0                                    1   \n",
       "433                          0                                    0   \n",
       "434                          0                                    0   \n",
       "\n",
       "     sessions_uniq  ...  business_line  face_amount  product  \\\n",
       "0              2.0  ...         direct       350000   BT1504   \n",
       "1              2.0  ...         direct       250000   BT1504   \n",
       "2              1.0  ...         direct       500000   BT3004   \n",
       "3              1.0  ...         direct       350000   BT3004   \n",
       "4              1.0  ...         direct       950000   BT2004   \n",
       "..             ...  ...            ...          ...      ...   \n",
       "430            1.0  ...         direct       950000   BT2004   \n",
       "431            1.0  ...         direct       600000   BT2004   \n",
       "432            1.0  ...         direct      1000000   BT2004   \n",
       "433            1.0  ...         direct       600000   BT2004   \n",
       "434            1.0  ...         direct       500000   BT2004   \n",
       "\n",
       "    quoted_risk_class approved_risk_class  quoted_premium  premium_difference  \\\n",
       "0           select_nt           select_nt          116.25                0.00   \n",
       "1           select_nt           select_nt           84.75                0.00   \n",
       "2        essential_nt        essential_nt           94.33                0.00   \n",
       "3        essential_nt        essential_nt           69.88                0.00   \n",
       "4        preferred_nt        essential_nt          166.71             -216.12   \n",
       "..                ...                 ...             ...                 ...   \n",
       "430         select_nt           select_nt          198.38                0.00   \n",
       "431          elite_nt           select_nt           48.50              -44.50   \n",
       "432          elite_nt           select_nt           76.83              -74.17   \n",
       "433          elite_nt        essential_nt           24.50              -36.50   \n",
       "434          elite_nt        essential_nt           21.42              -30.41   \n",
       "\n",
       "    premium_pct_diff  annual_approved_premium face_prem_ratio  \n",
       "0           0.000000                  1395.00      250.896057  \n",
       "1           0.000000                  1017.00      245.821042  \n",
       "2           0.000000                  1131.96      441.711721  \n",
       "3           0.000000                   838.56      417.382179  \n",
       "4          -1.296383                  4593.96      206.793268  \n",
       "..               ...                      ...             ...  \n",
       "430         0.000000                  2380.56      399.065766  \n",
       "431        -0.917526                  1116.00      537.634409  \n",
       "432        -0.965378                  1812.00      551.876380  \n",
       "433        -1.489796                   732.00      819.672131  \n",
       "434        -1.419701                   621.96      803.910219  \n",
       "\n",
       "[435 rows x 43 columns]"
      ]
     },
     "execution_count": 135,
     "metadata": {},
     "output_type": "execute_result"
    }
   ],
   "source": [
    "dupes_all2 = pd.merge(dupes2, df, on = 'application_id', how = 'left')\n",
    "dupes_all2"
   ]
  },
  {
   "cell_type": "code",
   "execution_count": 107,
   "id": "de785654",
   "metadata": {},
   "outputs": [
    {
     "name": "stdout",
     "output_type": "stream",
     "text": [
      "0        046e7c9f-572b-4a58-82f2-3157295c182b\n",
      "1        6b381417-6906-4855-a804-9d8487d85bef\n",
      "2        74b45874-1f97-433a-8d83-a1e3b3cbc2f2\n",
      "3        dbe73bbe-fd1e-40ab-bef2-674374fcb74a\n",
      "4        acaacde0-e3c0-4bb5-8e1f-402bb9e7e176\n",
      "                         ...                 \n",
      "44839    d06f3985-1da7-4a07-bd94-c6118a0c6ca6\n",
      "44840    d1ba64d7-354f-40a6-803e-94e0aaadee33\n",
      "44841    1a9a230c-e62b-449e-acb5-c3aeab799720\n",
      "44842    aa476c7d-aa50-461f-abcc-27bbd50ed06c\n",
      "44843    ed327422-e3a8-4a83-a879-4818e40f5317\n",
      "Name: application_id, Length: 44844, dtype: object\n",
      "0                                                    Other\n",
      "1                                                    Other\n",
      "2                                                    Other\n",
      "3                                                    Other\n",
      "4                                                    Other\n",
      "                               ...                        \n",
      "44839                                   Google Non-Branded\n",
      "44840                                IMO.tma.BGA.zanderins\n",
      "44841    IMO.aimcor.BGA.georgetown.AGENCY.hensleyandass...\n",
      "44842                                   BGA.keegankenfield\n",
      "44843                                         Applied Mind\n",
      "Name: channel_combined, Length: 44844, dtype: object\n",
      "0        2021-12-31\n",
      "1        2021-03-16\n",
      "2        2021-04-06\n",
      "3        2021-06-07\n",
      "4        2021-09-27\n",
      "            ...    \n",
      "44839    2021-04-29\n",
      "44840    2021-11-04\n",
      "44841    2022-03-28\n",
      "44842    2022-04-25\n",
      "44843    2021-10-26\n",
      "Name: open_date, Length: 44844, dtype: object\n",
      "0        0\n",
      "1        1\n",
      "2        1\n",
      "3        0\n",
      "4        0\n",
      "        ..\n",
      "44839    0\n",
      "44840    1\n",
      "44841    1\n",
      "44842    1\n",
      "44843    0\n",
      "Name: bind, Length: 44844, dtype: category\n",
      "Categories (2, int64): [0, 1]\n",
      "0            NaN\n",
      "1            NaN\n",
      "2            NaN\n",
      "3            NaN\n",
      "4            NaN\n",
      "          ...   \n",
      "44839      phone\n",
      "44840    desktop\n",
      "44841    desktop\n",
      "44842      phone\n",
      "44843      phone\n",
      "Name: device, Length: 44844, dtype: object\n",
      "0                    NaN\n",
      "1                    NaN\n",
      "2                    NaN\n",
      "3                    NaN\n",
      "4                    NaN\n",
      "              ...       \n",
      "44839       phone_iphone\n",
      "44840    desktop_windows\n",
      "44841    desktop_windows\n",
      "44842       phone_iphone\n",
      "44843       phone_iphone\n",
      "Name: device_name, Length: 44844, dtype: object\n",
      "0          male\n",
      "1        female\n",
      "2        female\n",
      "3          male\n",
      "4        female\n",
      "          ...  \n",
      "44839      male\n",
      "44840      male\n",
      "44841    female\n",
      "44842      male\n",
      "44843      male\n",
      "Name: gender, Length: 44844, dtype: object\n",
      "0        False\n",
      "1        False\n",
      "2        False\n",
      "3        False\n",
      "4        False\n",
      "         ...  \n",
      "44839     True\n",
      "44840     True\n",
      "44841    False\n",
      "44842    False\n",
      "44843    False\n",
      "Name: tb, Length: 44844, dtype: bool\n",
      "0         no\n",
      "1         no\n",
      "2         no\n",
      "3         no\n",
      "4         no\n",
      "        ... \n",
      "44839    yes\n",
      "44840     no\n",
      "44841     no\n",
      "44842     no\n",
      "44843     no\n",
      "Name: current_ins, Length: 44844, dtype: object\n",
      "0        30101010\n",
      "1        10101010\n",
      "2        10101010\n",
      "3        10101010\n",
      "4        30101010\n",
      "           ...   \n",
      "44839    30303010\n",
      "44840    30303010\n",
      "44841    10101010\n",
      "44842    10101010\n",
      "44843    30301010\n",
      "Name: rx_result, Length: 44844, dtype: object\n",
      "0        fulltime\n",
      "1        fulltime\n",
      "2        fulltime\n",
      "3        fulltime\n",
      "4        fulltime\n",
      "           ...   \n",
      "44839    fulltime\n",
      "44840    fulltime\n",
      "44841    fulltime\n",
      "44842    fulltime\n",
      "44843    fulltime\n",
      "Name: employment_status, Length: 44844, dtype: object\n",
      "0        95479\n",
      "1        35147\n",
      "2        27616\n",
      "3        20607\n",
      "4        90063\n",
      "         ...  \n",
      "44839    70605\n",
      "44840    78130\n",
      "44841    06085\n",
      "44842    44641\n",
      "44843    76904\n",
      "Name: postal_code_address, Length: 44844, dtype: object\n",
      "0             weekly\n",
      "1           biweekly\n",
      "2             weekly\n",
      "3        semimonthly\n",
      "4            monthly\n",
      "            ...     \n",
      "44839         yearly\n",
      "44840         yearly\n",
      "44841         yearly\n",
      "44842         yearly\n",
      "44843         yearly\n",
      "Name: income_payment_period, Length: 44844, dtype: object\n",
      "0        False\n",
      "1        False\n",
      "2        False\n",
      "3        False\n",
      "4        False\n",
      "         ...  \n",
      "44839    False\n",
      "44840    False\n",
      "44841    False\n",
      "44842    False\n",
      "44843    False\n",
      "Name: disability_pmts, Length: 44844, dtype: bool\n",
      "0         direct\n",
      "1         direct\n",
      "2         direct\n",
      "3         direct\n",
      "4         direct\n",
      "          ...   \n",
      "44839     direct\n",
      "44840    advisor\n",
      "44841    advisor\n",
      "44842    advisor\n",
      "44843     direct\n",
      "Name: business_line, Length: 44844, dtype: object\n",
      "0        1000000\n",
      "1         700000\n",
      "2         500000\n",
      "3         750000\n",
      "4         700000\n",
      "          ...   \n",
      "44839     200000\n",
      "44840    1000000\n",
      "44841     350000\n",
      "44842     800000\n",
      "44843     250000\n",
      "Name: face_amount, Length: 44844, dtype: category\n",
      "Categories (30, int64): [50000, 100000, 150000, 200000, ..., 1350000, 1400000, 1450000, 1500000]\n",
      "0        BT2004\n",
      "1        BT1504\n",
      "2        BT2004\n",
      "3        BT3004\n",
      "4        BT3004\n",
      "          ...  \n",
      "44839    BT2004\n",
      "44840    BT1004\n",
      "44841    BT2004\n",
      "44842    BT1504\n",
      "44843    BT1004\n",
      "Name: product, Length: 44844, dtype: object\n",
      "0           select_nt\n",
      "1            elite_nt\n",
      "2            elite_nt\n",
      "3           select_nt\n",
      "4            elite_nt\n",
      "             ...     \n",
      "44839    essential_tb\n",
      "44840       select_tb\n",
      "44841        elite_nt\n",
      "44842        elite_nt\n",
      "44843        elite_nt\n",
      "Name: quoted_risk_class, Length: 44844, dtype: object\n",
      "0        essential_nt\n",
      "1        preferred_nt\n",
      "2        preferred_nt\n",
      "3           select_nt\n",
      "4           select_nt\n",
      "             ...     \n",
      "44839    essential_tb\n",
      "44840       select_tb\n",
      "44841        elite_nt\n",
      "44842        elite_nt\n",
      "44843    essential_nt\n",
      "Name: approved_risk_class, Length: 44844, dtype: object\n"
     ]
    },
    {
     "ename": "NameError",
     "evalue": "name 'df_plots' is not defined",
     "output_type": "error",
     "traceback": [
      "\u001b[1;31m---------------------------------------------------------------------------\u001b[0m",
      "\u001b[1;31mNameError\u001b[0m                                 Traceback (most recent call last)",
      "\u001b[1;32m~\\AppData\\Local\\Temp/ipykernel_20092/3614817845.py\u001b[0m in \u001b[0;36m<module>\u001b[1;34m\u001b[0m\n\u001b[0;32m     13\u001b[0m \u001b[1;33m\u001b[0m\u001b[0m\n\u001b[0;32m     14\u001b[0m \u001b[1;31m# make the data read to feed into the visualizer\u001b[0m\u001b[1;33m\u001b[0m\u001b[1;33m\u001b[0m\u001b[0m\n\u001b[1;32m---> 15\u001b[1;33m \u001b[0mX_Active\u001b[0m \u001b[1;33m=\u001b[0m \u001b[0mdf_plots\u001b[0m\u001b[1;33m.\u001b[0m\u001b[0mgroupby\u001b[0m\u001b[1;33m(\u001b[0m\u001b[1;34m'IsActiveMember'\u001b[0m\u001b[1;33m)\u001b[0m\u001b[1;33m.\u001b[0m\u001b[0msize\u001b[0m\u001b[1;33m(\u001b[0m\u001b[1;33m)\u001b[0m\u001b[1;33m.\u001b[0m\u001b[0mreset_index\u001b[0m\u001b[1;33m(\u001b[0m\u001b[0mname\u001b[0m\u001b[1;33m=\u001b[0m\u001b[1;34m'Counts'\u001b[0m\u001b[1;33m)\u001b[0m\u001b[1;33m[\u001b[0m\u001b[1;34m'IsActiveMember'\u001b[0m\u001b[1;33m]\u001b[0m\u001b[1;33m\u001b[0m\u001b[1;33m\u001b[0m\u001b[0m\n\u001b[0m\u001b[0;32m     16\u001b[0m \u001b[0mY_Active\u001b[0m \u001b[1;33m=\u001b[0m \u001b[0mdf_plots\u001b[0m\u001b[1;33m.\u001b[0m\u001b[0mgroupby\u001b[0m\u001b[1;33m(\u001b[0m\u001b[1;34m'IsActiveMember'\u001b[0m\u001b[1;33m)\u001b[0m\u001b[1;33m.\u001b[0m\u001b[0msize\u001b[0m\u001b[1;33m(\u001b[0m\u001b[1;33m)\u001b[0m\u001b[1;33m.\u001b[0m\u001b[0mreset_index\u001b[0m\u001b[1;33m(\u001b[0m\u001b[0mname\u001b[0m\u001b[1;33m=\u001b[0m\u001b[1;34m'Counts'\u001b[0m\u001b[1;33m)\u001b[0m\u001b[1;33m[\u001b[0m\u001b[1;34m'Counts'\u001b[0m\u001b[1;33m]\u001b[0m\u001b[1;33m\u001b[0m\u001b[1;33m\u001b[0m\u001b[0m\n\u001b[0;32m     17\u001b[0m \u001b[1;31m# make the bar plot\u001b[0m\u001b[1;33m\u001b[0m\u001b[1;33m\u001b[0m\u001b[0m\n",
      "\u001b[1;31mNameError\u001b[0m: name 'df_plots' is not defined"
     ]
    },
    {
     "data": {
      "image/png": "[encoded data removed]",
      "text/plain": [
       "<Figure size 1440x720 with 4 Axes>"
      ]
     },
     "metadata": {
      "needs_background": "light"
     },
     "output_type": "display_data"
    }
   ],
   "source": [
    "#create a copy of the data frame for use with graphing\n",
    "\n",
    "\n",
    "\n",
    "# active members\n",
    "plt.rcParams['figure.figsize'] = (20, 10)\n",
    "# make subplots\n",
    "fig, axes = plt.subplots(nrows = 2, ncols = 2)\n",
    "\n",
    "# make the data read to feed into the visualizer\n",
    "X_Active = df_plots.groupby('IsActiveMember').size().reset_index(name='Counts')['IsActiveMember']\n",
    "Y_Active = df_plots.groupby('IsActiveMember').size().reset_index(name='Counts')['Counts']\n",
    "# make the bar plot\n",
    "axes[0,0].bar(X_Active, Y_Active)\n",
    "axes[0,0].set_title('Active', fontsize=20)\n",
    "axes[0,0].set_ylabel('Counts', fontsize=20)\n",
    "axes[0,0].tick_params(axis='both', labelsize=15)\n",
    "\n",
    "# gender\n",
    "# make the data read to feed into the visualizer\n",
    "X_Gender = df_plots.groupby('Gender').size().reset_index(name='Counts')['Gender']\n",
    "Y_Gender = df_plots.groupby('Gender').size().reset_index(name='Counts')['Counts']\n",
    "# make the bar plot\n",
    "axes[1,0].bar(X_Gender, Y_Gender)\n",
    "axes[1,0].set_title('Gender', fontsize=20)\n",
    "axes[1,0].set_ylabel('Counts', fontsize=20)\n",
    "axes[1,0].tick_params(axis='both', labelsize=15)\n",
    "\n",
    "# if they have a credit card\n",
    "# make the data read to feed into the visualizer\n",
    "X_CC = df_plots.groupby('CC').size().reset_index(name='Counts')['CC']\n",
    "Y_CC = df_plots.groupby('CC').size().reset_index(name='Counts')['Counts']\n",
    "# make the bar plot\n",
    "axes[0,1].bar(X_CC, Y_CC)\n",
    "axes[0,1].set_title('CC', fontsize=20)\n",
    "axes[0,1].set_ylabel('Counts', fontsize=20)\n",
    "axes[0,1].tick_params(axis='both', labelsize=15)\n",
    "\n",
    "# what country they live in\n",
    "# make the data read to feed into the visualizer\n",
    "X_geo = df_plots.groupby('Geography').size().reset_index(name='Counts')['Geography']\n",
    "Y_geo = df_plots.groupby('Geography').size().reset_index(name='Counts')['Counts']\n",
    "# make the bar plot\n",
    "axes[1,1].bar(X_geo, Y_geo)\n",
    "axes[1,1].set_title('Geography', fontsize=20)\n",
    "axes[1,1].set_ylabel('Counts', fontsize=20)\n",
    "axes[1,1].tick_params(axis='both', labelsize=15)"
   ]
  },
  {
   "cell_type": "code",
   "execution_count": null,
   "id": "99121a11",
   "metadata": {},
   "outputs": [],
   "source": []
  },
  {
   "cell_type": "code",
   "execution_count": null,
   "id": "2d656a6e",
   "metadata": {},
   "outputs": [],
   "source": [
    "# save the cleaned dataframe for use in modeling\n",
    "df.to_csv(r'C:\\Users\\milan\\Documents\\GitHub\\DSC-630-Project\\clean_df.csv')"
   ]
  }
 ],
 "metadata": {
  "kernelspec": {
   "display_name": "Python 3 (ipykernel)",
   "language": "python",
   "name": "python3"
  },
  "language_info": {
   "codemirror_mode": {
    "name": "ipython",
    "version": 3
   },
   "file_extension": ".py",
   "mimetype": "text/x-python",
   "name": "python",
   "nbconvert_exporter": "python",
   "pygments_lexer": "ipython3",
   "version": "3.9.7"
  }
 },
 "nbformat": 4,
 "nbformat_minor": 5
}
