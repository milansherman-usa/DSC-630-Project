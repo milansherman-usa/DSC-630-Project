{
 "cells": [
  {
   "cell_type": "markdown",
   "id": "e1af77f4",
   "metadata": {},
   "source": [
    "## Milestone 4\n",
    "### DSC 630\n",
    "### Phil Sang Han and Milan Sherman"
   ]
  },
  {
   "cell_type": "markdown",
   "id": "3747ae56",
   "metadata": {},
   "source": [
    "## Milestones 2 and 3"
   ]
  },
  {
   "cell_type": "markdown",
   "id": "a4fae2c5",
   "metadata": {},
   "source": [
    "## Milestone 2\n",
    "### What types of model or models do you plan to use and why?\n",
    "- As we are trying to predict a binary outcome, i.e. whether a user will purchase a life insurance policy, we will use a classification model.  We plan to use a logistic regression model as our baseline model, and to also develop a random forest classifier to see if we can improve upon the logistic regression model.  After assessing the accuracy of these models and gaining a better understanding of our data, we will discuss whether or not another model has the potential to improve accuracy over these two models, and which may be most promising.\n",
    "\n",
    "### How do you plan to evaluate your results?\n",
    "- Accuracy will be an important metric for any models we create, but given the current scale of users who are approved for a policy and the number of agents we have contacting them, we have more tolerance for a false positive than a false negative.  Currently, our agents have plenty of capacity for contacting users who have been approved, so we would rather err on the side of misidentifying a user as a good candidate to contact than to not contact a user who has been misclassified as not a good candidate.  Since we would like to minimize false negatives over false positive, i.e., we would like our model to be optimistic, an important metric for us to evaluate results will be recall.  Especially of our classes are imbalanced, this may be a more important metric than accuracy when comparing models.\n",
    "\n",
    "### What do you hope to learn?\n",
    "There are two questions that we hope to answer with this model:\n",
    "1.\tWho should we target with marketing?\n",
    "2.\tHow important is the difference between the quoted and approved premiums in influencing whether a user will buy a policy?\n",
    "- The purpose of this model is very specific: the users identified in this model have applied for a life insurance policy and been approved but have not bought a policy.  Given that only 30-40% of users who apply for a policy are approved, this is an important group of potential customers for the company to focus on as they’ve already cleared an important barrier to becoming a customer by getting approved.  This model will help the company understand who to target with marketing.  Currently the marketing action that the company is taking with these customers is to have an agent contact the user via phone to follow up and answer questions.  This model would allow agents to focus on users with a good chance of purchasing while at the same time not wasting time contacting users with a high probability of purchasing even if they are not contacted.  \n",
    "- The other thing that we hope to learn is related to how our software generates insurance premium quotes.  We have found that more than half of users are shown a higher premium after they are approved than what they saw when they generated an instant quote at the start of the process.  By including the difference between these two premiums as a feature in the model and understanding its importance to the accuracy of the model, the company can begin to quantify how this feature is impacting the business and take appropriate action.  For example, if the model shows that users who see a premium that is more than 50% higher at approval are much less likely to buy a policy, then the software can be configured to try to make those premiums closer in price.\n",
    "\n",
    "### Assess any risks with your proposal\n",
    "- The main risk with this proposal is that the results are inconclusive.  Care will need to be taken to identify the limits of what can be learned from the model, especially regarding the importance of the feature that quantifies the difference between the quoted and approved premiums.  For example, it could be the case that users who see a larger difference between the quoted and approved premiums are also the users who are seeing the highest premiums. Thus, it could be that the reason that they are not purchasing a policy is due to the price of the premium and not necessarily due to the difference between the two premiums.  Thus, we may need to build two models, one with and one without this feature in order to understand its importance.\n",
    "- Another risk we will need to monitor is whether our model tends to be biased toward a particular demographic.  At the core of our company’s mission is to provide affordable life insurance to people in traditionally marginalize demographics.  As life insurance has traditionally been agent driven, and agents work on commission, higher SES demographics have had greater access to life insurance.  We will want to monitor our results to see if our model replicates this bias.\n",
    "\n",
    "### Identify a contingency plan if your original project plan does not work out\n",
    "- We can certainly build a model using the features that we have identified, so in that sense we don’t believe that there is a scenario where it doesn’t work out.  What is in question is whether the model will be accurate enough to answer the questions we are asking.  Given that we are asking two questions with this project, if we end up with a model that is not accurate enough to deploy, we can focus on understanding the importance of the premium difference feature as it relates to users buying a policy or not.  Answering this question will provide insight regardless of what we find.\n",
    "\n",
    "### Data\n",
    "Below are the features in the dataset that Sherman has access to from the Data Science team at his company.  As we build our model, we will evaluate if any other features would be useful and/or if some of the features included can be eliminated in favor of a more parsimonious model.  There are a few features we will need to follow up on with the Data Science team to understand what they represent.\n",
    "- Total_seconds - the amount of time spent by the user on the site\n",
    "- Avg seconds per sessions - if the user had multiple sessions, this is average amount of time spent\n",
    "- Face value: the value of the policy if the insured dies\n",
    "- Income - of the user applying\n",
    "- Lrc_score - I think this is a measure of risk, where a high score means the user is less risky to insure and therefore will likely get a better price\n",
    "- Bmi - body mass index, uses height and weight to give a single number that is used to assess risk, i.e., someone with a high BMI is less healthy, higher risk\n",
    "- Open_to_submit_min: the number of minutes it took the user to complete and submit the application\n",
    "- Submit to approve min: the number of minutes it took for the application to get approved via the automated underwriting process\n",
    "- Pre-approval interactions: not sure about this exactly.  Bind means they bought a policy, so this is tracking what the user did before they were approved for a policy.  We need to check what kinds of interactions are tracked here.\n",
    "- Term length year: how many years the policy is for.  For example, if you buy a 20-year policy, the beneficiary only collects the face value of the policy if you die within 20 years\n",
    "- Age: age of the user\n",
    "- Post-approval pre-bind interactions: not sure, exactly.  Bind means they bought a policy, so this is tracking what the user did after they were approved for a policy but before they bought it. We need to check what kinds of interactions are tracked here.\n",
    "- Anonid_unique: unique identifier of the user\n",
    "- Sessions_uniq: number of unique sessions of the user\n",
    "- Gclid_count: not sure\n",
    "- Event total: total number of events that the user engaged in.  Events are things like visiting the site, getting a quote, completing the application, etc.\n",
    "- Total_seconds: not sure how this differs from the first feature\n",
    "- Gender: gender of user\n",
    "- Channel_combined: channel is what marketing channel the user came to the site from, but I’m not sure what channel_combined represents\n",
    "- Device: the device the session was completed on\n",
    "- Device name: name of device\n",
    "- Current ins; if the user currently has life insurance\n",
    "- Employment status: employed or not\n",
    "- Business line: we have four lines of business that users can purchase a policy through\n",
    "- Rx result: I think this is the result of the medical background check done during the automated underwriting process\n",
    "- Premium delta: difference in the premium that the user sees from the quote they got to the premium they see after they are approved.  \n",
    "\n",
    "\n",
    "\n",
    "\n",
    "## Milestone 3  \n",
    "\n",
    "### Will I be able to answer the questions I want to answer with the data I have?\n",
    "- We will definitely be able to build a classification model with this data to predict which users approved for a policy are likely to bind\n",
    "#### How does the premium change from quote to approved in this dataset?\n",
    "    - About 60% of users saw an increase in premium from quote to approved, which is premium difference (quote minus approved). \n",
    "    - On average, the raw difference was about $30 more at approved, or 56%\n",
    "    - These numbers are close to what Sherman observed in the larger dataset, indicating that this is a representative dataset with regard to the primary variable of interest.\n",
    "- What is the distribution of the raw difference and the percent difference?\n",
    "    - The distribution of the raw difference and the percent difference are both negatively skewed (skewed to the left).\n",
    "- What proportion of users see an increase?\n",
    "    - Based on our analysis, about 60% of users saw an increase in premium from quote to approved, which is premium difference (quote minus approved).\n",
    "\n",
    "- How is this variable related to other variables in the dataset, especially the target variable?\n",
    "    - When users shop for a long-term insurance, users are shown the quote. But after having their application approved for the same product and face value, a previous analysis showed that more than half the time, the premium the users ended up purchasing is higher than the one shown when they got a quote.  Thus, we are interested in finding out if this variable, premium difference (quote minus approved), is shown along with a quote, what impact it would have on the target variable (i.e. users’ purchasing decision).  Specifically, we’d like to learn more if our models show the ‘premium difference’ will lead users to more likely buy a premium or not.     \n",
    "\n",
    "- What visualizations are especially useful for explaining my data?\n",
    "    - We created a heatmap of a correlation matrix for our numerical features (shown below)\n",
    "    - This allowed us to identify:\n",
    "        - A feature with no variation (the white line though the middle of the heatmap). \n",
    "        - Perfectly or highly correlated features that are redundant and thus one of them can be removed\n",
    "        - These are discussed in greater detail in the next section\n",
    "    - Another useful visualization is a barplot of the distribution of the target variable, bind, which indicates whether a given user bound a policy or not.  This is important to understand as an imbalanced target would require that we make some adjustments prior to model building, such upsampling or downsampling.  The plot below show that more users did not bind, but that our target is not so imbalanced as to require some correction before modeling\n",
    "\n",
    " \n",
    "\n",
    "### Do I need to adjust the data and/or driving questions?\n",
    "- Our dataset consists of combining two data sources\n",
    "    - User (127k observations): A dataset of users who were approved for a life insurance product (this represents about 30-40% of users who apply).  Some of these users bought a policy (referred to as ‘binding’) and some did not.  Each observation includes a binary variable for bind, which is our target\n",
    "    - Quote (101k observations): The second dataset was generated by Sherman as part of an analysis he did that examines the premium that users are quoted when they first get to the site based on a few inputs: including gender, age, height, weight, and zip code, and the premium they are shown after being approved for the same product.  This dataset includes the premium at quote, the premium at approved, the raw difference, and the difference as a percent of the quoted premium.  The company is particularly interested in the importance of this difference in the model\n",
    "        - After the joining the dataset based on the unique identifier application id, we have a dataset of about 45k observations\n",
    "        - In analyzing the categorical variables, it was discovered that there are only 41.7k unique application ids in our dataset of 45k.  As application id is the unique identifier for our data, this implies that we have some duplicates, which we removed.  Unfortunately, this further reduces the amount of data we have to train our model on.\n",
    "\n",
    "#### This leads to the following question: will including the premium difference between the quoted and approved premiums improve our model more than including more observations?\n",
    "- A model could be built from the users dataset alone, which does not include that feature but would have three times as many observations.\n",
    "- To answer this question, we return to our driving questions:\n",
    "- Can we accurately predict whether a user who is approved for a policy will bind?  For this question it makes sense to create models using both datasets to see which data provides better predictions.\n",
    "- How does the difference between quoted and approved premiums influence users’ decision to bind or not?  One way to answer that question is to create models with and without this feature, and assess how the inclusion of this feature affects the models accuracy.  For this analysis, it makes sense to use the same dataset but with this feature removed, i.e. hold everything else constant to assess the importance of this feature.\n",
    "\n",
    "### Data Dictionary \n",
    "- After meeting with a member of the Data Science team this is the updated data dictionary\n",
    "#### From the user dataset\n",
    "    - application_id: categorical, unique identifier of the application\n",
    "    - bind_date: date, the date of when the applicant bound a policy (needs to be removed from model to avoid leakage)\n",
    "    - open_to_submit_min: integer, number of minutes to complete and submit the application\n",
    "    - submit_to_approve_min: integer, number of minutes for the application to get approved after it is submitted\n",
    "    - channel_combined: categorical, marketing channel(s) responsible for the application start \n",
    "    - business_line: categorical, direct, protect, core, advisors\n",
    "    - open_date: date, the date the application was started\n",
    "    - bind: binary, indicating if the applicant bound a policy (target variable)\n",
    "    - anonid_uniq: number of anonymous id's from segment\n",
    "    - sessions_uniq: number of unique sessions\n",
    "    - event_total: number of events\n",
    "    - session_pageload_total: number of session page loads\n",
    "    - url_uniq: number of unique url's accessed by the user\n",
    "    - total_seconds: how long on the web site\n",
    "    - device: device type, i.e., phone, tablet, desktop\n",
    "    - device_name: device type + OS\n",
    "    - avg_seconds_per_session: average time per session in second\n",
    "    - avg_events_per_session: average number of events per session\n",
    "    - event_len: average number of seconds per event\n",
    "    - gender: gender of applicant\n",
    "    - tb: binary, tobacco user or not\n",
    "    - current_ins: binary, does the applicant currently have life insurance\n",
    "    - rx_result: (remove)\n",
    "    - replacement_ins: binary, does the applicant currently have replacement insurance (what is replacement insurance?)\n",
    "    - legal_resident: resident or visa\n",
    "    - employment_status: 'fulltime', 'parttime', 'fulltime_student', 'retired','stay_at_home', 'parttime_student', 'unemployed'\n",
    "    - postal_code_address: zip code of home address\n",
    "     income_payment_period: how frequently the applicant gets paid\n",
    "     - designate_secondary_contact: no non-null values, so this can be removed\n",
    "     - alcohol_weekly: number of drinks per week as reported by the applicant\n",
    "     - disability_pmts: binary, does (or has?) the applicant receive(d) diability payments (history)\n",
    "     - term_length_years: length of term (this will likely be removed, but compare to term length from quote)\n",
    "     - household_income: reported household income (verify)\n",
    "     - lrc_score: brought in from vendor risk score from lexus nexes, mortality risk score. This generally highly correlated with being approved\n",
    "     - face_value: face value of the policy (this will likely be removed, but compare to face value from quote)\n",
    "     - previous_declined: binary, has the applicant been previously declined for life insurance\n",
    "     - travel_countries_count: number of countries the applicant has visited\n",
    "     - med_conditions_count: number of medical conditions the applicant has history\n",
    "     - bmi: body mass index of applicant\n",
    "     - age: age of applicant\n",
    "     - income: income of applicant\n",
    "     - annual_premium_estimated: the annual premium shown to the applicant after approval (this will likely be removed, but compare to premium from quote)\n",
    "     - income_comb: annual income\n",
    "     - income_prem_ratio: rato of income to premium (annual)\n",
    "\n",
    "#### From the quote dataset\n",
    "- created_at: when the application was started\n",
    "- business_line_y: business line, join on this\n",
    "- quote_id: quote id associated with the approved app\n",
    "- face_amount: face amount of the approved policy\n",
    "- product: procuct code, including term length\n",
    "- quoted_risk_class: the risk class that the applicant was put it at quote\n",
    "- approved_risk_class: the risk class the applicant was put it after approval\n",
    "- quoted_premium: the monthly premium shown at quote\n",
    "- approved_premium: the monthly premium shown after approval\n",
    "- premium_difference: the difference between the two premiums (quote - approved)\n",
    "- premium_pct_diff: the percent difference between the two premiums (quote - approved)/quote\n",
    "    \n",
    "#### After discussing with the data science team, the following fields can be removed\n",
    "- The following two field should be removed to avoid leakage, as these would only be known after the user binds\n",
    "    - post_bind_interactions\n",
    "    - total_interactions: sum of the previous three fields (including post bind interactions)\n",
    "- utm_source_len: not sure how the length of the various parts of the utm is relevant to predicting bind\n",
    "- utm_medium_len\n",
    "- utm_campaign_len\n",
    "- utm_term_len\n",
    "- referrer_host_len\n",
    "- record_created_at: when the data was pulled\n",
    "- mvr_points\n",
    "- mvr_order_status\n",
    "- zip_d1\n",
    "- income_grp_v1: binned income group: under 50k, 50k-100k, 100k+\n",
    "- income_grp_v2: binned income group; under 50k, 50k+\n",
    "\n",
    "### Data cleaning\n",
    "- We had significant work to do in understanding our dataset and cleaning it up\n",
    "- We started with over 70 features, so it was important that we understood each one, including missing values, distribution, correlation, etc. in order to get to a set of features that provides the most accurate model by selecting those features and combination of features that are most informative regarding whether or not an approved user will purchase a policy\n",
    "\n",
    "#### Data cleaning steps:\n",
    "- Verified how income to premium ratio is defined in the data, and used the approved premium from the quote dataset to compute it as the same variable in the user dataset had a many missing values\n",
    "- Removed estimated_premium\n",
    "- Compared other variables in both datasets: term length and face value.  Term length is how long the life insurance policy is good for, and the face value is the amount the policy pays if the insured dies.  After comparing these values in both datasets, we are retaining those from the quote dataset as the data science team believes that they are more accurate, and those variables had multiple missing values in the user dataset.\n",
    "- Removed term length and face value from the user dataset\n",
    "- Business line existed in both datasets and appeared to have 93% agreement\n",
    "    - Removed business line field from the user dataset\n",
    "- Removed fields gclid_count, customer_portal_loads until we can verify what they represent (Data Science did not know)\n",
    "- There were three fields that had user income data, two were removed after exploration\n",
    "- One income field from user had a large number of missing values and didn’t align with the other two\n",
    "- The other two income fields seemed to agree, but one of them had more missing values so it was removed\n",
    "- Three other variables (replacement_ins, travel_countries_count, legal_resident) had missing values for at least 80% of observations\n",
    "- None of these variables seemed to be very correlated with the target (based on distribution with respect to bind), and including variables with so many missing values could negatively impact the ability of the model to make accurate predictions on new data, so we removed them for now.\n",
    "- As a Random Forest model can deal better with missing values, we may include these features for that model\n",
    "- After creating a heatmap of correlations in the numerical features, a few features were found to be perfectly or highly correlated\n",
    "- Anonid_uniq was removed as there was no variation in this feature\n",
    "- event_total and event_len are perfectly correlated, so we removed event_len\n",
    "- total_seconds and avg_seconds_per_session are also highly correlated (0.86).  As the correlations of avg_seconds_per_session is closer to 0 for the variables in this group, we retained that variable\n",
    "- Approved_premium (monthly) and annual_approved_premium were also perfectly correlated.  We retained the annual version since other features in the set are annual\n",
    "- We created face amount to premium ratio, which represents the ‘value’ of a policy in the sense that it captures the value of the policy relative to what the insured pays for it\n",
    "\n",
    "### Do I need to adjust my model/evaluation choices?\n",
    "- I think a logistic regression model with regularization and a random forest model are still good choices to start with\n",
    "- Logistics regression with regularization will help us to further reduce the number of features by applying a penalty to those features that are redundant or noisy\n",
    "- Random Forest will allow for us to assess feature importance, which has important implications for both questions that we are asking:\n",
    "    - To accurately predict which users will bind, and therefore better target new users, we need to be able to identify the optimal feature set to optimize accuracy.  Knowing which features are most important will help with that process\n",
    "    - The other question we are asking is regarding the importance of the difference between the quoted and approved premiums in influencing whether a user binds.  Using Random Forest will allow us to assess the importance of this feature.\n",
    "\n"
   ]
  },
  {
   "cell_type": "markdown",
   "id": "841a4b1a",
   "metadata": {},
   "source": [
    "## Milestone 4"
   ]
  },
  {
   "cell_type": "markdown",
   "id": "7cffbd7c",
   "metadata": {},
   "source": [
    "We built multiple models with varying degrees of accuracy, and then combined them into an ensemble model.  Below we create and evaluate the four models that we used in the ensemble model, and then create and evaluate the ensemble model.\n",
    "- Note that we have separate files for each of the models that includes feature exploration and selection, hyperparameter tuning, and model evaluation.  Here we only include the final models that we are using in the ensemble model."
   ]
  },
  {
   "cell_type": "code",
   "execution_count": null,
   "id": "51104ece",
   "metadata": {},
   "outputs": [],
   "source": [
    "import warnings\n",
    "warnings.filterwarnings(\"ignore\")"
   ]
  },
  {
   "cell_type": "code",
   "execution_count": null,
   "id": "4ec1b308",
   "metadata": {},
   "outputs": [],
   "source": [
    "import pandas as pd\n",
    "\n",
    "# note: dummy variables were already created and saved to this dataset\n",
    "df = pd.read_csv('clean_df.csv')\n",
    "df.drop(df.columns[[0]],axis=1,inplace=True)\n",
    "df.head()"
   ]
  },
  {
   "cell_type": "code",
   "execution_count": null,
   "id": "bf88476a",
   "metadata": {},
   "outputs": [],
   "source": [
    "'''\n",
    "df = df.dropna()\n",
    "df = df.drop(columns = 'application_id')\n",
    "df.drop(df.columns[[0]],axis=1,inplace=True)\n",
    "df.shape\n",
    "'''"
   ]
  },
  {
   "cell_type": "code",
   "execution_count": null,
   "id": "eaf91a93",
   "metadata": {},
   "outputs": [],
   "source": [
    "from sklearn.model_selection import train_test_split\n",
    "import numpy as np\n",
    "\n",
    "np.random.seed(0)\n",
    "\n",
    "train, test = train_test_split(df, test_size = 0.2)\n",
    "train.head()"
   ]
  },
  {
   "cell_type": "code",
   "execution_count": null,
   "id": "2a248cc5",
   "metadata": {},
   "outputs": [],
   "source": [
    "features = train.drop('bind', axis=1)\n",
    "target = train['bind']\n",
    "test_features = test.drop('bind', axis=1)\n",
    "test_target = test['bind']"
   ]
  },
  {
   "cell_type": "markdown",
   "id": "f2cdb3f1",
   "metadata": {},
   "source": [
    "### Logistic Regression Model"
   ]
  },
  {
   "cell_type": "code",
   "execution_count": 6,
   "id": "ed04b84a",
   "metadata": {},
   "outputs": [
    {
     "data": {
      "text/plain": [
       "0.8211880711880711"
      ]
     },
     "execution_count": 6,
     "metadata": {},
     "output_type": "execute_result"
    }
   ],
   "source": [
    "from sklearn.preprocessing import MinMaxScaler\n",
    "from sklearn.linear_model import LogisticRegression\n",
    "from sklearn.metrics import accuracy_score\n",
    "from sklearn.pipeline import Pipeline, FeatureUnion\n",
    "\n",
    "pipe = Pipeline([(\"standardizer\", MinMaxScaler()), (\"classifier\", LogisticRegression(solver = 'liblinear'))])\n",
    "pipe.fit(features, target)\n",
    "logit_preds = pipe.predict(test_features)\n",
    "accuracy_score(logit_preds, test_target)"
   ]
  },
  {
   "cell_type": "code",
   "execution_count": 7,
   "id": "5c6f679a",
   "metadata": {},
   "outputs": [
    {
     "name": "stdout",
     "output_type": "stream",
     "text": [
      "              precision    recall  f1-score   support\n",
      "\n",
      "           0       0.82      0.88      0.85      4890\n",
      "           1       0.82      0.73      0.77      3426\n",
      "\n",
      "    accuracy                           0.82      8316\n",
      "   macro avg       0.82      0.81      0.81      8316\n",
      "weighted avg       0.82      0.82      0.82      8316\n",
      "\n"
     ]
    }
   ],
   "source": [
    "from sklearn.metrics import classification_report\n",
    "print(classification_report(test_target, logit_preds))"
   ]
  },
  {
   "cell_type": "markdown",
   "id": "597927a6",
   "metadata": {},
   "source": [
    "### K-Nearest Neighbors"
   ]
  },
  {
   "cell_type": "code",
   "execution_count": 8,
   "id": "00248ade",
   "metadata": {},
   "outputs": [
    {
     "data": {
      "text/plain": [
       "0.6667869167869168"
      ]
     },
     "execution_count": 8,
     "metadata": {},
     "output_type": "execute_result"
    }
   ],
   "source": [
    "from sklearn.neighbors import KNeighborsClassifier\n",
    "\n",
    "pipe = Pipeline([(\"standardizer\", MinMaxScaler()), (\"classifier\", KNeighborsClassifier(n_neighbors=11))])\n",
    "pipe.fit(features, target)\n",
    "knn_preds = pipe.predict(test_features)\n",
    "accuracy_score(knn_preds, test_target)"
   ]
  },
  {
   "cell_type": "code",
   "execution_count": 9,
   "id": "561aea6d",
   "metadata": {},
   "outputs": [
    {
     "name": "stdout",
     "output_type": "stream",
     "text": [
      "              precision    recall  f1-score   support\n",
      "\n",
      "           0       0.69      0.77      0.73      4890\n",
      "           1       0.61      0.51      0.56      3426\n",
      "\n",
      "    accuracy                           0.67      8316\n",
      "   macro avg       0.65      0.64      0.65      8316\n",
      "weighted avg       0.66      0.67      0.66      8316\n",
      "\n"
     ]
    }
   ],
   "source": [
    "from sklearn.metrics import classification_report\n",
    "print(classification_report(test_target, knn_preds))"
   ]
  },
  {
   "cell_type": "markdown",
   "id": "1be2b3cf",
   "metadata": {},
   "source": [
    "### Neural Network Model"
   ]
  },
  {
   "cell_type": "code",
   "execution_count": 10,
   "id": "5025d785",
   "metadata": {},
   "outputs": [],
   "source": [
    "from sklearn.preprocessing import StandardScaler\n",
    "\n",
    "scaler = StandardScaler()\n",
    "scaled_features = scaler.fit_transform(features)\n",
    "test_features_scaled = scaler.transform(test_features)"
   ]
  },
  {
   "cell_type": "code",
   "execution_count": 11,
   "id": "ae47fa3d",
   "metadata": {},
   "outputs": [
    {
     "name": "stderr",
     "output_type": "stream",
     "text": [
      "2022-10-30 16:56:33.760651: I tensorflow/core/platform/cpu_feature_guard.cc:193] This TensorFlow binary is optimized with oneAPI Deep Neural Network Library (oneDNN) to use the following CPU instructions in performance-critical operations:  SSE4.1 SSE4.2\n",
      "To enable them in other operations, rebuild TensorFlow with the appropriate compiler flags.\n"
     ]
    }
   ],
   "source": [
    "from keras import models\n",
    "from keras import layers\n",
    "\n",
    "np.random.seed(0)\n",
    "\n",
    "network = models.Sequential()\n",
    "network.add(layers.Dense(units=32, \n",
    "                         activation='relu', \n",
    "                         input_shape=(scaled_features.shape[1],)))\n",
    "network.add(layers.Dense(units=32, activation='relu'))\n",
    "network.add(layers.Dense(units=1))"
   ]
  },
  {
   "cell_type": "code",
   "execution_count": 12,
   "id": "fa6de466",
   "metadata": {},
   "outputs": [],
   "source": [
    "network.compile(loss='binary_crossentropy',\n",
    "               optimizer='RMSprop',\n",
    "               metrics=[\"accuracy\"])"
   ]
  },
  {
   "cell_type": "code",
   "execution_count": 13,
   "id": "d4892888",
   "metadata": {},
   "outputs": [],
   "source": [
    "history = network.fit(scaled_features,\n",
    "                     target, \n",
    "                     epochs=10,\n",
    "                     verbose=0, \n",
    "                     batch_size=100,\n",
    "                     validation_data=(test_features_scaled, test_target))"
   ]
  },
  {
   "cell_type": "code",
   "execution_count": 14,
   "id": "f85f9d82",
   "metadata": {},
   "outputs": [
    {
     "data": {
      "text/plain": [
       "[0.6940368413925171, 0.8134920597076416]"
      ]
     },
     "execution_count": 14,
     "metadata": {},
     "output_type": "execute_result"
    }
   ],
   "source": [
    "acc = network.evaluate(test_features_scaled, test_target, verbose=0)\n",
    "acc"
   ]
  },
  {
   "cell_type": "code",
   "execution_count": 15,
   "id": "037e7aaa",
   "metadata": {},
   "outputs": [],
   "source": [
    "import numpy as np\n",
    "import matplotlib.pyplot as plt"
   ]
  },
  {
   "cell_type": "code",
   "execution_count": 16,
   "id": "b88b3906",
   "metadata": {},
   "outputs": [],
   "source": [
    "training_accuracy = history.history['accuracy']\n",
    "test_accuracy = history.history['val_accuracy']\n",
    "\n",
    "epoch_count = range(1, len(training_accuracy) + 1)"
   ]
  },
  {
   "cell_type": "code",
   "execution_count": 17,
   "id": "af609306",
   "metadata": {},
   "outputs": [
    {
     "data": {
      "image/png": "[encoded data removed]",
      "text/plain": [
       "<Figure size 640x480 with 1 Axes>"
      ]
     },
     "metadata": {},
     "output_type": "display_data"
    }
   ],
   "source": [
    "plt.plot(epoch_count, training_accuracy, \"r--\")\n",
    "plt.plot(epoch_count, test_accuracy, \"b--\")\n",
    "plt.legend([\"Training Accuracy\", \"Test Accuracy\"])\n",
    "plt.xlabel(\"Epoch\")\n",
    "plt.ylabel(\"Accuracy\")\n",
    "plt.show()"
   ]
  },
  {
   "cell_type": "markdown",
   "id": "abcf1a91",
   "metadata": {},
   "source": [
    "### Random Forest"
   ]
  },
  {
   "cell_type": "code",
   "execution_count": null,
   "id": "d9c314d9",
   "metadata": {},
   "outputs": [],
   "source": [
    "from sklearn.ensemble import RandomForestClassifier\n",
    "from sklearn import metrics\n",
    "from sklearn.metrics import accuracy_score, confusion_matrix, classification_report\n",
    "from sklearn.inspection import permutation_importance"
   ]
  },
  {
   "cell_type": "markdown",
   "id": "e2ddcfe0",
   "metadata": {},
   "source": [
    "#### Not sure what I'm doing wrong here.  Below I re-ran the grid search for RF, and used the parameters for the best estimator to run the model below.  But my accuracy comes out to be 65% vs. the 89% shown for the RF_gs model.  I wonder if they're the same model, and if not, how we can extract the model that is used by RF_gs?"
   ]
  },
  {
   "cell_type": "code",
   "execution_count": 19,
   "id": "de289d44",
   "metadata": {},
   "outputs": [
    {
     "data": {
      "text/plain": [
       "'\\npipe = Pipeline([(\"standardizer\", StandardScaler()), (\"classifier\", RandomForestClassifier(class_weight={0: 1, 1: 5}, max_depth=50,\\n                                        min_samples_leaf=3,\\n                                        n_estimators=140))])\\npipe.fit(features, target)\\nrf_preds = pipe.predict(test_features)\\naccuracy_score(rf_preds, test_target)\\n'"
      ]
     },
     "execution_count": 19,
     "metadata": {},
     "output_type": "execute_result"
    }
   ],
   "source": [
    "'''\n",
    "pipe = Pipeline([(\"standardizer\", StandardScaler()), (\"classifier\", RandomForestClassifier(class_weight={0: 1, 1: 5}, max_depth=50,\n",
    "                                        min_samples_leaf=3,\n",
    "                                        n_estimators=140))])\n",
    "pipe.fit(features, target)\n",
    "rf_preds = pipe.predict(test_features)\n",
    "accuracy_score(rf_preds, test_target)\n",
    "'''\n"
   ]
  },
  {
   "cell_type": "code",
   "execution_count": 20,
   "id": "3dceab9c",
   "metadata": {},
   "outputs": [
    {
     "data": {
      "text/plain": [
       "'\\n# Instantiate a random forest model with 1000 decision trees\\nrf = RandomForestClassifier(RandomForestClassifier(class_weight={0: 1, 1: 5}, max_depth=3,\\n                                        min_samples_leaf=3,\\n                                        n_estimators=1000))\\n\\n# Train the model on training data\\nrf.fit(features, target);\\n'"
      ]
     },
     "execution_count": 20,
     "metadata": {},
     "output_type": "execute_result"
    }
   ],
   "source": [
    "'''\n",
    "# Instantiate a random forest model with 1000 decision trees\n",
    "rf = RandomForestClassifier(RandomForestClassifier(class_weight={0: 1, 1: 5}, max_depth=3,\n",
    "                                        min_samples_leaf=3,\n",
    "                                        n_estimators=1000))\n",
    "\n",
    "# Train the model on training data\n",
    "rf.fit(features, target);\n",
    "'''"
   ]
  },
  {
   "cell_type": "code",
   "execution_count": 21,
   "id": "2169e6fd",
   "metadata": {},
   "outputs": [],
   "source": [
    "# Instantiate a random forest model with 1000 decision trees\n",
    "rf = RandomForestClassifier(n_estimators=1000, min_samples_leaf=1, min_samples_split=2, random_state=42)\n",
    "                                        \n",
    "\n",
    "# Train the model on training data\n",
    "rf.fit(features, target);"
   ]
  },
  {
   "cell_type": "code",
   "execution_count": 22,
   "id": "b069ccbf",
   "metadata": {},
   "outputs": [],
   "source": [
    "# Use the forest's predict method on the test data\n",
    "y_pred_rf = rf.predict(test_features)"
   ]
  },
  {
   "cell_type": "code",
   "execution_count": 23,
   "id": "fdabfec5",
   "metadata": {},
   "outputs": [
    {
     "name": "stdout",
     "output_type": "stream",
     "text": [
      "              precision    recall  f1-score   support\n",
      "\n",
      "           0       0.83      0.90      0.87      4890\n",
      "           1       0.84      0.74      0.79      3426\n",
      "\n",
      "    accuracy                           0.84      8316\n",
      "   macro avg       0.84      0.82      0.83      8316\n",
      "weighted avg       0.84      0.84      0.83      8316\n",
      "\n"
     ]
    }
   ],
   "source": [
    "print(classification_report(test_target, y_pred_rf))"
   ]
  },
  {
   "cell_type": "code",
   "execution_count": 24,
   "id": "eebcf243",
   "metadata": {},
   "outputs": [],
   "source": [
    "# Create pipeline\n",
    "pipe = Pipeline([\n",
    "    ('scaler', StandardScaler()),\n",
    "    ('rf', RandomForestClassifier())\n",
    "])"
   ]
  },
  {
   "cell_type": "code",
   "execution_count": 25,
   "id": "0ff200a3",
   "metadata": {},
   "outputs": [],
   "source": [
    "# Set Parameters\n",
    "params = {\n",
    "    'rf__n_estimators': [120, 140],\n",
    "    'rf__max_depth': [30, 50],\n",
    "    'rf__min_samples_split': [2,3],\n",
    "    'rf__min_samples_leaf': [3,5],\n",
    "    'rf__class_weight': [{0: 1, 1: 1}, {0: 1, 1:5},{0:1,1:3}, 'balanced']\n",
    "    \n",
    "}"
   ]
  },
  {
   "cell_type": "code",
   "execution_count": 26,
   "id": "bed475b7",
   "metadata": {},
   "outputs": [
    {
     "data": {
      "text/plain": [
       "GridSearchCV(cv=3,\n",
       "             estimator=Pipeline(steps=[('scaler', StandardScaler()),\n",
       "                                       ('rf', RandomForestClassifier())]),\n",
       "             param_grid={'rf__class_weight': [{0: 1, 1: 1}, {0: 1, 1: 5},\n",
       "                                              {0: 1, 1: 3}, 'balanced'],\n",
       "                         'rf__max_depth': [30, 50],\n",
       "                         'rf__min_samples_leaf': [3, 5],\n",
       "                         'rf__min_samples_split': [2, 3],\n",
       "                         'rf__n_estimators': [120, 140]},\n",
       "             scoring='roc_auc')"
      ]
     },
     "execution_count": 26,
     "metadata": {},
     "output_type": "execute_result"
    }
   ],
   "source": [
    "# GridSearch, Fit, Score\n",
    "from sklearn.model_selection import GridSearchCV, TimeSeriesSplit, train_test_split\n",
    "RF_gs = GridSearchCV(pipe, param_grid=params ,scoring = 'roc_auc', cv = 3)\n",
    "RF_gs.fit(features, target)"
   ]
  },
  {
   "cell_type": "code",
   "execution_count": 27,
   "id": "c3ff528a",
   "metadata": {},
   "outputs": [
    {
     "data": {
      "text/plain": [
       "Pipeline(steps=[('scaler', StandardScaler()),\n",
       "                ('rf',\n",
       "                 RandomForestClassifier(class_weight={0: 1, 1: 5}, max_depth=50,\n",
       "                                        min_samples_leaf=3,\n",
       "                                        n_estimators=140))])"
      ]
     },
     "execution_count": 27,
     "metadata": {},
     "output_type": "execute_result"
    }
   ],
   "source": [
    "RF_gs.best_estimator_"
   ]
  },
  {
   "cell_type": "code",
   "execution_count": 28,
   "id": "59e73070",
   "metadata": {},
   "outputs": [
    {
     "data": {
      "text/plain": [
       "0.9457380530179763"
      ]
     },
     "execution_count": 28,
     "metadata": {},
     "output_type": "execute_result"
    }
   ],
   "source": [
    "# Train Accuracy Score\n",
    "RF_gs.score(features, target)"
   ]
  },
  {
   "cell_type": "code",
   "execution_count": 29,
   "id": "58f1076f",
   "metadata": {},
   "outputs": [
    {
     "data": {
      "text/plain": [
       "0.8939025161850257"
      ]
     },
     "execution_count": 29,
     "metadata": {},
     "output_type": "execute_result"
    }
   ],
   "source": [
    "# Test Accuracy Score\n",
    "RF_gs.score(test_features, test_target)"
   ]
  },
  {
   "cell_type": "markdown",
   "id": "18e32b1c",
   "metadata": {},
   "source": [
    "### Decision Tree Classifier"
   ]
  },
  {
   "cell_type": "code",
   "execution_count": 30,
   "id": "cc2d141e",
   "metadata": {},
   "outputs": [],
   "source": [
    "# Import the Decision Tree classifier\n",
    "from sklearn.tree import DecisionTreeClassifier\n",
    "\n",
    "# Create Decision Tree classifier object\n",
    "clf = DecisionTreeClassifier(criterion=\"entropy\", max_depth=3) \n",
    "\n",
    "# Train Decision Tree Classifier\n",
    "clf = clf.fit(features, target)\n",
    "\n",
    "# Predict the response for test dataset\n",
    "y_pred = clf.predict(test_features)"
   ]
  },
  {
   "cell_type": "code",
   "execution_count": 31,
   "id": "0d518618",
   "metadata": {},
   "outputs": [
    {
     "name": "stdout",
     "output_type": "stream",
     "text": [
      "Accuracy 0.7825877825877826\n"
     ]
    }
   ],
   "source": [
    "# Model Accuracy, how often is the classifier correct?\n",
    "print(\"Accuracy\", accuracy_score(test_target, y_pred))"
   ]
  },
  {
   "cell_type": "code",
   "execution_count": 32,
   "id": "8649faf8",
   "metadata": {},
   "outputs": [
    {
     "name": "stdout",
     "output_type": "stream",
     "text": [
      "              precision    recall  f1-score   support\n",
      "\n",
      "           0       0.75      0.93      0.83      4890\n",
      "           1       0.86      0.57      0.68      3426\n",
      "\n",
      "    accuracy                           0.78      8316\n",
      "   macro avg       0.81      0.75      0.76      8316\n",
      "weighted avg       0.80      0.78      0.77      8316\n",
      "\n"
     ]
    }
   ],
   "source": [
    "print(classification_report(test_target, y_pred))"
   ]
  },
  {
   "cell_type": "markdown",
   "id": "dc70fba3",
   "metadata": {},
   "source": [
    "### Understanding the importance of Premium Difference\n",
    "A primary goal of this analysis was to understand how the difference in premiums affects users in terms of whether or not they purchase a policy.  Below we examine the importance of this feature from a number of perspectives."
   ]
  },
  {
   "cell_type": "markdown",
   "id": "440cf325",
   "metadata": {},
   "source": [
    "### Visualizing decision tree\n",
    "We begin by looking at the importance of the premium difference features (raw and percent difference) in the decision tree model."
   ]
  },
  {
   "cell_type": "code",
   "execution_count": 33,
   "id": "c55127b6",
   "metadata": {},
   "outputs": [
    {
     "data": {
      "text/plain": [
       "'bind'"
      ]
     },
     "execution_count": 33,
     "metadata": {},
     "output_type": "execute_result"
    }
   ],
   "source": [
    "train.columns[3]"
   ]
  },
  {
   "cell_type": "code",
   "execution_count": 34,
   "id": "cbaa2029",
   "metadata": {},
   "outputs": [
    {
     "data": {
      "image/png": "[encoded data removed]",
      "text/plain": [
       "<IPython.core.display.Image object>"
      ]
     },
     "execution_count": 34,
     "metadata": {},
     "output_type": "execute_result"
    }
   ],
   "source": [
    "from sklearn import tree\n",
    "import pydotplus\n",
    "from IPython.display import Image\n",
    "\n",
    "dot_data = tree.export_graphviz(clf,\n",
    "                               out_file=None,\n",
    "                               feature_names=features.columns,\n",
    "                               class_names=train.columns[3])\n",
    "\n",
    "graph = pydotplus.graph_from_dot_data(dot_data)\n",
    "Image(graph.create_png())"
   ]
  },
  {
   "cell_type": "code",
   "execution_count": 35,
   "id": "c2cc2e56",
   "metadata": {},
   "outputs": [
    {
     "ename": "SyntaxError",
     "evalue": "invalid syntax (2274580024.py, line 2)",
     "output_type": "error",
     "traceback": [
      "\u001b[0;36m  Input \u001b[0;32mIn [35]\u001b[0;36m\u001b[0m\n\u001b[0;31m    pip install dtreeviz\u001b[0m\n\u001b[0m        ^\u001b[0m\n\u001b[0;31mSyntaxError\u001b[0m\u001b[0;31m:\u001b[0m invalid syntax\n"
     ]
    }
   ],
   "source": [
    "# we can remove this for the final submission, but I left it in so you could install if you haven't already\n",
    "pip install dtreeviz"
   ]
  },
  {
   "cell_type": "markdown",
   "id": "c2c25d2c",
   "metadata": {},
   "source": [
    "I need to figure out how to include the feature names.  All the examples that I've seen use something 'iris.feature_name' or 'boston.feature_names' without any explanation of where that comes from."
   ]
  },
  {
   "cell_type": "code",
   "execution_count": null,
   "id": "6737d04b",
   "metadata": {},
   "outputs": [],
   "source": [
    "from dtreeviz.trees import *\n",
    "\n",
    "viz = dtreeviz(clf, \n",
    "x_data=features, \n",
    "y_data=target,\n",
    "target_name='bind',\n",
    "title=\"Decision Tree - Propensity to Bind\")\n",
    "\n",
    "viz"
   ]
  },
  {
   "cell_type": "markdown",
   "id": "5aac3d27",
   "metadata": {},
   "source": [
    "### Recursive Feature Extraction\n",
    "We used this technique to determine where the premium difference features are in terms of most important features"
   ]
  },
  {
   "cell_type": "markdown",
   "id": "338d85b1",
   "metadata": {},
   "source": [
    "To identify important features, we work with the data prior to creating dummy variables.  Based on our research, the importance of the features generally aligns across models, so we use a tree classifier for the purpose of identifying important features."
   ]
  },
  {
   "cell_type": "code",
   "execution_count": null,
   "id": "1464614f",
   "metadata": {},
   "outputs": [],
   "source": [
    "import pandas as pd\n",
    "df = pd.read_csv(r'C:\\Users\\milan\\Documents\\GitHub\\DSC-630-Project\\clean_df.csv')\n",
    "df = df.dropna()\n",
    "df = df.drop(columns = 'application_id')\n",
    "df.drop(df.columns[[0]],axis=1,inplace=True)\n",
    "df.shape"
   ]
  },
  {
   "cell_type": "code",
   "execution_count": null,
   "id": "1d0beffd",
   "metadata": {},
   "outputs": [],
   "source": [
    "# Label encode categorical features\n",
    "import pandas as pd\n",
    "from sklearn.preprocessing import LabelEncoder\n",
    "\n",
    "#Create the function to fit and transform the label encoder\n",
    "def label_encode_columns(df, columns):\n",
    "    for col in columns:\n",
    "        le = LabelEncoder().fit(df[col])\n",
    "        df[col] = le.transform(df[col])\n",
    "    return df"
   ]
  },
  {
   "cell_type": "code",
   "execution_count": null,
   "id": "67461b2a",
   "metadata": {},
   "outputs": [],
   "source": [
    "encode_columns = [ 'channel_combined', 'device', 'device_name', 'open_date',\n",
    "       'gender', 'current_ins', 'rx_result', 'employment_status', 'postal_code_address',\n",
    "       'income_payment_period', 'business_line', 'product',\n",
    "       'quoted_risk_class', 'approved_risk_class']"
   ]
  },
  {
   "cell_type": "markdown",
   "id": "a3e42eed",
   "metadata": {},
   "source": [
    "Split the data"
   ]
  },
  {
   "cell_type": "code",
   "execution_count": null,
   "id": "acca6ece",
   "metadata": {},
   "outputs": [],
   "source": [
    "from sklearn.model_selection import train_test_split\n",
    "import numpy as np\n",
    "\n",
    "np.random.seed(0)\n",
    "\n",
    "train, test = train_test_split(df, test_size = 0.2)"
   ]
  },
  {
   "cell_type": "markdown",
   "id": "791d17ee",
   "metadata": {},
   "source": [
    "Apply the label encoder to the non-numerical features in the training data"
   ]
  },
  {
   "cell_type": "code",
   "execution_count": null,
   "id": "8c84e64e",
   "metadata": {},
   "outputs": [],
   "source": [
    "train = label_encode_columns(df = train, columns = encode_columns)"
   ]
  },
  {
   "cell_type": "code",
   "execution_count": null,
   "id": "792cbebd",
   "metadata": {},
   "outputs": [],
   "source": [
    "features = train.drop('bind', axis=1)\n",
    "target = train['bind']\n",
    "test_features = test.drop('bind', axis=1)\n",
    "test_target = test['bind']"
   ]
  },
  {
   "cell_type": "code",
   "execution_count": null,
   "id": "5699ade6",
   "metadata": {},
   "outputs": [],
   "source": [
    "# select the top 7 features from the Decision Tree model\n",
    "from sklearn.feature_selection import RFE\n",
    "rfe = RFE(estimator = DecisionTreeClassifier(), n_features_to_select = 7)\n",
    "rfe.fit(features, target)\n",
    "\n",
    "for i in range(features.shape[1]):\n",
    "    if rfe.support_[i] == True:\n",
    "        print(features.columns[i])"
   ]
  },
  {
   "cell_type": "code",
   "execution_count": null,
   "id": "5ad18144",
   "metadata": {},
   "outputs": [],
   "source": [
    "# select the top 7 features from the Random Forest model\n",
    "from sklearn.feature_selection import RFE\n",
    "rfe = RFE(estimator = RandomForestClassifier(), n_features_to_select = 8)\n",
    "rfe.fit(features, target)\n",
    "\n",
    "for i in range(features.shape[1]):\n",
    "    if rfe.support_[i] == True:\n",
    "        print(features.columns[i])"
   ]
  },
  {
   "cell_type": "markdown",
   "id": "f4a240ee",
   "metadata": {},
   "source": [
    "The premium percent difference feature appears when we select the number of features to be seven, but not when we choose six, so it is the seventh most important feature in the dataset.  The same feature only appears from the Random Forest Model, when we select the number of features to be eight."
   ]
  },
  {
   "cell_type": "markdown",
   "id": "cd941c27",
   "metadata": {},
   "source": [
    "### NOTE: I also want to include feature importance from the RF model once we figure out the above issue with running a single RF model with the best parameters."
   ]
  },
  {
   "cell_type": "markdown",
   "id": "c91a6c4f",
   "metadata": {},
   "source": [
    "## Re-Note: I included a feature importance from the RF model right below the feature importance from the DT model (see above)"
   ]
  },
  {
   "cell_type": "markdown",
   "id": "cc42cf46",
   "metadata": {},
   "source": [
    "## Ensemble Model"
   ]
  },
  {
   "cell_type": "code",
   "execution_count": 57,
   "id": "2ec97e9a",
   "metadata": {},
   "outputs": [],
   "source": [
    "# Import libraries for the ensemble model\n",
    "from sklearn.svm import SVR\n",
    "from sklearn.ensemble import StackingClassifier"
   ]
  },
  {
   "cell_type": "code",
   "execution_count": 58,
   "id": "a62614b7",
   "metadata": {},
   "outputs": [],
   "source": [
    "from sklearn.model_selection import train_test_split\n",
    "\n",
    "# Split the features and target\n",
    "X = df.drop(['bind'], axis=1)\n",
    "\n",
    "# One-hot encode the data using pandas get_dummies\n",
    "#X = pd.get_dummies(X) \n",
    "\n",
    "y = df['bind']\n",
    "\n",
    "X_train, X_test, y_train, y_test = train_test_split(X, y, test_size = 0.2, stratify=y)"
   ]
  },
  {
   "cell_type": "code",
   "execution_count": 59,
   "id": "d1282577",
   "metadata": {},
   "outputs": [],
   "source": [
    "# Define a neural network model (NN) and make the NN model a classifier\n",
    "\n",
    "# Import the Keras Classifier library\n",
    "from tensorflow import keras\n",
    "from keras import layers\n",
    "from keras.models import Sequential\n",
    "from tensorflow.keras.layers import Dense\n",
    "from tensorflow.keras.wrappers.scikit_learn import KerasClassifier\n",
    "from sklearn.neural_network import MLPClassifier\n",
    "from sklearn.datasets import make_classification\n",
    "from sklearn.preprocessing import minmax_scale\n",
    "from mlxtend.classifier import EnsembleVoteClassifier\n",
    "from scikeras.wrappers import KerasClassifier"
   ]
  },
  {
   "cell_type": "code",
   "execution_count": 60,
   "id": "24c589a5",
   "metadata": {},
   "outputs": [
    {
     "name": "stdout",
     "output_type": "stream",
     "text": [
      "(100, 20) (100,)\n"
     ]
    }
   ],
   "source": [
    "X,y = make_classification()\n",
    "print(X.shape, y.shape)\n"
   ]
  },
  {
   "cell_type": "code",
   "execution_count": 61,
   "id": "192ee56f",
   "metadata": {},
   "outputs": [],
   "source": [
    "# Scale the variable X for better accuracy\n",
    "X_scaled = minmax_scale(X)"
   ]
  },
  {
   "cell_type": "code",
   "execution_count": 62,
   "id": "b3b5ce80",
   "metadata": {},
   "outputs": [],
   "source": [
    "# Function to create the KerasClassifier model\n",
    "def create_model():\n",
    "    # create model\n",
    "    model = Sequential()\n",
    "    model.add(Dense(32, input_dim=8, activation='relu'))\n",
    "    model.add(Dense(32, activation='relu'))\n",
    "    model.add(Dense(1, activation='sigmoid'))\n",
    "    # Compile model\n",
    "    model.compile(loss='binary_crossentropy', \n",
    "                  optimizer='RMSprop', \n",
    "                  metrics=['accuracy'])\n",
    "    return model\n",
    "\n",
    "# Define a NN model and make the NN model into a classifier\n",
    "NN_clf = KerasClassifier(build_fn = create_model, epochs=10,\n",
    "                     verbose=0, \n",
    "                     batch_size=100)\n",
    "\n",
    "NN_clf._estimator_type = \"classifier\""
   ]
  },
  {
   "cell_type": "code",
   "execution_count": 63,
   "id": "244fea0b",
   "metadata": {},
   "outputs": [],
   "source": [
    "# Import the libraries to evaluate the NN Model\n",
    "from sklearn.model_selection import StratifiedKFold\n",
    "from sklearn.model_selection import cross_val_score\n",
    "\n",
    "num_folds = 10\n",
    "kfold = StratifiedKFold(n_splits=num_folds, \n",
    "                        shuffle=True)"
   ]
  },
  {
   "cell_type": "code",
   "execution_count": 64,
   "id": "57e5ae9d",
   "metadata": {},
   "outputs": [
    {
     "name": "stderr",
     "output_type": "stream",
     "text": [
      "[Parallel(n_jobs=1)]: Using backend SequentialBackend with 1 concurrent workers.\n",
      "[Parallel(n_jobs=1)]: Done   1 out of   1 | elapsed:    0.1s remaining:    0.0s\n"
     ]
    },
    {
     "name": "stdout",
     "output_type": "stream",
     "text": [
      "[CV] END .................................................... total time=   0.1s\n",
      "[CV] END .................................................... total time=   0.0s\n",
      "[CV] END .................................................... total time=   0.0s\n",
      "[CV] END .................................................... total time=   0.0s\n",
      "[CV] END .................................................... total time=   0.0s\n",
      "[CV] END .................................................... total time=   0.0s\n",
      "[CV] END .................................................... total time=   0.0s\n",
      "[CV] END .................................................... total time=   0.0s\n",
      "[CV] END .................................................... total time=   0.0s\n",
      "[CV] END .................................................... total time=   0.0s\n"
     ]
    },
    {
     "name": "stderr",
     "output_type": "stream",
     "text": [
      "[Parallel(n_jobs=1)]: Done  10 out of  10 | elapsed:    0.4s finished\n"
     ]
    }
   ],
   "source": [
    "cv_results = cross_val_score(NN_clf, \n",
    "                          X_scaled, y, \n",
    "                          cv=kfold,\n",
    "                          verbose=2)"
   ]
  },
  {
   "cell_type": "code",
   "execution_count": 65,
   "id": "038bdd1a",
   "metadata": {},
   "outputs": [
    {
     "name": "stdout",
     "output_type": "stream",
     "text": [
      "nan\n"
     ]
    }
   ],
   "source": [
    "print(round(cv_results.mean(),3))"
   ]
  },
  {
   "cell_type": "code",
   "execution_count": 69,
   "id": "1e7bc85c",
   "metadata": {},
   "outputs": [],
   "source": [
    "# Define a Stacking Classifier from Scikit Learn's moduel\n",
    "\n",
    "base_models = [\n",
    "    ('lr', LogisticRegression(solver = 'liblinear')),\n",
    "    ('KNN', KNeighborsClassifier(n_neighbors=11)),\n",
    "    #('NN_clf', KerasClassifier(build_fn=create_model, epochs=10, batch_size=100)),\n",
    "    ('rf', RandomForestClassifier(n_estimators=1000, min_samples_leaf=1, min_samples_split=2, random_state=42)),\n",
    "    ('df', DecisionTreeClassifier(criterion=\"entropy\", max_depth=3)),\n",
    "]\n",
    "\n",
    "stacked = StackingClassifier(\n",
    "    estimators = base_models,\n",
    "    final_estimator = DecisionTreeClassifier(criterion=\"entropy\", max_depth=3),\n",
    "    cv = 5)"
   ]
  },
  {
   "cell_type": "code",
   "execution_count": 70,
   "id": "fc9ae61e",
   "metadata": {},
   "outputs": [
    {
     "data": {
      "text/plain": [
       "StackingClassifier(cv=5,\n",
       "                   estimators=[('lr', LogisticRegression(solver='liblinear')),\n",
       "                               ('KNN', KNeighborsClassifier(n_neighbors=11)),\n",
       "                               ('rf',\n",
       "                                RandomForestClassifier(n_estimators=1000,\n",
       "                                                       random_state=42)),\n",
       "                               ('df',\n",
       "                                DecisionTreeClassifier(criterion='entropy',\n",
       "                                                       max_depth=3))],\n",
       "                   final_estimator=DecisionTreeClassifier(criterion='entropy',\n",
       "                                                          max_depth=3))"
      ]
     },
     "execution_count": 70,
     "metadata": {},
     "output_type": "execute_result"
    }
   ],
   "source": [
    "stacked"
   ]
  },
  {
   "cell_type": "code",
   "execution_count": 71,
   "id": "675c5f8b",
   "metadata": {},
   "outputs": [
    {
     "data": {
      "text/plain": [
       "0.8312890812890813"
      ]
     },
     "execution_count": 71,
     "metadata": {},
     "output_type": "execute_result"
    }
   ],
   "source": [
    "# Fit the StackedClassifier to the training data\n",
    "stacked.fit(X_train, y_train).score(X_test, y_test)"
   ]
  },
  {
   "cell_type": "code",
   "execution_count": null,
   "id": "0f19017a",
   "metadata": {},
   "outputs": [],
   "source": [
    "'''\n",
    "np.random.seed(0)\n",
    "\n",
    "network = models.Sequential()\n",
    "network.add(layers.Dense(units=32, \n",
    "                         activation='relu', \n",
    "                         input_shape=(scaled_features.shape[1],)))\n",
    "network.add(layers.Dense(units=32, activation='relu'))\n",
    "network.add(layers.Dense(units=1))\n",
    "\n",
    "history = network.fit(scaled_features,\n",
    "                     target, \n",
    "                     epochs=10,\n",
    "                     verbose=0, \n",
    "                     batch_size=100,\n",
    "                     validation_data=(test_features_scaled, test_target))\n",
    "'''"
   ]
  },
  {
   "cell_type": "code",
   "execution_count": 72,
   "id": "46cd7e35",
   "metadata": {},
   "outputs": [],
   "source": [
    "# Use the StackedClassifier fitted to the training data to predict the test data\n",
    "stacked_pred = stacked.predict(X_test)"
   ]
  },
  {
   "cell_type": "code",
   "execution_count": 73,
   "id": "94e16cae",
   "metadata": {},
   "outputs": [
    {
     "name": "stdout",
     "output_type": "stream",
     "text": [
      "Accuracy 0.8312890812890813\n"
     ]
    }
   ],
   "source": [
    "# Model Accuracy, how often is the Stackedclassifier correct?\n",
    "print(\"Accuracy\", metrics.accuracy_score(y_test, stacked_pred))"
   ]
  },
  {
   "cell_type": "code",
   "execution_count": 74,
   "id": "06cbbe9c",
   "metadata": {},
   "outputs": [
    {
     "name": "stdout",
     "output_type": "stream",
     "text": [
      "Stacked Classifier report: \n",
      "\n",
      "               precision    recall  f1-score   support\n",
      "\n",
      "           0       0.84      0.88      0.86      4850\n",
      "           1       0.82      0.76      0.79      3466\n",
      "\n",
      "    accuracy                           0.83      8316\n",
      "   macro avg       0.83      0.82      0.82      8316\n",
      "weighted avg       0.83      0.83      0.83      8316\n",
      "\n",
      "Test Accuracy: 83.13%\n"
     ]
    }
   ],
   "source": [
    "# Print confusion matrix and the accuracy score of the StackedClassifier model\n",
    "\n",
    "stacked_pred = stacked.predict(X_test)\n",
    "\n",
    "print(\"Stacked Classifier report: \\n\\n\", classification_report(y_test, stacked_pred))\n",
    "\n",
    "print(\"Test Accuracy: {}%\".format(round(stacked.score(X_test, y_test)*100,2)))"
   ]
  },
  {
   "cell_type": "markdown",
   "id": "ee4a40ff",
   "metadata": {},
   "source": [
    "## Interprete your results"
   ]
  },
  {
   "cell_type": "markdown",
   "id": "02f49038",
   "metadata": {},
   "source": [
    "### Our four models produced a varing degree of test accuracies.  Both logistics classifier and Random Forest models generated the test accuracy of about 82% and 83%, respectively whereas the Decision Tree Classifier and the KNN Classifier models, 78% and 66.7%, respecitively. "
   ]
  },
  {
   "cell_type": "markdown",
   "id": "8428cbb2",
   "metadata": {},
   "source": [
    "### To see if an ensemble model for the aforementioned four models improves the test accuracy, we built a stacking ensemble classifier model.  However, it produced the test accuracy of 83.13%.  Even though it did not necessarily improve the accuracy, it does prove that the Random Forest Classifier model is a sound model for us to use.  "
   ]
  },
  {
   "cell_type": "markdown",
   "id": "13fee152",
   "metadata": {},
   "source": [
    "### When the Random Forest Classifier gets hyperparameter tuned with Grid Search method, the test accuracy improves up to 89%.  "
   ]
  },
  {
   "cell_type": "code",
   "execution_count": null,
   "id": "b1636c47",
   "metadata": {},
   "outputs": [],
   "source": []
  }
 ],
 "metadata": {
  "kernelspec": {
   "display_name": "Python 3 (ipykernel)",
   "language": "python",
   "name": "python3"
  },
  "language_info": {
   "codemirror_mode": {
    "name": "ipython",
    "version": 3
   },
   "file_extension": ".py",
   "mimetype": "text/x-python",
   "name": "python",
   "nbconvert_exporter": "python",
   "pygments_lexer": "ipython3",
   "version": "3.9.12"
  }
 },
 "nbformat": 4,
 "nbformat_minor": 5
}
